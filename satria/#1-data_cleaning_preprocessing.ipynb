{
 "cells": [
  {
   "cell_type": "markdown",
   "id": "83d0223d",
   "metadata": {},
   "source": [
    "# Import Libraries"
   ]
  },
  {
   "cell_type": "code",
   "execution_count": 1,
   "id": "2f6cd560",
   "metadata": {},
   "outputs": [],
   "source": [
    "import pandas as pd\n",
    "import numpy as np\n",
    "import matplotlib.pyplot as plt\n",
    "\n",
    "# sklearn\n",
    "from sklearn.decomposition import PCA\n",
    "from sklearn.pipeline import Pipeline\n",
    "from sklearn.model_selection import train_test_split, StratifiedKFold\n",
    "from sklearn.preprocessing import StandardScaler, MinMaxScaler, LabelEncoder\n",
    "\n",
    "# utils\n",
    "import pickle\n",
    "import random"
   ]
  },
  {
   "cell_type": "code",
   "execution_count": 2,
   "id": "3d6e5177",
   "metadata": {},
   "outputs": [],
   "source": [
    "# for reproducecibility\n",
    "random_state = 60251014\n",
    "random.seed(random_state)"
   ]
  },
  {
   "cell_type": "markdown",
   "id": "ef9d2ee4",
   "metadata": {},
   "source": [
    "# Data Loading\n",
    "***\n",
    "Load data Breast Cancer **Diagnostic** and **Prognosis** <br>"
   ]
  },
  {
   "cell_type": "code",
   "execution_count": 3,
   "id": "42caace4",
   "metadata": {},
   "outputs": [],
   "source": [
    "breast_cancer_diagnosis = pd.read_csv('../dataset/wdbc_data.csv')\n",
    "breast_cancer_prognosis = pd.read_csv('../dataset/Prognosis Breast Cancer Dataset.csv', na_values='?')"
   ]
  },
  {
   "cell_type": "markdown",
   "id": "59c7043d",
   "metadata": {},
   "source": [
    "# Data Cleaning"
   ]
  },
  {
   "cell_type": "markdown",
   "id": "31bcffa8",
   "metadata": {},
   "source": [
    "## Check number of missing values in each dataset"
   ]
  },
  {
   "cell_type": "code",
   "execution_count": 4,
   "id": "fdbc37b5",
   "metadata": {},
   "outputs": [
    {
     "data": {
      "text/plain": [
       "id                         0\n",
       "outcome                    0\n",
       "reccurence_time            0\n",
       "radius_mean                0\n",
       "texture_mean               0\n",
       "perimeter_mean             0\n",
       "area_mean                  0\n",
       "smoothness_mean            0\n",
       "compactness_mean           0\n",
       "concavity_mean             0\n",
       "concave points_mean        0\n",
       "symmetry_mean              0\n",
       "fractal_dimension_mean     0\n",
       "radius_se                  0\n",
       "texture_se                 0\n",
       "perimeter_se               0\n",
       "area_se                    0\n",
       "smoothness_se              0\n",
       "compactness_se             0\n",
       "concavity_se               0\n",
       "concave points_se          0\n",
       "symmetry_se                0\n",
       "fractal_dimension_se       0\n",
       "radius_worst               0\n",
       "texture_worst              0\n",
       "perimeter_worst            0\n",
       "area_worst                 0\n",
       "smoothness_worst           0\n",
       "compactness_worst          0\n",
       "concavity_worst            0\n",
       "concave points_worst       0\n",
       "symmetry_worst             0\n",
       "fractal_dimension_worst    0\n",
       "tumor_size                 0\n",
       "lymph_node_status          4\n",
       "dtype: int64"
      ]
     },
     "execution_count": 4,
     "metadata": {},
     "output_type": "execute_result"
    }
   ],
   "source": [
    "breast_cancer_prognosis.isnull().sum()"
   ]
  },
  {
   "cell_type": "markdown",
   "id": "2c33741c",
   "metadata": {},
   "source": [
    "**Penjelasan** <br>\n",
    "Pada dataset Breast Cancer Prognosis, ada 4 kasus missing values pada atribut *lymph_node_status*. Berdasarkan paper rujukan, maka baris yang memuat missing values dihapuskan"
   ]
  },
  {
   "cell_type": "code",
   "execution_count": 5,
   "id": "077470a6",
   "metadata": {},
   "outputs": [
    {
     "data": {
      "text/plain": [
       "radius_mean               0\n",
       "perimeter_mean            0\n",
       "area_mean                 0\n",
       "compactness_mean          0\n",
       "concavity_mean            0\n",
       "concave_points_mean       0\n",
       "radius_se                 0\n",
       "perimeter_se              0\n",
       "area_se                   0\n",
       "radius_largest            0\n",
       "perimeter_largest         0\n",
       "area_largest              0\n",
       "compactness_largest       0\n",
       "concavity_largest         0\n",
       "concave_points_largest    0\n",
       "diagnosis                 0\n",
       "dtype: int64"
      ]
     },
     "execution_count": 5,
     "metadata": {},
     "output_type": "execute_result"
    }
   ],
   "source": [
    "breast_cancer_diagnosis.isnull().sum()"
   ]
  },
  {
   "cell_type": "markdown",
   "id": "ab3a2be2",
   "metadata": {},
   "source": [
    "### Remove Missing Values (if any)"
   ]
  },
  {
   "cell_type": "code",
   "execution_count": 6,
   "id": "2a158a27",
   "metadata": {},
   "outputs": [],
   "source": [
    "breast_cancer_prognosis.dropna(inplace=True)"
   ]
  },
  {
   "cell_type": "code",
   "execution_count": 7,
   "id": "b447dac9",
   "metadata": {},
   "outputs": [
    {
     "data": {
      "text/plain": [
       "0"
      ]
     },
     "execution_count": 7,
     "metadata": {},
     "output_type": "execute_result"
    }
   ],
   "source": [
    "breast_cancer_prognosis.isnull().sum().sum()"
   ]
  },
  {
   "cell_type": "markdown",
   "id": "3bf70ab6",
   "metadata": {},
   "source": [
    "## Check number of rows distribution"
   ]
  },
  {
   "cell_type": "code",
   "execution_count": 8,
   "id": "3032831a",
   "metadata": {},
   "outputs": [
    {
     "data": {
      "text/plain": [
       "N    147\n",
       "R     46\n",
       "Name: outcome, dtype: int64"
      ]
     },
     "execution_count": 8,
     "metadata": {},
     "output_type": "execute_result"
    }
   ],
   "source": [
    "breast_cancer_prognosis['outcome'].value_counts()"
   ]
  },
  {
   "cell_type": "code",
   "execution_count": 9,
   "id": "230921d7",
   "metadata": {},
   "outputs": [
    {
     "data": {
      "text/plain": [
       "0    357\n",
       "1    212\n",
       "Name: diagnosis, dtype: int64"
      ]
     },
     "execution_count": 9,
     "metadata": {},
     "output_type": "execute_result"
    }
   ],
   "source": [
    "breast_cancer_diagnosis['diagnosis'].value_counts()"
   ]
  },
  {
   "cell_type": "markdown",
   "id": "edfe48bd",
   "metadata": {},
   "source": [
    "**Penjelasan** <br>\n",
    "Pada Kedua dataset terjadi imbalanced class. Berdasarkan paper rujukan, imbalanced class dapat ditangani dengan upsampling atau downsampling. Namun sebelum disampling, dataset harus dibagi dulu ke dalam training set dan testing set. Hal ini mengacu dari paper rujukan yang menyebutkan menggunakan strategi *cost-sensitive learning*, salah satunya dengan menambahkan atau mengurangi jumlah instance dari data dengan label minoritas atau mayoritas"
   ]
  },
  {
   "cell_type": "markdown",
   "id": "d8426cac",
   "metadata": {},
   "source": [
    "# Data Preprocessing\n",
    "***\n",
    "Split data into 80% training set and 20% test set"
   ]
  },
  {
   "cell_type": "markdown",
   "id": "afaf308c",
   "metadata": {},
   "source": [
    "## Split data into training and testing set"
   ]
  },
  {
   "cell_type": "code",
   "execution_count": 10,
   "id": "c5b4c7f7",
   "metadata": {},
   "outputs": [],
   "source": [
    "X_diagnosis = breast_cancer_diagnosis.drop('diagnosis',axis=1)\n",
    "y_diagnosis = breast_cancer_diagnosis['diagnosis'].copy()\n",
    "X_prognosis = breast_cancer_prognosis.drop('outcome', axis=1)\n",
    "y_prognosis = breast_cancer_prognosis['outcome'].copy()\n",
    "\n",
    "\n",
    "# split into train and test\n",
    "X_train_diagnosis, X_test_diagnosis, y_train_diagnosis, y_test_diagnosis = train_test_split(\n",
    "    X_diagnosis, y_diagnosis, test_size=0.20, random_state=42)\n",
    "X_train_prognosis, X_test_prognosis, y_train_prognosis, y_test_prognosis = train_test_split(\n",
    "    X_prognosis, y_prognosis, test_size=0.20, random_state=42)"
   ]
  },
  {
   "cell_type": "code",
   "execution_count": 11,
   "id": "de14a1ce",
   "metadata": {},
   "outputs": [
    {
     "data": {
      "text/html": [
       "<div>\n",
       "<style scoped>\n",
       "    .dataframe tbody tr th:only-of-type {\n",
       "        vertical-align: middle;\n",
       "    }\n",
       "\n",
       "    .dataframe tbody tr th {\n",
       "        vertical-align: top;\n",
       "    }\n",
       "\n",
       "    .dataframe thead th {\n",
       "        text-align: right;\n",
       "    }\n",
       "</style>\n",
       "<table border=\"1\" class=\"dataframe\">\n",
       "  <thead>\n",
       "    <tr style=\"text-align: right;\">\n",
       "      <th></th>\n",
       "      <th>radius_mean</th>\n",
       "      <th>perimeter_mean</th>\n",
       "      <th>area_mean</th>\n",
       "      <th>compactness_mean</th>\n",
       "      <th>concavity_mean</th>\n",
       "      <th>concave_points_mean</th>\n",
       "      <th>radius_se</th>\n",
       "      <th>perimeter_se</th>\n",
       "      <th>area_se</th>\n",
       "      <th>radius_largest</th>\n",
       "      <th>perimeter_largest</th>\n",
       "      <th>area_largest</th>\n",
       "      <th>compactness_largest</th>\n",
       "      <th>concavity_largest</th>\n",
       "      <th>concave_points_largest</th>\n",
       "    </tr>\n",
       "  </thead>\n",
       "  <tbody>\n",
       "    <tr>\n",
       "      <th>68</th>\n",
       "      <td>9.029</td>\n",
       "      <td>58.79</td>\n",
       "      <td>250.5</td>\n",
       "      <td>0.14130</td>\n",
       "      <td>0.31300</td>\n",
       "      <td>0.04375</td>\n",
       "      <td>0.3274</td>\n",
       "      <td>1.885</td>\n",
       "      <td>17.67</td>\n",
       "      <td>10.31</td>\n",
       "      <td>65.50</td>\n",
       "      <td>324.7</td>\n",
       "      <td>0.43650</td>\n",
       "      <td>1.25200</td>\n",
       "      <td>0.17500</td>\n",
       "    </tr>\n",
       "    <tr>\n",
       "      <th>181</th>\n",
       "      <td>21.090</td>\n",
       "      <td>142.70</td>\n",
       "      <td>1311.0</td>\n",
       "      <td>0.28320</td>\n",
       "      <td>0.24870</td>\n",
       "      <td>0.14960</td>\n",
       "      <td>0.6298</td>\n",
       "      <td>4.414</td>\n",
       "      <td>81.46</td>\n",
       "      <td>26.68</td>\n",
       "      <td>176.50</td>\n",
       "      <td>2089.0</td>\n",
       "      <td>0.75840</td>\n",
       "      <td>0.67800</td>\n",
       "      <td>0.29030</td>\n",
       "    </tr>\n",
       "    <tr>\n",
       "      <th>63</th>\n",
       "      <td>9.173</td>\n",
       "      <td>59.20</td>\n",
       "      <td>260.9</td>\n",
       "      <td>0.08751</td>\n",
       "      <td>0.05988</td>\n",
       "      <td>0.02180</td>\n",
       "      <td>0.4098</td>\n",
       "      <td>2.608</td>\n",
       "      <td>23.52</td>\n",
       "      <td>10.01</td>\n",
       "      <td>65.59</td>\n",
       "      <td>310.1</td>\n",
       "      <td>0.16780</td>\n",
       "      <td>0.13970</td>\n",
       "      <td>0.05087</td>\n",
       "    </tr>\n",
       "    <tr>\n",
       "      <th>248</th>\n",
       "      <td>10.650</td>\n",
       "      <td>68.01</td>\n",
       "      <td>347.0</td>\n",
       "      <td>0.07234</td>\n",
       "      <td>0.02379</td>\n",
       "      <td>0.01615</td>\n",
       "      <td>0.2497</td>\n",
       "      <td>1.497</td>\n",
       "      <td>16.64</td>\n",
       "      <td>12.25</td>\n",
       "      <td>77.98</td>\n",
       "      <td>455.7</td>\n",
       "      <td>0.13980</td>\n",
       "      <td>0.11250</td>\n",
       "      <td>0.06136</td>\n",
       "    </tr>\n",
       "    <tr>\n",
       "      <th>60</th>\n",
       "      <td>10.170</td>\n",
       "      <td>64.55</td>\n",
       "      <td>311.9</td>\n",
       "      <td>0.08061</td>\n",
       "      <td>0.01084</td>\n",
       "      <td>0.01290</td>\n",
       "      <td>0.5158</td>\n",
       "      <td>3.312</td>\n",
       "      <td>34.62</td>\n",
       "      <td>11.02</td>\n",
       "      <td>69.86</td>\n",
       "      <td>368.6</td>\n",
       "      <td>0.09866</td>\n",
       "      <td>0.02168</td>\n",
       "      <td>0.02579</td>\n",
       "    </tr>\n",
       "  </tbody>\n",
       "</table>\n",
       "</div>"
      ],
      "text/plain": [
       "     radius_mean  perimeter_mean  area_mean  compactness_mean  concavity_mean  \\\n",
       "68         9.029           58.79      250.5           0.14130         0.31300   \n",
       "181       21.090          142.70     1311.0           0.28320         0.24870   \n",
       "63         9.173           59.20      260.9           0.08751         0.05988   \n",
       "248       10.650           68.01      347.0           0.07234         0.02379   \n",
       "60        10.170           64.55      311.9           0.08061         0.01084   \n",
       "\n",
       "     concave_points_mean  radius_se  perimeter_se  area_se  radius_largest  \\\n",
       "68               0.04375     0.3274         1.885    17.67           10.31   \n",
       "181              0.14960     0.6298         4.414    81.46           26.68   \n",
       "63               0.02180     0.4098         2.608    23.52           10.01   \n",
       "248              0.01615     0.2497         1.497    16.64           12.25   \n",
       "60               0.01290     0.5158         3.312    34.62           11.02   \n",
       "\n",
       "     perimeter_largest  area_largest  compactness_largest  concavity_largest  \\\n",
       "68               65.50         324.7              0.43650            1.25200   \n",
       "181             176.50        2089.0              0.75840            0.67800   \n",
       "63               65.59         310.1              0.16780            0.13970   \n",
       "248              77.98         455.7              0.13980            0.11250   \n",
       "60               69.86         368.6              0.09866            0.02168   \n",
       "\n",
       "     concave_points_largest  \n",
       "68                  0.17500  \n",
       "181                 0.29030  \n",
       "63                  0.05087  \n",
       "248                 0.06136  \n",
       "60                  0.02579  "
      ]
     },
     "execution_count": 11,
     "metadata": {},
     "output_type": "execute_result"
    }
   ],
   "source": [
    "X_train_diagnosis.head()"
   ]
  },
  {
   "cell_type": "code",
   "execution_count": 12,
   "id": "22bbdbb5",
   "metadata": {},
   "outputs": [
    {
     "data": {
      "text/html": [
       "<div>\n",
       "<style scoped>\n",
       "    .dataframe tbody tr th:only-of-type {\n",
       "        vertical-align: middle;\n",
       "    }\n",
       "\n",
       "    .dataframe tbody tr th {\n",
       "        vertical-align: top;\n",
       "    }\n",
       "\n",
       "    .dataframe thead th {\n",
       "        text-align: right;\n",
       "    }\n",
       "</style>\n",
       "<table border=\"1\" class=\"dataframe\">\n",
       "  <thead>\n",
       "    <tr style=\"text-align: right;\">\n",
       "      <th></th>\n",
       "      <th>id</th>\n",
       "      <th>reccurence_time</th>\n",
       "      <th>radius_mean</th>\n",
       "      <th>texture_mean</th>\n",
       "      <th>perimeter_mean</th>\n",
       "      <th>area_mean</th>\n",
       "      <th>smoothness_mean</th>\n",
       "      <th>compactness_mean</th>\n",
       "      <th>concavity_mean</th>\n",
       "      <th>concave points_mean</th>\n",
       "      <th>...</th>\n",
       "      <th>perimeter_worst</th>\n",
       "      <th>area_worst</th>\n",
       "      <th>smoothness_worst</th>\n",
       "      <th>compactness_worst</th>\n",
       "      <th>concavity_worst</th>\n",
       "      <th>concave points_worst</th>\n",
       "      <th>symmetry_worst</th>\n",
       "      <th>fractal_dimension_worst</th>\n",
       "      <th>tumor_size</th>\n",
       "      <th>lymph_node_status</th>\n",
       "    </tr>\n",
       "  </thead>\n",
       "  <tbody>\n",
       "    <tr>\n",
       "      <th>84</th>\n",
       "      <td>877486</td>\n",
       "      <td>5</td>\n",
       "      <td>19.18</td>\n",
       "      <td>22.49</td>\n",
       "      <td>127.5</td>\n",
       "      <td>1148.0</td>\n",
       "      <td>0.08523</td>\n",
       "      <td>0.14280</td>\n",
       "      <td>0.11140</td>\n",
       "      <td>0.06772</td>\n",
       "      <td>...</td>\n",
       "      <td>166.4</td>\n",
       "      <td>1688.0</td>\n",
       "      <td>0.1322</td>\n",
       "      <td>0.5601</td>\n",
       "      <td>0.3865</td>\n",
       "      <td>0.1708</td>\n",
       "      <td>0.3193</td>\n",
       "      <td>0.09221</td>\n",
       "      <td>3.0</td>\n",
       "      <td>1.0</td>\n",
       "    </tr>\n",
       "    <tr>\n",
       "      <th>112</th>\n",
       "      <td>889719</td>\n",
       "      <td>37</td>\n",
       "      <td>17.19</td>\n",
       "      <td>22.07</td>\n",
       "      <td>111.6</td>\n",
       "      <td>928.3</td>\n",
       "      <td>0.09726</td>\n",
       "      <td>0.08995</td>\n",
       "      <td>0.09061</td>\n",
       "      <td>0.06527</td>\n",
       "      <td>...</td>\n",
       "      <td>140.5</td>\n",
       "      <td>1436.0</td>\n",
       "      <td>0.1558</td>\n",
       "      <td>0.2567</td>\n",
       "      <td>0.3889</td>\n",
       "      <td>0.1984</td>\n",
       "      <td>0.3216</td>\n",
       "      <td>0.07570</td>\n",
       "      <td>8.5</td>\n",
       "      <td>6.0</td>\n",
       "    </tr>\n",
       "    <tr>\n",
       "      <th>166</th>\n",
       "      <td>917627</td>\n",
       "      <td>39</td>\n",
       "      <td>24.63</td>\n",
       "      <td>21.60</td>\n",
       "      <td>165.5</td>\n",
       "      <td>1841.0</td>\n",
       "      <td>0.10300</td>\n",
       "      <td>0.21060</td>\n",
       "      <td>0.23100</td>\n",
       "      <td>0.14710</td>\n",
       "      <td>...</td>\n",
       "      <td>205.7</td>\n",
       "      <td>2642.0</td>\n",
       "      <td>0.1342</td>\n",
       "      <td>0.4188</td>\n",
       "      <td>0.4658</td>\n",
       "      <td>0.2475</td>\n",
       "      <td>0.3157</td>\n",
       "      <td>0.09671</td>\n",
       "      <td>1.0</td>\n",
       "      <td>1.0</td>\n",
       "    </tr>\n",
       "    <tr>\n",
       "      <th>37</th>\n",
       "      <td>857010</td>\n",
       "      <td>8</td>\n",
       "      <td>18.65</td>\n",
       "      <td>17.60</td>\n",
       "      <td>123.7</td>\n",
       "      <td>1076.0</td>\n",
       "      <td>0.10990</td>\n",
       "      <td>0.16860</td>\n",
       "      <td>0.19740</td>\n",
       "      <td>0.10090</td>\n",
       "      <td>...</td>\n",
       "      <td>150.6</td>\n",
       "      <td>1567.0</td>\n",
       "      <td>0.1679</td>\n",
       "      <td>0.5090</td>\n",
       "      <td>0.7345</td>\n",
       "      <td>0.2378</td>\n",
       "      <td>0.3799</td>\n",
       "      <td>0.09185</td>\n",
       "      <td>1.8</td>\n",
       "      <td>0.0</td>\n",
       "    </tr>\n",
       "    <tr>\n",
       "      <th>139</th>\n",
       "      <td>90312</td>\n",
       "      <td>13</td>\n",
       "      <td>19.55</td>\n",
       "      <td>23.21</td>\n",
       "      <td>128.9</td>\n",
       "      <td>1174.0</td>\n",
       "      <td>0.10100</td>\n",
       "      <td>0.13180</td>\n",
       "      <td>0.18560</td>\n",
       "      <td>0.10210</td>\n",
       "      <td>...</td>\n",
       "      <td>142.0</td>\n",
       "      <td>1313.0</td>\n",
       "      <td>0.1251</td>\n",
       "      <td>0.2414</td>\n",
       "      <td>0.3829</td>\n",
       "      <td>0.1825</td>\n",
       "      <td>0.2576</td>\n",
       "      <td>0.07602</td>\n",
       "      <td>4.0</td>\n",
       "      <td>13.0</td>\n",
       "    </tr>\n",
       "  </tbody>\n",
       "</table>\n",
       "<p>5 rows × 34 columns</p>\n",
       "</div>"
      ],
      "text/plain": [
       "         id  reccurence_time  radius_mean  texture_mean  perimeter_mean  \\\n",
       "84   877486                5        19.18         22.49           127.5   \n",
       "112  889719               37        17.19         22.07           111.6   \n",
       "166  917627               39        24.63         21.60           165.5   \n",
       "37   857010                8        18.65         17.60           123.7   \n",
       "139   90312               13        19.55         23.21           128.9   \n",
       "\n",
       "     area_mean  smoothness_mean  compactness_mean  concavity_mean  \\\n",
       "84      1148.0          0.08523           0.14280         0.11140   \n",
       "112      928.3          0.09726           0.08995         0.09061   \n",
       "166     1841.0          0.10300           0.21060         0.23100   \n",
       "37      1076.0          0.10990           0.16860         0.19740   \n",
       "139     1174.0          0.10100           0.13180         0.18560   \n",
       "\n",
       "     concave points_mean  ...  perimeter_worst  area_worst  smoothness_worst  \\\n",
       "84               0.06772  ...            166.4      1688.0            0.1322   \n",
       "112              0.06527  ...            140.5      1436.0            0.1558   \n",
       "166              0.14710  ...            205.7      2642.0            0.1342   \n",
       "37               0.10090  ...            150.6      1567.0            0.1679   \n",
       "139              0.10210  ...            142.0      1313.0            0.1251   \n",
       "\n",
       "     compactness_worst  concavity_worst  concave points_worst  symmetry_worst  \\\n",
       "84              0.5601           0.3865                0.1708          0.3193   \n",
       "112             0.2567           0.3889                0.1984          0.3216   \n",
       "166             0.4188           0.4658                0.2475          0.3157   \n",
       "37              0.5090           0.7345                0.2378          0.3799   \n",
       "139             0.2414           0.3829                0.1825          0.2576   \n",
       "\n",
       "     fractal_dimension_worst  tumor_size  lymph_node_status  \n",
       "84                   0.09221         3.0                1.0  \n",
       "112                  0.07570         8.5                6.0  \n",
       "166                  0.09671         1.0                1.0  \n",
       "37                   0.09185         1.8                0.0  \n",
       "139                  0.07602         4.0               13.0  \n",
       "\n",
       "[5 rows x 34 columns]"
      ]
     },
     "execution_count": 12,
     "metadata": {},
     "output_type": "execute_result"
    }
   ],
   "source": [
    "X_train_prognosis.head()"
   ]
  },
  {
   "cell_type": "code",
   "execution_count": 13,
   "id": "0bb791a7",
   "metadata": {},
   "outputs": [
    {
     "data": {
      "text/plain": [
       "68     0\n",
       "181    1\n",
       "63     0\n",
       "248    0\n",
       "60     0\n",
       "Name: diagnosis, dtype: int64"
      ]
     },
     "execution_count": 13,
     "metadata": {},
     "output_type": "execute_result"
    }
   ],
   "source": [
    "y_train_diagnosis.head()"
   ]
  },
  {
   "cell_type": "code",
   "execution_count": 14,
   "id": "2115d832",
   "metadata": {},
   "outputs": [
    {
     "data": {
      "text/plain": [
       "84     N\n",
       "112    R\n",
       "166    N\n",
       "37     R\n",
       "139    N\n",
       "Name: outcome, dtype: object"
      ]
     },
     "execution_count": 14,
     "metadata": {},
     "output_type": "execute_result"
    }
   ],
   "source": [
    "y_train_prognosis.head()"
   ]
  },
  {
   "cell_type": "markdown",
   "id": "2ebb03ad",
   "metadata": {},
   "source": [
    "Label pada prognosis masih dalam bentuk karakter, sehingga diperlukan Label Encoding untuk mengubah karakter menjadi numerikal"
   ]
  },
  {
   "cell_type": "markdown",
   "id": "de08e10b",
   "metadata": {},
   "source": [
    "## Concat X and Y for sampling purposes"
   ]
  },
  {
   "cell_type": "code",
   "execution_count": 15,
   "id": "29d2e7d0",
   "metadata": {},
   "outputs": [],
   "source": [
    "df_train_diagnosis = pd.concat([X_train_diagnosis, y_train_diagnosis], axis=1)\n",
    "df_train_prognosis = pd.concat([X_train_prognosis, y_train_prognosis], axis=1)"
   ]
  },
  {
   "cell_type": "markdown",
   "id": "060b919f",
   "metadata": {},
   "source": [
    "## Downsampling the majority class"
   ]
  },
  {
   "cell_type": "code",
   "execution_count": 16,
   "id": "1c675aee",
   "metadata": {},
   "outputs": [
    {
     "name": "stdout",
     "output_type": "stream",
     "text": [
      "Number of minority class of Prognosis =  35\n",
      "Number of minority class of Diagnosis =  169\n"
     ]
    }
   ],
   "source": [
    "# print the number of rows of minority class\n",
    "minor_sample_prognosis = df_train_prognosis[\n",
    "    df_train_prognosis['outcome']=='R'\n",
    "]['outcome'].count()\n",
    "minor_sample_diagnosis = df_train_diagnosis[\n",
    "    df_train_diagnosis['diagnosis']==1\n",
    "]['diagnosis'].count()\n",
    "print('Number of minority class of Prognosis = ', minor_sample_prognosis)\n",
    "print('Number of minority class of Diagnosis = ', minor_sample_diagnosis)"
   ]
  },
  {
   "cell_type": "code",
   "execution_count": 17,
   "id": "01210039",
   "metadata": {},
   "outputs": [],
   "source": [
    "# random downsampling of majority class in each dataset\n",
    "df_train_diagnosis_downsampling = pd.concat([\n",
    "    df_train_diagnosis[\n",
    "        (df_train_diagnosis['diagnosis'] == 0)\n",
    "    ].sample(minor_sample_diagnosis, random_state=random_state),\n",
    "    df_train_diagnosis[\n",
    "        (df_train_diagnosis['diagnosis'] == 1)\n",
    "    ]\n",
    "],axis=0).sample(frac=1)\n",
    "df_train_prognosis_downsampling = pd.concat([\n",
    "    df_train_prognosis[\n",
    "        (df_train_prognosis['outcome'] == 'N')\n",
    "    ].sample(minor_sample_prognosis, random_state=random_state),\n",
    "    df_train_prognosis[\n",
    "        (df_train_prognosis['outcome'] == 'R')\n",
    "    ]\n",
    "],axis=0).sample(frac=1)"
   ]
  },
  {
   "cell_type": "code",
   "execution_count": 18,
   "id": "5b10688f",
   "metadata": {},
   "outputs": [
    {
     "data": {
      "text/plain": [
       "0    169\n",
       "1    169\n",
       "Name: diagnosis, dtype: int64"
      ]
     },
     "execution_count": 18,
     "metadata": {},
     "output_type": "execute_result"
    }
   ],
   "source": [
    "df_train_diagnosis_downsampling['diagnosis'].value_counts()"
   ]
  },
  {
   "cell_type": "code",
   "execution_count": 19,
   "id": "a07af19f",
   "metadata": {},
   "outputs": [
    {
     "data": {
      "text/plain": [
       "R    35\n",
       "N    35\n",
       "Name: outcome, dtype: int64"
      ]
     },
     "execution_count": 19,
     "metadata": {},
     "output_type": "execute_result"
    }
   ],
   "source": [
    "df_train_prognosis_downsampling['outcome'].value_counts()"
   ]
  },
  {
   "cell_type": "markdown",
   "id": "dee23056",
   "metadata": {},
   "source": [
    "## Upsampling the minority class\n",
    "***\n",
    "Minority class in **Prognosis**: R <br>\n",
    "Minority class in **Diagnossi**: 1"
   ]
  },
  {
   "cell_type": "code",
   "execution_count": 20,
   "id": "12460a61",
   "metadata": {},
   "outputs": [
    {
     "name": "stdout",
     "output_type": "stream",
     "text": [
      "Number of majority class of Prognosis =  119\n",
      "Number of majority class of Diagnosis =  286\n"
     ]
    }
   ],
   "source": [
    "# print the number of rows of majority class\n",
    "major_sample_prognosis = df_train_prognosis[\n",
    "    df_train_prognosis['outcome']=='N'\n",
    "]['outcome'].count()\n",
    "major_sample_diagnosis = df_train_diagnosis[\n",
    "    df_train_diagnosis['diagnosis']==0\n",
    "]['diagnosis'].count()\n",
    "print('Number of majority class of Prognosis = ', major_sample_prognosis)\n",
    "print('Number of majority class of Diagnosis = ', major_sample_diagnosis)"
   ]
  },
  {
   "cell_type": "code",
   "execution_count": 21,
   "id": "0a4f6f78",
   "metadata": {},
   "outputs": [],
   "source": [
    "# random upsampling of minority class in each dataset\n",
    "df_train_diagnosis_upsampling = pd.concat([\n",
    "    df_train_diagnosis[\n",
    "        (df_train_diagnosis['diagnosis'] == 1)\n",
    "    ].sample(major_sample_diagnosis, random_state=random_state, replace=True),\n",
    "    df_train_diagnosis[\n",
    "        (df_train_diagnosis['diagnosis'] == 0)\n",
    "    ]\n",
    "],axis=0).sample(frac=1)\n",
    "df_train_prognosis_upsampling = pd.concat([\n",
    "    df_train_prognosis[\n",
    "        (df_train_prognosis['outcome'] == 'R')\n",
    "    ].sample(major_sample_prognosis, random_state=random_state, replace=True),\n",
    "    df_train_prognosis[\n",
    "        (df_train_prognosis['outcome'] == 'N')\n",
    "    ]\n",
    "],axis=0).sample(frac=1)"
   ]
  },
  {
   "cell_type": "code",
   "execution_count": 22,
   "id": "af76dff4",
   "metadata": {},
   "outputs": [
    {
     "data": {
      "text/plain": [
       "1    286\n",
       "0    286\n",
       "Name: diagnosis, dtype: int64"
      ]
     },
     "execution_count": 22,
     "metadata": {},
     "output_type": "execute_result"
    }
   ],
   "source": [
    "df_train_diagnosis_upsampling['diagnosis'].value_counts()"
   ]
  },
  {
   "cell_type": "code",
   "execution_count": 23,
   "id": "6293f73c",
   "metadata": {},
   "outputs": [
    {
     "data": {
      "text/plain": [
       "N    119\n",
       "R    119\n",
       "Name: outcome, dtype: int64"
      ]
     },
     "execution_count": 23,
     "metadata": {},
     "output_type": "execute_result"
    }
   ],
   "source": [
    "df_train_prognosis_upsampling['outcome'].value_counts()"
   ]
  },
  {
   "cell_type": "markdown",
   "id": "f34df619",
   "metadata": {},
   "source": [
    "## Split X and Y after sampling processes"
   ]
  },
  {
   "cell_type": "code",
   "execution_count": 24,
   "id": "1d1a11fa",
   "metadata": {},
   "outputs": [],
   "source": [
    "# split X and Y in diagnosis breast cancer dataset after downsampling\n",
    "X_train_diagnosis_downsampling = df_train_diagnosis_downsampling.drop(['diagnosis'], axis=1)\n",
    "y_train_diagnosis_downsampling = df_train_diagnosis_downsampling['diagnosis'].copy()\n",
    "\n",
    "# split X and Y in diagnosis breast cancer dataset after upsampling\n",
    "X_train_diagnosis_upsampling = df_train_diagnosis_upsampling.drop(['diagnosis'], axis=1)\n",
    "y_train_diagnosis_upsampling = df_train_diagnosis_upsampling['diagnosis'].copy()\n",
    "\n",
    "# split X and Y in diagnosis breast cancer dataset after downsampling\n",
    "X_train_prognosis_downsampling = df_train_prognosis_downsampling.drop(['outcome'], axis=1)\n",
    "y_train_prognosis_downsampling = df_train_prognosis_downsampling['outcome'].copy()\n",
    "\n",
    "# split X and Y in prognosis breast cancer dataset after upsampling\n",
    "X_train_prognosis_upsampling = df_train_prognosis_upsampling.drop(['outcome'], axis=1)\n",
    "y_train_prognosis_upsampling = df_train_prognosis_upsampling['outcome'].copy()"
   ]
  },
  {
   "cell_type": "markdown",
   "id": "6cc737b2",
   "metadata": {},
   "source": [
    "## Label Encoding for target in Prognosis Dataset\n",
    "***\n",
    "Convert categorical into numerical attributes in Prognosis Label dataset"
   ]
  },
  {
   "cell_type": "code",
   "execution_count": 25,
   "id": "fca5dbcd",
   "metadata": {},
   "outputs": [],
   "source": [
    "label_encoder_prognosis = LabelEncoder()\n",
    "label_encoder_prognosis.fit(y_train_prognosis)\n",
    "\n",
    "y_train_prognosis = label_encoder_prognosis.transform(y_train_prognosis)\n",
    "y_train_prognosis_downsampling = label_encoder_prognosis.transform(y_train_prognosis_downsampling)\n",
    "y_train_prognosis_upsampling = label_encoder_prognosis.transform(y_train_prognosis_upsampling)\n",
    "y_test_prognosis = label_encoder_prognosis.transform(y_test_prognosis)"
   ]
  },
  {
   "cell_type": "code",
   "execution_count": 26,
   "id": "c6f8c2fd",
   "metadata": {},
   "outputs": [
    {
     "data": {
      "text/plain": [
       "array([1, 1, 0, 0, 0, 1, 0, 0, 1, 1, 0, 0, 0, 1, 0, 1, 0, 1, 1, 1, 0, 0,\n",
       "       1, 1, 0, 0, 0, 1, 0, 1, 1, 0, 1, 0, 0, 0, 0, 1, 1, 0, 0, 1, 1, 0,\n",
       "       1, 0, 1, 1, 1, 1, 1, 1, 0, 0, 1, 0, 1, 0, 1, 1, 1, 1, 1, 0, 0, 0,\n",
       "       0, 0, 0, 1])"
      ]
     },
     "execution_count": 26,
     "metadata": {},
     "output_type": "execute_result"
    }
   ],
   "source": [
    "y_train_prognosis_downsampling"
   ]
  },
  {
   "cell_type": "markdown",
   "id": "2002ed07",
   "metadata": {},
   "source": [
    "## Standardization for feature scaling\n",
    "***\n",
    "Di paper rujukan disebutkan: \"Data standardization was done to ensure that the data was consistent\" <br>"
   ]
  },
  {
   "cell_type": "code",
   "execution_count": 27,
   "id": "550258b9",
   "metadata": {},
   "outputs": [],
   "source": [
    "scaling_diagnosis = MinMaxScaler()\n",
    "scaling_prognosis = MinMaxScaler()\n",
    "scaling_diagnosis.fit(X_train_diagnosis)\n",
    "scaling_prognosis.fit(X_train_prognosis)\n",
    "\n",
    "\n",
    "# transform \n",
    "X_train_diagnosis = scaling_diagnosis.transform(X_train_diagnosis)\n",
    "X_test_diagnosis = scaling_diagnosis.transform(X_test_diagnosis)\n",
    "X_train_diagnosis_upsampling = scaling_diagnosis.transform(X_train_diagnosis_upsampling)\n",
    "X_train_diagnosis_downsampling = scaling_diagnosis.transform(X_train_diagnosis_downsampling)\n",
    "\n",
    "X_train_prognosis = scaling_prognosis.transform(X_train_prognosis)\n",
    "X_test_prognosis = scaling_prognosis.transform(X_test_prognosis)\n",
    "X_train_prognosis_upsampling = scaling_prognosis.transform(X_train_prognosis_upsampling)\n",
    "X_train_prognosis_downsampling = scaling_prognosis.transform(X_train_prognosis_downsampling)"
   ]
  },
  {
   "cell_type": "markdown",
   "id": "09715a6a",
   "metadata": {},
   "source": [
    "## Convert label from dataframe format into numpy array format"
   ]
  },
  {
   "cell_type": "code",
   "execution_count": 28,
   "id": "ea27e608",
   "metadata": {},
   "outputs": [
    {
     "data": {
      "text/plain": [
       "68     0\n",
       "181    1\n",
       "63     0\n",
       "248    0\n",
       "60     0\n",
       "Name: diagnosis, dtype: int64"
      ]
     },
     "execution_count": 28,
     "metadata": {},
     "output_type": "execute_result"
    }
   ],
   "source": [
    "# before\n",
    "y_train_diagnosis.head()"
   ]
  },
  {
   "cell_type": "code",
   "execution_count": 29,
   "id": "c1d7c0b0",
   "metadata": {},
   "outputs": [],
   "source": [
    "# convert into numpy array format for uniformity purposes\n",
    "y_train_diagnosis = y_train_diagnosis.to_numpy()\n",
    "y_train_diagnosis_downsampling = y_train_diagnosis_downsampling.to_numpy()\n",
    "y_train_diagnosis_upsampling = y_train_diagnosis_upsampling.to_numpy()\n",
    "y_test_diagnosis = y_test_diagnosis.to_numpy()"
   ]
  },
  {
   "cell_type": "markdown",
   "id": "10a32398",
   "metadata": {},
   "source": [
    "# Save preprocessed data"
   ]
  },
  {
   "cell_type": "code",
   "execution_count": 31,
   "id": "808db63b",
   "metadata": {},
   "outputs": [],
   "source": [
    "preprocessed_breast_cancer_data = {\n",
    "    'diagnosis': {\n",
    "        'original': {\n",
    "            'X_train': X_train_diagnosis,\n",
    "            'y_train': y_train_diagnosis,\n",
    "            'X_test': X_test_diagnosis,\n",
    "            'y_test': y_test_diagnosis,\n",
    "        },\n",
    "        'downsampling': {\n",
    "            'X_train': X_train_diagnosis_downsampling,\n",
    "            'y_train': y_train_diagnosis_downsampling,\n",
    "        },\n",
    "        'upsampling': {\n",
    "            'X_train': X_train_diagnosis_upsampling,\n",
    "            'y_train': y_train_diagnosis_upsampling,\n",
    "        }\n",
    "    },\n",
    "    'prognosis': {\n",
    "        'original': {\n",
    "            'X_train': X_train_prognosis,\n",
    "            'y_train': y_train_prognosis,\n",
    "            'X_test': X_test_prognosis,\n",
    "            'y_test': y_test_prognosis,\n",
    "        },\n",
    "        'downsampling': {\n",
    "            'X_train': X_train_prognosis_downsampling,\n",
    "            'y_train': y_train_prognosis_downsampling,\n",
    "        },\n",
    "        'upsampling': {\n",
    "            'X_train': X_train_prognosis_upsampling,\n",
    "            'y_train': y_train_prognosis_upsampling,\n",
    "        }\n",
    "    }\n",
    "}"
   ]
  },
  {
   "cell_type": "code",
   "execution_count": 32,
   "id": "40c5f680",
   "metadata": {},
   "outputs": [],
   "source": [
    "# save preprocessed data into pickle format\n",
    "pickle.dump(preprocessed_breast_cancer_data, open('../dataset/preprocessed_breast_cancer_data.pkl', 'wb'))"
   ]
  },
  {
   "cell_type": "code",
   "execution_count": null,
   "id": "0211a19b",
   "metadata": {},
   "outputs": [],
   "source": []
  }
 ],
 "metadata": {
  "kernelspec": {
   "display_name": "S2_computational_intelligence_final_project",
   "language": "python",
   "name": "s2_computational_intelligence_final_project"
  },
  "language_info": {
   "codemirror_mode": {
    "name": "ipython",
    "version": 3
   },
   "file_extension": ".py",
   "mimetype": "text/x-python",
   "name": "python",
   "nbconvert_exporter": "python",
   "pygments_lexer": "ipython3",
   "version": "3.10.4"
  },
  "toc": {
   "base_numbering": 1,
   "nav_menu": {},
   "number_sections": true,
   "sideBar": true,
   "skip_h1_title": false,
   "title_cell": "Table of Contents",
   "title_sidebar": "Contents",
   "toc_cell": false,
   "toc_position": {
    "height": "calc(100% - 180px)",
    "left": "10px",
    "top": "150px",
    "width": "308.319px"
   },
   "toc_section_display": true,
   "toc_window_display": false
  }
 },
 "nbformat": 4,
 "nbformat_minor": 5
}
