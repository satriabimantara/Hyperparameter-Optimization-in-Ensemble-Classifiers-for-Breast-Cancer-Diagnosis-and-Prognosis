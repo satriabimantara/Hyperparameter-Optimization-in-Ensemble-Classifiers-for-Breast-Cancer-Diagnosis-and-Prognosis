{
 "cells": [
  {
   "cell_type": "markdown",
   "id": "0875d3ca",
   "metadata": {},
   "source": [
    "# Import Libraries"
   ]
  },
  {
   "cell_type": "code",
   "execution_count": 1,
   "id": "e11ba7cc",
   "metadata": {},
   "outputs": [],
   "source": [
    "import pandas as pd\n",
    "import numpy as np\n",
    "import math\n",
    "\n",
    "# sklearn for utilization\n",
    "from sklearn.metrics import accuracy_score, classification_report, confusion_matrix, ConfusionMatrixDisplay\n",
    "from sklearn.metrics import recall_score, precision_score, fbeta_score\n",
    "from sklearn.model_selection import StratifiedKFold\n",
    "\n",
    "# modelling for ensemble method\n",
    "from sklearn.naive_bayes import MultinomialNB\n",
    "from sklearn.tree import DecisionTreeClassifier\n",
    "from sklearn.svm import SVC\n",
    "from sklearn.linear_model import LogisticRegression\n",
    "from sklearn.neural_network import MLPClassifier\n",
    "from sklearn.model_selection import cross_val_score\n",
    "from sklearn.model_selection import train_test_split\n",
    "\n",
    "# visualization purpose\n",
    "import matplotlib.pyplot as plt\n",
    "\n",
    "# utils\n",
    "import pickle\n",
    "import random\n",
    "import warnings\n",
    "warnings.filterwarnings(\"ignore\")\n",
    "\n",
    "# import our ensemble stacking model here\n",
    "from models.model_ensembles import EnsembleStacking\n",
    "\n",
    "# import our genetic algorithm model here\n",
    "from models.genetic_algorithm import GeneticAlgorithm"
   ]
  },
  {
   "cell_type": "code",
   "execution_count": 2,
   "id": "bd830e1f",
   "metadata": {},
   "outputs": [],
   "source": [
    "# for reproducecibility\n",
    "random_state = 60251014\n",
    "random.seed(random_state)"
   ]
  },
  {
   "cell_type": "markdown",
   "id": "f4d50c59",
   "metadata": {},
   "source": [
    "# Load Data After Preprocessing\n",
    "***\n",
    "Load data Breast Cancer Prognosis after cleaned and preprocessed"
   ]
  },
  {
   "cell_type": "code",
   "execution_count": 3,
   "id": "bff6093d",
   "metadata": {},
   "outputs": [],
   "source": [
    "breast_cancer_preprocessed = pickle.load(open('../dataset/preprocessed_breast_cancer_data.pkl', 'rb'))\n",
    "\n",
    "# prognosis breast cancer dataset\n",
    "prognosis_X_train_original = breast_cancer_preprocessed['prognosis']['original']['X_train']\n",
    "prognosis_X_train_downsampling = breast_cancer_preprocessed['prognosis']['downsampling']['X_train']\n",
    "prognosis_X_train_upsampling = breast_cancer_preprocessed['prognosis']['upsampling']['X_train']\n",
    "\n",
    "prognosis_y_train_original = breast_cancer_preprocessed['prognosis']['original']['y_train']\n",
    "prognosis_y_train_downsampling = breast_cancer_preprocessed['prognosis']['downsampling']['y_train']\n",
    "prognosis_y_train_upsampling = breast_cancer_preprocessed['prognosis']['upsampling']['y_train']\n",
    "\n",
    "prognosis_X_test_original = breast_cancer_preprocessed['prognosis']['original']['X_test']\n",
    "prognosis_y_test_original = breast_cancer_preprocessed['prognosis']['original']['y_test']"
   ]
  },
  {
   "cell_type": "markdown",
   "id": "577ab977",
   "metadata": {},
   "source": [
    "# Defining Global Variables"
   ]
  },
  {
   "cell_type": "code",
   "execution_count": 4,
   "id": "80f030e1",
   "metadata": {},
   "outputs": [],
   "source": [
    "kfold = StratifiedKFold(n_splits=5, random_state=45, shuffle=True)\n",
    "\n",
    "\n",
    "# Genetic Algorithm global variables\n",
    "number_of_chromosome = 45\n",
    "maximum_generations = 30\n",
    "crossover_rate = 0.85\n",
    "mutation_rate = 0.01\n",
    "convergence = 5"
   ]
  },
  {
   "cell_type": "markdown",
   "id": "13ee8a79",
   "metadata": {},
   "source": [
    "# Defining Global Functions"
   ]
  },
  {
   "cell_type": "code",
   "execution_count": 5,
   "id": "aec72c55",
   "metadata": {},
   "outputs": [],
   "source": [
    "def create_new_input_features(ensemble_classifiers, X, y):\n",
    "    all_predicted_results = dict()\n",
    "    list_of_majority_voting_each_models = list()\n",
    "    list_of_models = list()\n",
    "\n",
    "    for model_name, models in ensemble_classifiers.items():\n",
    "        # voting scenario for new data input prepration for ANN model\n",
    "        if len(models)!=0:\n",
    "            all_predicted_results[model_name] = dict()\n",
    "            for sub_model_name, dict_models in models.items():\n",
    "                all_predicted_results[model_name][sub_model_name] = dict_models['train'].predict(X)\n",
    "\n",
    "            # make dataframe for 5 model prediction results on X and get the mode label for that 5 prediction\n",
    "            model_df_voting = pd.DataFrame(all_predicted_results[model_name]).mode(axis=1)[0]\n",
    "            list_of_models.append('majority_vote_from_'+model_name)\n",
    "            list_of_majority_voting_each_models.append(model_df_voting)\n",
    "            \n",
    "    new_input_features = pd.concat(list_of_majority_voting_each_models, axis=1)\n",
    "    new_input_features.columns = list_of_models\n",
    "    new_input_features['ground_truth'] = y.copy()\n",
    "            \n",
    "    return new_input_features"
   ]
  },
  {
   "cell_type": "code",
   "execution_count": 6,
   "id": "7898c85d",
   "metadata": {},
   "outputs": [],
   "source": [
    "def print_model_experiment_results(name_of_scenario, y_test, y_pred):\n",
    "    print('\\t\\t' + '='*30)\n",
    "    print('\\t\\tHASIl UJI COBA {}'.format(name_of_scenario.upper()))\n",
    "    print('\\t\\t' + '='*30)\n",
    "    print(\"\\tAkurasi Score: \", accuracy_score(y_test, y_pred))\n",
    "    print(\"\\tMacro Recall Score: \", recall_score(y_test, y_pred, average='macro'))\n",
    "    print(\"\\tMacro Precision Score: \", precision_score(y_test, y_pred, average='macro'))\n",
    "    print(\"\\tMacro F1-score Score: \", fbeta_score(y_test, y_pred, beta=1, average='macro'))\n",
    "    print(\"\\tMacro F2-score Score: \", fbeta_score(y_test, y_pred, beta=2, average='macro'))\n",
    "    print(\"\\tMacro F0.5-score Score: \", fbeta_score(y_test, y_pred, beta=0.5, average='macro'))\n",
    "    \n",
    "    print()\n",
    "    print()\n",
    "    print(classification_report(y_test, y_pred))\n",
    "    cm = confusion_matrix(y_test, y_pred)\n",
    "    disp = ConfusionMatrixDisplay(confusion_matrix=cm)\n",
    "    plt.figure(figsize=(14,8))\n",
    "    disp.plot()\n",
    "    plt.show()"
   ]
  },
  {
   "cell_type": "markdown",
   "id": "1d292e11",
   "metadata": {},
   "source": [
    "# Modelling Ensemble Classifiers for Prognosis Breast Cancer using Genetic Optimization"
   ]
  },
  {
   "cell_type": "markdown",
   "id": "89eea91a",
   "metadata": {},
   "source": [
    "## Without Data Sampling Method (Original)"
   ]
  },
  {
   "cell_type": "markdown",
   "id": "6afcebe7",
   "metadata": {},
   "source": [
    "### GA Optimization using Data without sampling"
   ]
  },
  {
   "cell_type": "code",
   "execution_count": 7,
   "id": "d7da5388",
   "metadata": {},
   "outputs": [
    {
     "name": "stdout",
     "output_type": "stream",
     "text": [
      "ITERASI KE 0 | BEST FITNESS = 0.8105255376344086\n",
      "ITERASI KE 1 | BEST FITNESS = 0.8105255376344086\n",
      "ITERASI KE 2 | BEST FITNESS = 0.8095255376344086\n",
      "ITERASI KE 3 | BEST FITNESS = 0.8105255376344086\n",
      "ITERASI KE 4 | BEST FITNESS = 0.7994381720430108\n",
      "ITERASI KE 5 | BEST FITNESS = 0.7993965053763441\n",
      "ITERASI KE 6 | BEST FITNESS = 0.7983965053763441\n",
      "ITERASI KE 7 | BEST FITNESS = 0.7933965053763441\n",
      "ITERASI KE 8 | BEST FITNESS = 0.7993965053763441\n",
      "ITERASI KE 9 | BEST FITNESS = 0.7983965053763441\n",
      "ITERASI KE 10 | BEST FITNESS = 0.7994381720430108\n",
      "ITERASI KE 11 | BEST FITNESS = 0.7983965053763441\n",
      "ITERASI KE 12 | BEST FITNESS = 0.7994381720430108\n",
      "ITERASI KE 13 | BEST FITNESS = 0.7983965053763441\n",
      "ITERASI KE 14 | BEST FITNESS = 0.7994381720430108\n",
      "ITERASI KE 15 | BEST FITNESS = 0.7983965053763441\n",
      "ITERASI KE 16 | BEST FITNESS = 0.7983965053763441\n",
      "ITERASI KE 17 | BEST FITNESS = 0.7993965053763441\n",
      "ITERASI KE 18 | BEST FITNESS = 0.7994381720430108\n",
      "ITERASI KE 19 | BEST FITNESS = 0.7993965053763441\n",
      "ITERASI KE 20 | BEST FITNESS = 0.7994381720430108\n",
      "ITERASI KE 21 | BEST FITNESS = 0.7993965053763441\n",
      "ITERASI KE 22 | BEST FITNESS = 0.7994381720430108\n",
      "ITERASI KE 23 | BEST FITNESS = 0.7983965053763441\n",
      "ITERASI KE 24 | BEST FITNESS = 0.7994381720430108\n",
      "ITERASI KE 25 | BEST FITNESS = 0.7983965053763441\n",
      "ITERASI KE 26 | BEST FITNESS = 0.7994381720430108\n",
      "ITERASI KE 27 | BEST FITNESS = 0.7983965053763441\n",
      "ITERASI KE 28 | BEST FITNESS = 0.7994381720430108\n",
      "ITERASI KE 29 | BEST FITNESS = 0.7993965053763441\n"
     ]
    },
    {
     "data": {
      "image/png": "[encoded data removed]",
      "text/plain": [
       "<Figure size 864x576 with 1 Axes>"
      ]
     },
     "metadata": {
      "needs_background": "light"
     },
     "output_type": "display_data"
    },
    {
     "data": {
      "text/plain": [
       "[[[1.3, 'rbf', 'auto', 0.0001],\n",
       "  ['log_loss', 'random', 1, 6, 4],\n",
       "  ['l2', 'liblinear', 125, 0.0001],\n",
       "  [(50, 50), 'relu', 'lbfgs', 0.0001, 128, 'constant', 0.001, 200]],\n",
       " 0.7993965053763441]"
      ]
     },
     "execution_count": 7,
     "metadata": {},
     "output_type": "execute_result"
    }
   ],
   "source": [
    "ga_model_original = GeneticAlgorithm(\n",
    "    X_train=prognosis_X_train_original,\n",
    "    y_train=prognosis_y_train_original,\n",
    "    kfold=kfold,\n",
    "    number_of_chromosome=number_of_chromosome,\n",
    "    maximum_generations=maximum_generations,\n",
    "    crossover_rate=crossover_rate,\n",
    "    mutation_rate=mutation_rate,\n",
    "    convergence=convergence\n",
    ")\n",
    "last_populations_original = ga_model_original.train()\n",
    "\n",
    "# plot best fitness value in each generation\n",
    "ga_model_original.plot_best_fitness_values()\n",
    "\n",
    "# get the last generation for best solutions\n",
    "best_hyperparams_genetic_algorithm_solution = last_populations_original[0]\n",
    "best_hyperparams_svm = best_hyperparams_genetic_algorithm_solution[0][0]\n",
    "best_hyperparams_dt = best_hyperparams_genetic_algorithm_solution[0][1]\n",
    "best_hyperparams_logreg = best_hyperparams_genetic_algorithm_solution[0][2]\n",
    "best_hyperparams_ann = best_hyperparams_genetic_algorithm_solution[0][3]\n",
    "\n",
    "best_hyperparams_genetic_algorithm_solution"
   ]
  },
  {
   "cell_type": "markdown",
   "id": "ddafac2a",
   "metadata": {},
   "source": [
    "### Create Stacking ML Ensemble using 5-fold cross-validation"
   ]
  },
  {
   "cell_type": "code",
   "execution_count": 8,
   "id": "5abd4df1",
   "metadata": {},
   "outputs": [],
   "source": [
    "# create ensembles stacking method using GA hyperparameter optimized\n",
    "genetic_algorithm_ensemble_classifiers_prognosis_original = EnsembleStacking(\n",
    "    prognosis_X_train_original,\n",
    "    prognosis_y_train_original,\n",
    "    prognosis_X_test_original,\n",
    "    prognosis_y_test_original,\n",
    "    kfold,\n",
    "    svm_params={\n",
    "        'C': best_hyperparams_svm[0],\n",
    "        'kernel': best_hyperparams_svm[1],\n",
    "        'gamma': best_hyperparams_svm[2],\n",
    "        'tol': best_hyperparams_svm[3],\n",
    "    },\n",
    "    dt_params={\n",
    "        'criterion': best_hyperparams_dt[0],\n",
    "        'splitter': best_hyperparams_dt[1],\n",
    "        'max_depth': best_hyperparams_dt[2],\n",
    "        'min_samples_split': best_hyperparams_dt[3],\n",
    "        'min_samples_leaf': best_hyperparams_dt[4],\n",
    "    },\n",
    "    logreg_params={\n",
    "        'penalty': best_hyperparams_logreg[0],\n",
    "        'solver': best_hyperparams_logreg[1],\n",
    "        'max_iter': best_hyperparams_logreg[2],\n",
    "        'tol': best_hyperparams_logreg[3],\n",
    "    }\n",
    ").train_ensemble()"
   ]
  },
  {
   "cell_type": "code",
   "execution_count": 9,
   "id": "45962483",
   "metadata": {},
   "outputs": [
    {
     "data": {
      "text/html": [
       "<div>\n",
       "<style scoped>\n",
       "    .dataframe tbody tr th:only-of-type {\n",
       "        vertical-align: middle;\n",
       "    }\n",
       "\n",
       "    .dataframe tbody tr th {\n",
       "        vertical-align: top;\n",
       "    }\n",
       "\n",
       "    .dataframe thead th {\n",
       "        text-align: right;\n",
       "    }\n",
       "</style>\n",
       "<table border=\"1\" class=\"dataframe\">\n",
       "  <thead>\n",
       "    <tr style=\"text-align: right;\">\n",
       "      <th></th>\n",
       "      <th>train</th>\n",
       "      <th>training</th>\n",
       "      <th>validation</th>\n",
       "      <th>testing</th>\n",
       "    </tr>\n",
       "  </thead>\n",
       "  <tbody>\n",
       "    <tr>\n",
       "      <th>model-1</th>\n",
       "      <td>SVC(C=1.3, gamma='auto', tol=0.0001)</td>\n",
       "      <td>0.772358</td>\n",
       "      <td>0.774194</td>\n",
       "      <td>0.717949</td>\n",
       "    </tr>\n",
       "    <tr>\n",
       "      <th>model-2</th>\n",
       "      <td>SVC(C=1.3, gamma='auto', tol=0.0001)</td>\n",
       "      <td>0.772358</td>\n",
       "      <td>0.774194</td>\n",
       "      <td>0.717949</td>\n",
       "    </tr>\n",
       "    <tr>\n",
       "      <th>model-3</th>\n",
       "      <td>SVC(C=1.3, gamma='auto', tol=0.0001)</td>\n",
       "      <td>0.772358</td>\n",
       "      <td>0.774194</td>\n",
       "      <td>0.717949</td>\n",
       "    </tr>\n",
       "    <tr>\n",
       "      <th>model-4</th>\n",
       "      <td>SVC(C=1.3, gamma='auto', tol=0.0001)</td>\n",
       "      <td>0.772358</td>\n",
       "      <td>0.774194</td>\n",
       "      <td>0.717949</td>\n",
       "    </tr>\n",
       "    <tr>\n",
       "      <th>model-5</th>\n",
       "      <td>SVC(C=1.3, gamma='auto', tol=0.0001)</td>\n",
       "      <td>0.774194</td>\n",
       "      <td>0.766667</td>\n",
       "      <td>0.717949</td>\n",
       "    </tr>\n",
       "    <tr>\n",
       "      <th>model-3</th>\n",
       "      <td>LogisticRegression(max_iter=125, solver='libli...</td>\n",
       "      <td>0.796748</td>\n",
       "      <td>0.806452</td>\n",
       "      <td>0.794872</td>\n",
       "    </tr>\n",
       "    <tr>\n",
       "      <th>model-5</th>\n",
       "      <td>LogisticRegression(max_iter=125, solver='libli...</td>\n",
       "      <td>0.806452</td>\n",
       "      <td>0.766667</td>\n",
       "      <td>0.794872</td>\n",
       "    </tr>\n",
       "    <tr>\n",
       "      <th>model-1</th>\n",
       "      <td>LogisticRegression(max_iter=125, solver='libli...</td>\n",
       "      <td>0.772358</td>\n",
       "      <td>0.774194</td>\n",
       "      <td>0.769231</td>\n",
       "    </tr>\n",
       "    <tr>\n",
       "      <th>model-2</th>\n",
       "      <td>LogisticRegression(max_iter=125, solver='libli...</td>\n",
       "      <td>0.772358</td>\n",
       "      <td>0.774194</td>\n",
       "      <td>0.769231</td>\n",
       "    </tr>\n",
       "    <tr>\n",
       "      <th>model-4</th>\n",
       "      <td>LogisticRegression(max_iter=125, solver='libli...</td>\n",
       "      <td>0.788618</td>\n",
       "      <td>0.774194</td>\n",
       "      <td>0.74359</td>\n",
       "    </tr>\n",
       "    <tr>\n",
       "      <th>model-1</th>\n",
       "      <td>MultinomialNB()</td>\n",
       "      <td>0.772358</td>\n",
       "      <td>0.774194</td>\n",
       "      <td>0.74359</td>\n",
       "    </tr>\n",
       "    <tr>\n",
       "      <th>model-3</th>\n",
       "      <td>MultinomialNB()</td>\n",
       "      <td>0.772358</td>\n",
       "      <td>0.774194</td>\n",
       "      <td>0.74359</td>\n",
       "    </tr>\n",
       "    <tr>\n",
       "      <th>model-4</th>\n",
       "      <td>MultinomialNB()</td>\n",
       "      <td>0.772358</td>\n",
       "      <td>0.774194</td>\n",
       "      <td>0.74359</td>\n",
       "    </tr>\n",
       "    <tr>\n",
       "      <th>model-2</th>\n",
       "      <td>MultinomialNB()</td>\n",
       "      <td>0.772358</td>\n",
       "      <td>0.774194</td>\n",
       "      <td>0.717949</td>\n",
       "    </tr>\n",
       "    <tr>\n",
       "      <th>model-5</th>\n",
       "      <td>MultinomialNB()</td>\n",
       "      <td>0.774194</td>\n",
       "      <td>0.766667</td>\n",
       "      <td>0.717949</td>\n",
       "    </tr>\n",
       "    <tr>\n",
       "      <th>model-1</th>\n",
       "      <td>DecisionTreeClassifier(criterion='log_loss', m...</td>\n",
       "      <td>0.772358</td>\n",
       "      <td>0.774194</td>\n",
       "      <td>0.717949</td>\n",
       "    </tr>\n",
       "    <tr>\n",
       "      <th>model-2</th>\n",
       "      <td>DecisionTreeClassifier(criterion='log_loss', m...</td>\n",
       "      <td>0.772358</td>\n",
       "      <td>0.774194</td>\n",
       "      <td>0.717949</td>\n",
       "    </tr>\n",
       "    <tr>\n",
       "      <th>model-3</th>\n",
       "      <td>DecisionTreeClassifier(criterion='log_loss', m...</td>\n",
       "      <td>0.772358</td>\n",
       "      <td>0.774194</td>\n",
       "      <td>0.717949</td>\n",
       "    </tr>\n",
       "    <tr>\n",
       "      <th>model-4</th>\n",
       "      <td>DecisionTreeClassifier(criterion='log_loss', m...</td>\n",
       "      <td>0.772358</td>\n",
       "      <td>0.774194</td>\n",
       "      <td>0.717949</td>\n",
       "    </tr>\n",
       "    <tr>\n",
       "      <th>model-5</th>\n",
       "      <td>DecisionTreeClassifier(criterion='log_loss', m...</td>\n",
       "      <td>0.774194</td>\n",
       "      <td>0.766667</td>\n",
       "      <td>0.717949</td>\n",
       "    </tr>\n",
       "  </tbody>\n",
       "</table>\n",
       "</div>"
      ],
      "text/plain": [
       "                                                     train  training  \\\n",
       "model-1               SVC(C=1.3, gamma='auto', tol=0.0001)  0.772358   \n",
       "model-2               SVC(C=1.3, gamma='auto', tol=0.0001)  0.772358   \n",
       "model-3               SVC(C=1.3, gamma='auto', tol=0.0001)  0.772358   \n",
       "model-4               SVC(C=1.3, gamma='auto', tol=0.0001)  0.772358   \n",
       "model-5               SVC(C=1.3, gamma='auto', tol=0.0001)  0.774194   \n",
       "model-3  LogisticRegression(max_iter=125, solver='libli...  0.796748   \n",
       "model-5  LogisticRegression(max_iter=125, solver='libli...  0.806452   \n",
       "model-1  LogisticRegression(max_iter=125, solver='libli...  0.772358   \n",
       "model-2  LogisticRegression(max_iter=125, solver='libli...  0.772358   \n",
       "model-4  LogisticRegression(max_iter=125, solver='libli...  0.788618   \n",
       "model-1                                    MultinomialNB()  0.772358   \n",
       "model-3                                    MultinomialNB()  0.772358   \n",
       "model-4                                    MultinomialNB()  0.772358   \n",
       "model-2                                    MultinomialNB()  0.772358   \n",
       "model-5                                    MultinomialNB()  0.774194   \n",
       "model-1  DecisionTreeClassifier(criterion='log_loss', m...  0.772358   \n",
       "model-2  DecisionTreeClassifier(criterion='log_loss', m...  0.772358   \n",
       "model-3  DecisionTreeClassifier(criterion='log_loss', m...  0.772358   \n",
       "model-4  DecisionTreeClassifier(criterion='log_loss', m...  0.772358   \n",
       "model-5  DecisionTreeClassifier(criterion='log_loss', m...  0.774194   \n",
       "\n",
       "        validation   testing  \n",
       "model-1   0.774194  0.717949  \n",
       "model-2   0.774194  0.717949  \n",
       "model-3   0.774194  0.717949  \n",
       "model-4   0.774194  0.717949  \n",
       "model-5   0.766667  0.717949  \n",
       "model-3   0.806452  0.794872  \n",
       "model-5   0.766667  0.794872  \n",
       "model-1   0.774194  0.769231  \n",
       "model-2   0.774194  0.769231  \n",
       "model-4   0.774194   0.74359  \n",
       "model-1   0.774194   0.74359  \n",
       "model-3   0.774194   0.74359  \n",
       "model-4   0.774194   0.74359  \n",
       "model-2   0.774194  0.717949  \n",
       "model-5   0.766667  0.717949  \n",
       "model-1   0.774194  0.717949  \n",
       "model-2   0.774194  0.717949  \n",
       "model-3   0.774194  0.717949  \n",
       "model-4   0.774194  0.717949  \n",
       "model-5   0.766667  0.717949  "
      ]
     },
     "execution_count": 9,
     "metadata": {},
     "output_type": "execute_result"
    }
   ],
   "source": [
    "# create dataframe for easy understanding from ensemble classifiers stacking results\n",
    "genetic_algorithm_ensemble_classifiers_results_prognosis_original = list()\n",
    "for model in genetic_algorithm_ensemble_classifiers_prognosis_original.keys():\n",
    "    genetic_algorithm_ensemble_classifiers_results_prognosis_original.append(\n",
    "        pd.DataFrame(genetic_algorithm_ensemble_classifiers_prognosis_original[model]).transpose().sort_values(by=['testing'], ascending=False))\n",
    "\n",
    "# concat all dataframe results\n",
    "genetic_algorithm_ensemble_classifiers_results_prognosis_original = pd.concat(genetic_algorithm_ensemble_classifiers_results_prognosis_original, axis=0)\n",
    "genetic_algorithm_ensemble_classifiers_results_prognosis_original"
   ]
  },
  {
   "cell_type": "markdown",
   "id": "fb608c14",
   "metadata": {},
   "source": [
    "### Create New Input Training from stacking ensemble ML"
   ]
  },
  {
   "cell_type": "code",
   "execution_count": 10,
   "id": "c8fb4d4c",
   "metadata": {},
   "outputs": [],
   "source": [
    "genetic_algorithm_new_input_training_features_prognosis_original = create_new_input_features(\n",
    "    genetic_algorithm_ensemble_classifiers_prognosis_original, \n",
    "    prognosis_X_train_original,\n",
    "    prognosis_y_train_original\n",
    ")"
   ]
  },
  {
   "cell_type": "code",
   "execution_count": 11,
   "id": "b8bbfc86",
   "metadata": {},
   "outputs": [
    {
     "data": {
      "text/html": [
       "<div>\n",
       "<style scoped>\n",
       "    .dataframe tbody tr th:only-of-type {\n",
       "        vertical-align: middle;\n",
       "    }\n",
       "\n",
       "    .dataframe tbody tr th {\n",
       "        vertical-align: top;\n",
       "    }\n",
       "\n",
       "    .dataframe thead th {\n",
       "        text-align: right;\n",
       "    }\n",
       "</style>\n",
       "<table border=\"1\" class=\"dataframe\">\n",
       "  <thead>\n",
       "    <tr style=\"text-align: right;\">\n",
       "      <th></th>\n",
       "      <th>majority_vote_from_svm</th>\n",
       "      <th>majority_vote_from_logreg</th>\n",
       "      <th>majority_vote_from_naive_bayes</th>\n",
       "      <th>majority_vote_from_decision_tree</th>\n",
       "      <th>ground_truth</th>\n",
       "    </tr>\n",
       "  </thead>\n",
       "  <tbody>\n",
       "    <tr>\n",
       "      <th>0</th>\n",
       "      <td>0</td>\n",
       "      <td>0</td>\n",
       "      <td>0</td>\n",
       "      <td>0</td>\n",
       "      <td>0</td>\n",
       "    </tr>\n",
       "    <tr>\n",
       "      <th>1</th>\n",
       "      <td>0</td>\n",
       "      <td>0</td>\n",
       "      <td>0</td>\n",
       "      <td>0</td>\n",
       "      <td>1</td>\n",
       "    </tr>\n",
       "    <tr>\n",
       "      <th>2</th>\n",
       "      <td>0</td>\n",
       "      <td>0</td>\n",
       "      <td>0</td>\n",
       "      <td>0</td>\n",
       "      <td>0</td>\n",
       "    </tr>\n",
       "    <tr>\n",
       "      <th>3</th>\n",
       "      <td>0</td>\n",
       "      <td>0</td>\n",
       "      <td>0</td>\n",
       "      <td>0</td>\n",
       "      <td>1</td>\n",
       "    </tr>\n",
       "    <tr>\n",
       "      <th>4</th>\n",
       "      <td>0</td>\n",
       "      <td>0</td>\n",
       "      <td>0</td>\n",
       "      <td>0</td>\n",
       "      <td>0</td>\n",
       "    </tr>\n",
       "  </tbody>\n",
       "</table>\n",
       "</div>"
      ],
      "text/plain": [
       "   majority_vote_from_svm  majority_vote_from_logreg  \\\n",
       "0                       0                          0   \n",
       "1                       0                          0   \n",
       "2                       0                          0   \n",
       "3                       0                          0   \n",
       "4                       0                          0   \n",
       "\n",
       "   majority_vote_from_naive_bayes  majority_vote_from_decision_tree  \\\n",
       "0                               0                                 0   \n",
       "1                               0                                 0   \n",
       "2                               0                                 0   \n",
       "3                               0                                 0   \n",
       "4                               0                                 0   \n",
       "\n",
       "   ground_truth  \n",
       "0             0  \n",
       "1             1  \n",
       "2             0  \n",
       "3             1  \n",
       "4             0  "
      ]
     },
     "execution_count": 11,
     "metadata": {},
     "output_type": "execute_result"
    }
   ],
   "source": [
    "genetic_algorithm_new_input_training_features_prognosis_original.head()"
   ]
  },
  {
   "cell_type": "markdown",
   "id": "4d8c9f3b",
   "metadata": {},
   "source": [
    "### Feed New Input Features into ANN Model"
   ]
  },
  {
   "cell_type": "code",
   "execution_count": 12,
   "id": "948137df",
   "metadata": {},
   "outputs": [
    {
     "name": "stdout",
     "output_type": "stream",
     "text": [
      "Final Accuracy Score [Mls Ensembles + ANN] on Training Prognosis Dataset (Original) =  0.7922077922077922\n"
     ]
    }
   ],
   "source": [
    "# split X and y from new_input_features before feeding to ANN\n",
    "new_X_train = genetic_algorithm_new_input_training_features_prognosis_original.drop([\n",
    "                                                                                    'ground_truth'], axis=1)\n",
    "new_y_train = genetic_algorithm_new_input_training_features_prognosis_original[\n",
    "    'ground_truth']\n",
    "\n",
    "# feed new X and new y into ANN\n",
    "genetic_algorithm_ann_model_prognosis_original = MLPClassifier(\n",
    "    hidden_layer_sizes=best_hyperparams_ann[0],\n",
    "    activation=best_hyperparams_ann[1],\n",
    "    solver=best_hyperparams_ann[2],\n",
    "    alpha=best_hyperparams_ann[3],\n",
    "    batch_size=best_hyperparams_ann[4],\n",
    "    learning_rate=best_hyperparams_ann[5],\n",
    "    learning_rate_init=best_hyperparams_ann[6],\n",
    "    max_iter=best_hyperparams_ann[7]\n",
    ")\n",
    "genetic_algorithm_ann_model_prognosis_original.fit(new_X_train, new_y_train)\n",
    "predicted_ann_train_prognosis_original = genetic_algorithm_ann_model_prognosis_original.predict(\n",
    "    new_X_train)\n",
    "\n",
    "print(\"Final Accuracy Score [Mls Ensembles + ANN] on Training Prognosis Dataset (Original) = \",\n",
    "      accuracy_score(new_y_train, predicted_ann_train_prognosis_original))"
   ]
  },
  {
   "cell_type": "markdown",
   "id": "8c83f8a7",
   "metadata": {},
   "source": [
    "## With Data Sampling Method (Upsampling)"
   ]
  },
  {
   "cell_type": "markdown",
   "id": "82d49731",
   "metadata": {},
   "source": [
    "### GA Optimization using Data with Upsampling"
   ]
  },
  {
   "cell_type": "code",
   "execution_count": 13,
   "id": "ffe2116b",
   "metadata": {},
   "outputs": [
    {
     "name": "stdout",
     "output_type": "stream",
     "text": [
      "ITERASI KE 0 | BEST FITNESS = 0.8222587719298247\n",
      "ITERASI KE 1 | BEST FITNESS = 0.7900219298245614\n",
      "ITERASI KE 2 | BEST FITNESS = 0.7993421052631579\n",
      "ITERASI KE 3 | BEST FITNESS = 0.737390350877193\n",
      "ITERASI KE 4 | BEST FITNESS = 0.7308114035087718\n",
      "ITERASI KE 5 | BEST FITNESS = 0.7242324561403509\n",
      "ITERASI KE 6 | BEST FITNESS = 0.7281798245614035\n",
      "ITERASI KE 7 | BEST FITNESS = 0.7288377192982456\n",
      "ITERASI KE 8 | BEST FITNESS = 0.7308114035087718\n",
      "ITERASI KE 9 | BEST FITNESS = 0.7294956140350877\n",
      "ITERASI KE 10 | BEST FITNESS = 0.7288377192982456\n",
      "ITERASI KE 11 | BEST FITNESS = 0.7242324561403509\n",
      "ITERASI KE 12 | BEST FITNESS = 0.7275219298245614\n",
      "ITERASI KE 13 | BEST FITNESS = 0.7288377192982456\n",
      "ITERASI KE 14 | BEST FITNESS = 0.7275219298245614\n",
      "ITERASI KE 15 | BEST FITNESS = 0.7209429824561404\n",
      "ITERASI KE 16 | BEST FITNESS = 0.7275219298245614\n",
      "ITERASI KE 17 | BEST FITNESS = 0.7164473684210526\n",
      "ITERASI KE 18 | BEST FITNESS = 0.7230263157894736\n",
      "ITERASI KE 19 | BEST FITNESS = 0.7235745614035088\n",
      "ITERASI KE 20 | BEST FITNESS = 0.7235745614035087\n",
      "ITERASI KE 21 | BEST FITNESS = 0.7288377192982456\n",
      "ITERASI KE 22 | BEST FITNESS = 0.7301535087719297\n",
      "ITERASI KE 23 | BEST FITNESS = 0.7222587719298246\n",
      "ITERASI KE 24 | BEST FITNESS = 0.7294956140350877\n",
      "ITERASI KE 25 | BEST FITNESS = 0.724890350877193\n",
      "ITERASI KE 26 | BEST FITNESS = 0.7308114035087718\n",
      "ITERASI KE 27 | BEST FITNESS = 0.724890350877193\n",
      "ITERASI KE 28 | BEST FITNESS = 0.7248903508771931\n",
      "ITERASI KE 29 | BEST FITNESS = 0.7229166666666667\n"
     ]
    },
    {
     "data": {
      "image/png": "[encoded data removed]",
      "text/plain": [
       "<Figure size 864x576 with 1 Axes>"
      ]
     },
     "metadata": {
      "needs_background": "light"
     },
     "output_type": "display_data"
    },
    {
     "data": {
      "text/plain": [
       "[[[1.6, 'rbf', 'auto', 0.1],\n",
       "  ['gini', 'best', 5, 3, 3],\n",
       "  ['l1', 'liblinear', 100, 1e-05],\n",
       "  [50, 'logistic', 'adam', 0.0001, 32, 'constant', 0.004, 300]],\n",
       " 0.7229166666666667]"
      ]
     },
     "execution_count": 13,
     "metadata": {},
     "output_type": "execute_result"
    }
   ],
   "source": [
    "ga_model_upsampling = GeneticAlgorithm(\n",
    "    X_train=prognosis_X_train_upsampling,\n",
    "    y_train=prognosis_y_train_upsampling,\n",
    "    kfold=kfold,\n",
    "    number_of_chromosome=number_of_chromosome,\n",
    "    maximum_generations=maximum_generations,\n",
    "    crossover_rate=crossover_rate,\n",
    "    mutation_rate=mutation_rate,\n",
    "    convergence=convergence\n",
    ")\n",
    "last_populations_upsampling = ga_model_upsampling.train()\n",
    "\n",
    "# plot best fitness value in each generation\n",
    "ga_model_upsampling.plot_best_fitness_values()\n",
    "\n",
    "# get the last generation for best solutions\n",
    "best_hyperparams_genetic_algorithm_solution = last_populations_upsampling[0]\n",
    "best_hyperparams_svm = best_hyperparams_genetic_algorithm_solution[0][0]\n",
    "best_hyperparams_dt = best_hyperparams_genetic_algorithm_solution[0][1]\n",
    "best_hyperparams_logreg = best_hyperparams_genetic_algorithm_solution[0][2]\n",
    "best_hyperparams_ann = best_hyperparams_genetic_algorithm_solution[0][3]\n",
    "\n",
    "best_hyperparams_genetic_algorithm_solution"
   ]
  },
  {
   "cell_type": "markdown",
   "id": "e08c71e9",
   "metadata": {},
   "source": [
    "### Create Stacking ML Ensemble using 5-fold cross-validation"
   ]
  },
  {
   "cell_type": "code",
   "execution_count": 14,
   "id": "8d620fb9",
   "metadata": {},
   "outputs": [],
   "source": [
    "# create ensembles stacking method using GA hyperparameter optimized\n",
    "genetic_algorithm_ensemble_classifiers_prognosis_upsampling = EnsembleStacking(\n",
    "    prognosis_X_train_upsampling,\n",
    "    prognosis_y_train_upsampling,\n",
    "    prognosis_X_test_original,\n",
    "    prognosis_y_test_original,\n",
    "    kfold,\n",
    "    svm_params={\n",
    "        'C': best_hyperparams_svm[0],\n",
    "        'kernel': best_hyperparams_svm[1],\n",
    "        'gamma': best_hyperparams_svm[2],\n",
    "        'tol': best_hyperparams_svm[3],\n",
    "    },\n",
    "    dt_params={\n",
    "        'criterion': best_hyperparams_dt[0],\n",
    "        'splitter': best_hyperparams_dt[1],\n",
    "        'max_depth': best_hyperparams_dt[2],\n",
    "        'min_samples_split': best_hyperparams_dt[3],\n",
    "        'min_samples_leaf': best_hyperparams_dt[4],\n",
    "    },\n",
    "    logreg_params={\n",
    "        'penalty': best_hyperparams_logreg[0],\n",
    "        'solver': best_hyperparams_logreg[1],\n",
    "        'max_iter': best_hyperparams_logreg[2],\n",
    "        'tol': best_hyperparams_logreg[3],\n",
    "    }\n",
    ").train_ensemble()"
   ]
  },
  {
   "cell_type": "code",
   "execution_count": 15,
   "id": "f0849d6c",
   "metadata": {},
   "outputs": [
    {
     "data": {
      "text/html": [
       "<div>\n",
       "<style scoped>\n",
       "    .dataframe tbody tr th:only-of-type {\n",
       "        vertical-align: middle;\n",
       "    }\n",
       "\n",
       "    .dataframe tbody tr th {\n",
       "        vertical-align: top;\n",
       "    }\n",
       "\n",
       "    .dataframe thead th {\n",
       "        text-align: right;\n",
       "    }\n",
       "</style>\n",
       "<table border=\"1\" class=\"dataframe\">\n",
       "  <thead>\n",
       "    <tr style=\"text-align: right;\">\n",
       "      <th></th>\n",
       "      <th>train</th>\n",
       "      <th>training</th>\n",
       "      <th>validation</th>\n",
       "      <th>testing</th>\n",
       "    </tr>\n",
       "  </thead>\n",
       "  <tbody>\n",
       "    <tr>\n",
       "      <th>model-2</th>\n",
       "      <td>SVC(C=1.6, gamma='auto', tol=0.1)</td>\n",
       "      <td>0.678947</td>\n",
       "      <td>0.666667</td>\n",
       "      <td>0.717949</td>\n",
       "    </tr>\n",
       "    <tr>\n",
       "      <th>model-1</th>\n",
       "      <td>SVC(C=1.6, gamma='auto', tol=0.1)</td>\n",
       "      <td>0.694737</td>\n",
       "      <td>0.5625</td>\n",
       "      <td>0.666667</td>\n",
       "    </tr>\n",
       "    <tr>\n",
       "      <th>model-5</th>\n",
       "      <td>SVC(C=1.6, gamma='auto', tol=0.1)</td>\n",
       "      <td>0.685864</td>\n",
       "      <td>0.595745</td>\n",
       "      <td>0.666667</td>\n",
       "    </tr>\n",
       "    <tr>\n",
       "      <th>model-4</th>\n",
       "      <td>SVC(C=1.6, gamma='auto', tol=0.1)</td>\n",
       "      <td>0.664921</td>\n",
       "      <td>0.574468</td>\n",
       "      <td>0.641026</td>\n",
       "    </tr>\n",
       "    <tr>\n",
       "      <th>model-3</th>\n",
       "      <td>SVC(C=1.6, gamma='auto', tol=0.1)</td>\n",
       "      <td>0.657895</td>\n",
       "      <td>0.75</td>\n",
       "      <td>0.589744</td>\n",
       "    </tr>\n",
       "    <tr>\n",
       "      <th>model-5</th>\n",
       "      <td>LogisticRegression(penalty='l1', solver='libli...</td>\n",
       "      <td>0.73822</td>\n",
       "      <td>0.659574</td>\n",
       "      <td>0.769231</td>\n",
       "    </tr>\n",
       "    <tr>\n",
       "      <th>model-2</th>\n",
       "      <td>LogisticRegression(penalty='l1', solver='libli...</td>\n",
       "      <td>0.678947</td>\n",
       "      <td>0.729167</td>\n",
       "      <td>0.74359</td>\n",
       "    </tr>\n",
       "    <tr>\n",
       "      <th>model-3</th>\n",
       "      <td>LogisticRegression(penalty='l1', solver='libli...</td>\n",
       "      <td>0.663158</td>\n",
       "      <td>0.770833</td>\n",
       "      <td>0.717949</td>\n",
       "    </tr>\n",
       "    <tr>\n",
       "      <th>model-4</th>\n",
       "      <td>LogisticRegression(penalty='l1', solver='libli...</td>\n",
       "      <td>0.664921</td>\n",
       "      <td>0.617021</td>\n",
       "      <td>0.692308</td>\n",
       "    </tr>\n",
       "    <tr>\n",
       "      <th>model-1</th>\n",
       "      <td>LogisticRegression(penalty='l1', solver='libli...</td>\n",
       "      <td>0.705263</td>\n",
       "      <td>0.5625</td>\n",
       "      <td>0.666667</td>\n",
       "    </tr>\n",
       "    <tr>\n",
       "      <th>model-1</th>\n",
       "      <td>MultinomialNB()</td>\n",
       "      <td>0.647368</td>\n",
       "      <td>0.6875</td>\n",
       "      <td>0.666667</td>\n",
       "    </tr>\n",
       "    <tr>\n",
       "      <th>model-2</th>\n",
       "      <td>MultinomialNB()</td>\n",
       "      <td>0.621053</td>\n",
       "      <td>0.5625</td>\n",
       "      <td>0.666667</td>\n",
       "    </tr>\n",
       "    <tr>\n",
       "      <th>model-3</th>\n",
       "      <td>MultinomialNB()</td>\n",
       "      <td>0.684211</td>\n",
       "      <td>0.729167</td>\n",
       "      <td>0.641026</td>\n",
       "    </tr>\n",
       "    <tr>\n",
       "      <th>model-5</th>\n",
       "      <td>MultinomialNB()</td>\n",
       "      <td>0.691099</td>\n",
       "      <td>0.617021</td>\n",
       "      <td>0.641026</td>\n",
       "    </tr>\n",
       "    <tr>\n",
       "      <th>model-4</th>\n",
       "      <td>MultinomialNB()</td>\n",
       "      <td>0.638743</td>\n",
       "      <td>0.489362</td>\n",
       "      <td>0.589744</td>\n",
       "    </tr>\n",
       "    <tr>\n",
       "      <th>model-5</th>\n",
       "      <td>DecisionTreeClassifier(max_depth=5, min_sample...</td>\n",
       "      <td>0.910995</td>\n",
       "      <td>0.787234</td>\n",
       "      <td>0.820513</td>\n",
       "    </tr>\n",
       "    <tr>\n",
       "      <th>model-2</th>\n",
       "      <td>DecisionTreeClassifier(max_depth=5, min_sample...</td>\n",
       "      <td>0.889474</td>\n",
       "      <td>0.875</td>\n",
       "      <td>0.769231</td>\n",
       "    </tr>\n",
       "    <tr>\n",
       "      <th>model-4</th>\n",
       "      <td>DecisionTreeClassifier(max_depth=5, min_sample...</td>\n",
       "      <td>0.968586</td>\n",
       "      <td>0.87234</td>\n",
       "      <td>0.74359</td>\n",
       "    </tr>\n",
       "    <tr>\n",
       "      <th>model-1</th>\n",
       "      <td>DecisionTreeClassifier(max_depth=5, min_sample...</td>\n",
       "      <td>0.947368</td>\n",
       "      <td>0.791667</td>\n",
       "      <td>0.692308</td>\n",
       "    </tr>\n",
       "    <tr>\n",
       "      <th>model-3</th>\n",
       "      <td>DecisionTreeClassifier(max_depth=5, min_sample...</td>\n",
       "      <td>0.905263</td>\n",
       "      <td>0.75</td>\n",
       "      <td>0.641026</td>\n",
       "    </tr>\n",
       "  </tbody>\n",
       "</table>\n",
       "</div>"
      ],
      "text/plain": [
       "                                                     train  training  \\\n",
       "model-2                  SVC(C=1.6, gamma='auto', tol=0.1)  0.678947   \n",
       "model-1                  SVC(C=1.6, gamma='auto', tol=0.1)  0.694737   \n",
       "model-5                  SVC(C=1.6, gamma='auto', tol=0.1)  0.685864   \n",
       "model-4                  SVC(C=1.6, gamma='auto', tol=0.1)  0.664921   \n",
       "model-3                  SVC(C=1.6, gamma='auto', tol=0.1)  0.657895   \n",
       "model-5  LogisticRegression(penalty='l1', solver='libli...   0.73822   \n",
       "model-2  LogisticRegression(penalty='l1', solver='libli...  0.678947   \n",
       "model-3  LogisticRegression(penalty='l1', solver='libli...  0.663158   \n",
       "model-4  LogisticRegression(penalty='l1', solver='libli...  0.664921   \n",
       "model-1  LogisticRegression(penalty='l1', solver='libli...  0.705263   \n",
       "model-1                                    MultinomialNB()  0.647368   \n",
       "model-2                                    MultinomialNB()  0.621053   \n",
       "model-3                                    MultinomialNB()  0.684211   \n",
       "model-5                                    MultinomialNB()  0.691099   \n",
       "model-4                                    MultinomialNB()  0.638743   \n",
       "model-5  DecisionTreeClassifier(max_depth=5, min_sample...  0.910995   \n",
       "model-2  DecisionTreeClassifier(max_depth=5, min_sample...  0.889474   \n",
       "model-4  DecisionTreeClassifier(max_depth=5, min_sample...  0.968586   \n",
       "model-1  DecisionTreeClassifier(max_depth=5, min_sample...  0.947368   \n",
       "model-3  DecisionTreeClassifier(max_depth=5, min_sample...  0.905263   \n",
       "\n",
       "        validation   testing  \n",
       "model-2   0.666667  0.717949  \n",
       "model-1     0.5625  0.666667  \n",
       "model-5   0.595745  0.666667  \n",
       "model-4   0.574468  0.641026  \n",
       "model-3       0.75  0.589744  \n",
       "model-5   0.659574  0.769231  \n",
       "model-2   0.729167   0.74359  \n",
       "model-3   0.770833  0.717949  \n",
       "model-4   0.617021  0.692308  \n",
       "model-1     0.5625  0.666667  \n",
       "model-1     0.6875  0.666667  \n",
       "model-2     0.5625  0.666667  \n",
       "model-3   0.729167  0.641026  \n",
       "model-5   0.617021  0.641026  \n",
       "model-4   0.489362  0.589744  \n",
       "model-5   0.787234  0.820513  \n",
       "model-2      0.875  0.769231  \n",
       "model-4    0.87234   0.74359  \n",
       "model-1   0.791667  0.692308  \n",
       "model-3       0.75  0.641026  "
      ]
     },
     "execution_count": 15,
     "metadata": {},
     "output_type": "execute_result"
    }
   ],
   "source": [
    "# create dataframe for easy understanding from ensemble classifiers stacking results\n",
    "genetic_algorithm_ensemble_classifiers_results_prognosis_upsampling = list()\n",
    "for model in genetic_algorithm_ensemble_classifiers_prognosis_upsampling.keys():\n",
    "    genetic_algorithm_ensemble_classifiers_results_prognosis_upsampling.append(pd.DataFrame(genetic_algorithm_ensemble_classifiers_prognosis_upsampling[model]).transpose().sort_values(by=['testing'], ascending=False))\n",
    "\n",
    "# concat all dataframe results\n",
    "genetic_algorithm_ensemble_classifiers_results_prognosis_upsampling = pd.concat(genetic_algorithm_ensemble_classifiers_results_prognosis_upsampling, axis=0)\n",
    "genetic_algorithm_ensemble_classifiers_results_prognosis_upsampling"
   ]
  },
  {
   "cell_type": "markdown",
   "id": "8b5a0635",
   "metadata": {},
   "source": [
    "### Create New Input Training from stacking ensemble ML"
   ]
  },
  {
   "cell_type": "code",
   "execution_count": 16,
   "id": "4ac12b36",
   "metadata": {},
   "outputs": [],
   "source": [
    "genetic_algorithm_new_input_training_features_prognosis_upsampling = create_new_input_features(\n",
    "    genetic_algorithm_ensemble_classifiers_prognosis_upsampling, \n",
    "    prognosis_X_train_upsampling,\n",
    "    prognosis_y_train_upsampling\n",
    ")"
   ]
  },
  {
   "cell_type": "code",
   "execution_count": 17,
   "id": "c7c60e9f",
   "metadata": {},
   "outputs": [
    {
     "data": {
      "text/html": [
       "<div>\n",
       "<style scoped>\n",
       "    .dataframe tbody tr th:only-of-type {\n",
       "        vertical-align: middle;\n",
       "    }\n",
       "\n",
       "    .dataframe tbody tr th {\n",
       "        vertical-align: top;\n",
       "    }\n",
       "\n",
       "    .dataframe thead th {\n",
       "        text-align: right;\n",
       "    }\n",
       "</style>\n",
       "<table border=\"1\" class=\"dataframe\">\n",
       "  <thead>\n",
       "    <tr style=\"text-align: right;\">\n",
       "      <th></th>\n",
       "      <th>majority_vote_from_svm</th>\n",
       "      <th>majority_vote_from_logreg</th>\n",
       "      <th>majority_vote_from_naive_bayes</th>\n",
       "      <th>majority_vote_from_decision_tree</th>\n",
       "      <th>ground_truth</th>\n",
       "    </tr>\n",
       "  </thead>\n",
       "  <tbody>\n",
       "    <tr>\n",
       "      <th>0</th>\n",
       "      <td>0</td>\n",
       "      <td>0</td>\n",
       "      <td>1</td>\n",
       "      <td>0</td>\n",
       "      <td>0</td>\n",
       "    </tr>\n",
       "    <tr>\n",
       "      <th>1</th>\n",
       "      <td>0</td>\n",
       "      <td>0</td>\n",
       "      <td>1</td>\n",
       "      <td>1</td>\n",
       "      <td>1</td>\n",
       "    </tr>\n",
       "    <tr>\n",
       "      <th>2</th>\n",
       "      <td>0</td>\n",
       "      <td>0</td>\n",
       "      <td>0</td>\n",
       "      <td>1</td>\n",
       "      <td>1</td>\n",
       "    </tr>\n",
       "    <tr>\n",
       "      <th>3</th>\n",
       "      <td>1</td>\n",
       "      <td>0</td>\n",
       "      <td>1</td>\n",
       "      <td>0</td>\n",
       "      <td>0</td>\n",
       "    </tr>\n",
       "    <tr>\n",
       "      <th>4</th>\n",
       "      <td>0</td>\n",
       "      <td>0</td>\n",
       "      <td>0</td>\n",
       "      <td>1</td>\n",
       "      <td>0</td>\n",
       "    </tr>\n",
       "  </tbody>\n",
       "</table>\n",
       "</div>"
      ],
      "text/plain": [
       "   majority_vote_from_svm  majority_vote_from_logreg  \\\n",
       "0                       0                          0   \n",
       "1                       0                          0   \n",
       "2                       0                          0   \n",
       "3                       1                          0   \n",
       "4                       0                          0   \n",
       "\n",
       "   majority_vote_from_naive_bayes  majority_vote_from_decision_tree  \\\n",
       "0                               1                                 0   \n",
       "1                               1                                 1   \n",
       "2                               0                                 1   \n",
       "3                               1                                 0   \n",
       "4                               0                                 1   \n",
       "\n",
       "   ground_truth  \n",
       "0             0  \n",
       "1             1  \n",
       "2             1  \n",
       "3             0  \n",
       "4             0  "
      ]
     },
     "execution_count": 17,
     "metadata": {},
     "output_type": "execute_result"
    }
   ],
   "source": [
    "genetic_algorithm_new_input_training_features_prognosis_upsampling.head()"
   ]
  },
  {
   "cell_type": "markdown",
   "id": "df2f454a",
   "metadata": {},
   "source": [
    "### Feed New Input Features into ANN Model"
   ]
  },
  {
   "cell_type": "code",
   "execution_count": 18,
   "id": "108dca8d",
   "metadata": {},
   "outputs": [
    {
     "name": "stdout",
     "output_type": "stream",
     "text": [
      "Final Accuracy Score [Mls Ensembles + ANN] on Training Prognostic Dataset (Upsampling) =  0.9621848739495799\n"
     ]
    }
   ],
   "source": [
    "# split X and y from new_input_features before feeding to ANN\n",
    "new_X_train = genetic_algorithm_new_input_training_features_prognosis_upsampling.drop([\n",
    "                                                                                    'ground_truth'], axis=1)\n",
    "new_y_train = genetic_algorithm_new_input_training_features_prognosis_upsampling[\n",
    "    'ground_truth']\n",
    "\n",
    "# feed new X and new y into ANN\n",
    "genetic_algorithm_ann_model_prognosis_upsampling = MLPClassifier(\n",
    "    hidden_layer_sizes=best_hyperparams_ann[0],\n",
    "    activation=best_hyperparams_ann[1],\n",
    "    solver=best_hyperparams_ann[2],\n",
    "    alpha=best_hyperparams_ann[3],\n",
    "    batch_size=best_hyperparams_ann[4],\n",
    "    learning_rate=best_hyperparams_ann[5],\n",
    "    learning_rate_init=best_hyperparams_ann[6],\n",
    "    max_iter=best_hyperparams_ann[7]\n",
    ")\n",
    "genetic_algorithm_ann_model_prognosis_upsampling.fit(new_X_train, new_y_train)\n",
    "predicted_ann_train_prognosis_upsampling = genetic_algorithm_ann_model_prognosis_upsampling.predict(\n",
    "    new_X_train)\n",
    "\n",
    "print(\"Final Accuracy Score [Mls Ensembles + ANN] on Training Prognostic Dataset (Upsampling) = \",\n",
    "      accuracy_score(new_y_train, predicted_ann_train_prognosis_upsampling))"
   ]
  },
  {
   "cell_type": "markdown",
   "id": "03907b17",
   "metadata": {},
   "source": [
    "## With Data Sampling Method (Downsampling)"
   ]
  },
  {
   "cell_type": "markdown",
   "id": "98c91ef4",
   "metadata": {},
   "source": [
    "### GA Optimization using data with Downsampling"
   ]
  },
  {
   "cell_type": "code",
   "execution_count": 19,
   "id": "441f2514",
   "metadata": {},
   "outputs": [
    {
     "name": "stdout",
     "output_type": "stream",
     "text": [
      "ITERASI KE 0 | BEST FITNESS = 0.7194805194805194\n",
      "ITERASI KE 1 | BEST FITNESS = 0.705654761904762\n",
      "ITERASI KE 2 | BEST FITNESS = 0.7276244588744588\n",
      "ITERASI KE 3 | BEST FITNESS = 0.714366883116883\n",
      "ITERASI KE 4 | BEST FITNESS = 0.6814935064935064\n",
      "ITERASI KE 5 | BEST FITNESS = 0.6676677489177489\n",
      "ITERASI KE 6 | BEST FITNESS = 0.7474296536796537\n",
      "ITERASI KE 7 | BEST FITNESS = 0.6317640692640694\n",
      "ITERASI KE 8 | BEST FITNESS = 0.5780573593073594\n",
      "ITERASI KE 9 | BEST FITNESS = 0.7411796536796537\n",
      "ITERASI KE 10 | BEST FITNESS = 0.7102002164502164\n",
      "ITERASI KE 11 | BEST FITNESS = 0.6186958874458874\n",
      "ITERASI KE 12 | BEST FITNESS = 0.6963744588744589\n",
      "ITERASI KE 13 | BEST FITNESS = 0.7370129870129871\n",
      "ITERASI KE 14 | BEST FITNESS = 0.5941558441558442\n",
      "ITERASI KE 15 | BEST FITNESS = 0.714556277056277\n",
      "ITERASI KE 16 | BEST FITNESS = 0.7301948051948053\n",
      "ITERASI KE 17 | BEST FITNESS = 0.6166125541125541\n",
      "ITERASI KE 18 | BEST FITNESS = 0.5848755411255412\n",
      "ITERASI KE 19 | BEST FITNESS = 0.7497023809523811\n",
      "ITERASI KE 20 | BEST FITNESS = 0.7301948051948053\n",
      "ITERASI KE 21 | BEST FITNESS = 0.7096320346320346\n",
      "ITERASI KE 22 | BEST FITNESS = 0.6183170995670996\n",
      "ITERASI KE 23 | BEST FITNESS = 0.6025974025974027\n",
      "ITERASI KE 24 | BEST FITNESS = 0.6631222943722943\n",
      "ITERASI KE 25 | BEST FITNESS = 0.6272186147186147\n",
      "ITERASI KE 26 | BEST FITNESS = 0.6451298701298702\n",
      "ITERASI KE 27 | BEST FITNESS = 0.5918831168831169\n",
      "ITERASI KE 28 | BEST FITNESS = 0.7102002164502165\n",
      "ITERASI KE 29 | BEST FITNESS = 0.7415584415584415\n"
     ]
    },
    {
     "data": {
      "image/png": "[encoded data removed]",
      "text/plain": [
       "<Figure size 864x576 with 1 Axes>"
      ]
     },
     "metadata": {
      "needs_background": "light"
     },
     "output_type": "display_data"
    },
    {
     "data": {
      "text/plain": [
       "[[[1.8, 'linear', 'auto', 0.001],\n",
       "  ['entropy', 'random', 4, 2, 2],\n",
       "  ['none', 'sag', 100, 0.0001],\n",
       "  [(100, 25), 'logistic', 'lbfgs', 0.0001, 128, 'constant', 0.004, 250]],\n",
       " 0.7415584415584415]"
      ]
     },
     "execution_count": 19,
     "metadata": {},
     "output_type": "execute_result"
    }
   ],
   "source": [
    "ga_model_downsampling = GeneticAlgorithm(\n",
    "    X_train=prognosis_X_train_downsampling,\n",
    "    y_train=prognosis_y_train_downsampling,\n",
    "    kfold=kfold,\n",
    "    number_of_chromosome=number_of_chromosome,\n",
    "    maximum_generations=maximum_generations,\n",
    "    crossover_rate=crossover_rate,\n",
    "    mutation_rate=mutation_rate,\n",
    "    convergence=convergence\n",
    ")\n",
    "last_populations_downsampling = ga_model_downsampling.train()\n",
    "\n",
    "# plot best fitness value in each generation\n",
    "ga_model_downsampling.plot_best_fitness_values()\n",
    "\n",
    "# get the last generation for best solutions\n",
    "best_hyperparams_genetic_algorithm_solution = last_populations_downsampling[0]\n",
    "best_hyperparams_svm = best_hyperparams_genetic_algorithm_solution[0][0]\n",
    "best_hyperparams_dt = best_hyperparams_genetic_algorithm_solution[0][1]\n",
    "best_hyperparams_logreg = best_hyperparams_genetic_algorithm_solution[0][2]\n",
    "best_hyperparams_ann = best_hyperparams_genetic_algorithm_solution[0][3]\n",
    "\n",
    "best_hyperparams_genetic_algorithm_solution"
   ]
  },
  {
   "cell_type": "markdown",
   "id": "c2d13d72",
   "metadata": {},
   "source": [
    "### Create Stacking ML Ensemble using 5-fold cross-validation"
   ]
  },
  {
   "cell_type": "code",
   "execution_count": 20,
   "id": "304636d5",
   "metadata": {},
   "outputs": [],
   "source": [
    "# create ensembles stacking method using GA hyperparameter optimized\n",
    "genetic_algorithm_ensemble_classifiers_prognosis_downsampling = EnsembleStacking(\n",
    "    prognosis_X_train_downsampling,\n",
    "    prognosis_y_train_downsampling,\n",
    "    prognosis_X_test_original,\n",
    "    prognosis_y_test_original,\n",
    "    kfold,\n",
    "    svm_params={\n",
    "        'C': best_hyperparams_svm[0],\n",
    "        'kernel': best_hyperparams_svm[1],\n",
    "        'gamma': best_hyperparams_svm[2],\n",
    "        'tol': best_hyperparams_svm[3],\n",
    "    },\n",
    "    dt_params={\n",
    "        'criterion': best_hyperparams_dt[0],\n",
    "        'splitter': best_hyperparams_dt[1],\n",
    "        'max_depth': best_hyperparams_dt[2],\n",
    "        'min_samples_split': best_hyperparams_dt[3],\n",
    "        'min_samples_leaf': best_hyperparams_dt[4],\n",
    "    },\n",
    "    logreg_params={\n",
    "        'penalty': best_hyperparams_logreg[0],\n",
    "        'solver': best_hyperparams_logreg[1],\n",
    "        'max_iter': best_hyperparams_logreg[2],\n",
    "        'tol': best_hyperparams_logreg[3],\n",
    "    }\n",
    ").train_ensemble()"
   ]
  },
  {
   "cell_type": "code",
   "execution_count": 21,
   "id": "1817c4ee",
   "metadata": {},
   "outputs": [
    {
     "data": {
      "text/html": [
       "<div>\n",
       "<style scoped>\n",
       "    .dataframe tbody tr th:only-of-type {\n",
       "        vertical-align: middle;\n",
       "    }\n",
       "\n",
       "    .dataframe tbody tr th {\n",
       "        vertical-align: top;\n",
       "    }\n",
       "\n",
       "    .dataframe thead th {\n",
       "        text-align: right;\n",
       "    }\n",
       "</style>\n",
       "<table border=\"1\" class=\"dataframe\">\n",
       "  <thead>\n",
       "    <tr style=\"text-align: right;\">\n",
       "      <th></th>\n",
       "      <th>train</th>\n",
       "      <th>training</th>\n",
       "      <th>validation</th>\n",
       "      <th>testing</th>\n",
       "    </tr>\n",
       "  </thead>\n",
       "  <tbody>\n",
       "    <tr>\n",
       "      <th>model-2</th>\n",
       "      <td>SVC(C=1.8, gamma='auto', kernel='linear')</td>\n",
       "      <td>0.767857</td>\n",
       "      <td>0.714286</td>\n",
       "      <td>0.794872</td>\n",
       "    </tr>\n",
       "    <tr>\n",
       "      <th>model-3</th>\n",
       "      <td>SVC(C=1.8, gamma='auto', kernel='linear')</td>\n",
       "      <td>0.857143</td>\n",
       "      <td>0.5</td>\n",
       "      <td>0.692308</td>\n",
       "    </tr>\n",
       "    <tr>\n",
       "      <th>model-5</th>\n",
       "      <td>SVC(C=1.8, gamma='auto', kernel='linear')</td>\n",
       "      <td>0.767857</td>\n",
       "      <td>0.5</td>\n",
       "      <td>0.692308</td>\n",
       "    </tr>\n",
       "    <tr>\n",
       "      <th>model-4</th>\n",
       "      <td>SVC(C=1.8, gamma='auto', kernel='linear')</td>\n",
       "      <td>0.821429</td>\n",
       "      <td>0.642857</td>\n",
       "      <td>0.666667</td>\n",
       "    </tr>\n",
       "    <tr>\n",
       "      <th>model-1</th>\n",
       "      <td>SVC(C=1.8, gamma='auto', kernel='linear')</td>\n",
       "      <td>0.821429</td>\n",
       "      <td>0.5</td>\n",
       "      <td>0.641026</td>\n",
       "    </tr>\n",
       "    <tr>\n",
       "      <th>model-3</th>\n",
       "      <td>LogisticRegression(penalty='none', solver='sag')</td>\n",
       "      <td>0.875</td>\n",
       "      <td>0.5</td>\n",
       "      <td>0.769231</td>\n",
       "    </tr>\n",
       "    <tr>\n",
       "      <th>model-2</th>\n",
       "      <td>LogisticRegression(penalty='none', solver='sag')</td>\n",
       "      <td>0.910714</td>\n",
       "      <td>0.642857</td>\n",
       "      <td>0.74359</td>\n",
       "    </tr>\n",
       "    <tr>\n",
       "      <th>model-1</th>\n",
       "      <td>LogisticRegression(penalty='none', solver='sag')</td>\n",
       "      <td>0.857143</td>\n",
       "      <td>0.428571</td>\n",
       "      <td>0.717949</td>\n",
       "    </tr>\n",
       "    <tr>\n",
       "      <th>model-4</th>\n",
       "      <td>LogisticRegression(penalty='none', solver='sag')</td>\n",
       "      <td>0.857143</td>\n",
       "      <td>0.714286</td>\n",
       "      <td>0.717949</td>\n",
       "    </tr>\n",
       "    <tr>\n",
       "      <th>model-5</th>\n",
       "      <td>LogisticRegression(penalty='none', solver='sag')</td>\n",
       "      <td>0.857143</td>\n",
       "      <td>0.857143</td>\n",
       "      <td>0.615385</td>\n",
       "    </tr>\n",
       "    <tr>\n",
       "      <th>model-3</th>\n",
       "      <td>MultinomialNB()</td>\n",
       "      <td>0.732143</td>\n",
       "      <td>0.642857</td>\n",
       "      <td>0.769231</td>\n",
       "    </tr>\n",
       "    <tr>\n",
       "      <th>model-2</th>\n",
       "      <td>MultinomialNB()</td>\n",
       "      <td>0.660714</td>\n",
       "      <td>0.571429</td>\n",
       "      <td>0.717949</td>\n",
       "    </tr>\n",
       "    <tr>\n",
       "      <th>model-4</th>\n",
       "      <td>MultinomialNB()</td>\n",
       "      <td>0.732143</td>\n",
       "      <td>0.428571</td>\n",
       "      <td>0.692308</td>\n",
       "    </tr>\n",
       "    <tr>\n",
       "      <th>model-1</th>\n",
       "      <td>MultinomialNB()</td>\n",
       "      <td>0.732143</td>\n",
       "      <td>0.642857</td>\n",
       "      <td>0.666667</td>\n",
       "    </tr>\n",
       "    <tr>\n",
       "      <th>model-5</th>\n",
       "      <td>MultinomialNB()</td>\n",
       "      <td>0.714286</td>\n",
       "      <td>0.714286</td>\n",
       "      <td>0.538462</td>\n",
       "    </tr>\n",
       "    <tr>\n",
       "      <th>model-4</th>\n",
       "      <td>DecisionTreeClassifier(criterion='entropy', ma...</td>\n",
       "      <td>0.857143</td>\n",
       "      <td>0.571429</td>\n",
       "      <td>0.717949</td>\n",
       "    </tr>\n",
       "    <tr>\n",
       "      <th>model-1</th>\n",
       "      <td>DecisionTreeClassifier(criterion='entropy', ma...</td>\n",
       "      <td>0.910714</td>\n",
       "      <td>0.714286</td>\n",
       "      <td>0.666667</td>\n",
       "    </tr>\n",
       "    <tr>\n",
       "      <th>model-3</th>\n",
       "      <td>DecisionTreeClassifier(criterion='entropy', ma...</td>\n",
       "      <td>0.839286</td>\n",
       "      <td>0.785714</td>\n",
       "      <td>0.615385</td>\n",
       "    </tr>\n",
       "    <tr>\n",
       "      <th>model-5</th>\n",
       "      <td>DecisionTreeClassifier(criterion='entropy', ma...</td>\n",
       "      <td>0.75</td>\n",
       "      <td>0.714286</td>\n",
       "      <td>0.487179</td>\n",
       "    </tr>\n",
       "    <tr>\n",
       "      <th>model-2</th>\n",
       "      <td>DecisionTreeClassifier(criterion='entropy', ma...</td>\n",
       "      <td>0.910714</td>\n",
       "      <td>0.5</td>\n",
       "      <td>0.461538</td>\n",
       "    </tr>\n",
       "  </tbody>\n",
       "</table>\n",
       "</div>"
      ],
      "text/plain": [
       "                                                     train  training  \\\n",
       "model-2          SVC(C=1.8, gamma='auto', kernel='linear')  0.767857   \n",
       "model-3          SVC(C=1.8, gamma='auto', kernel='linear')  0.857143   \n",
       "model-5          SVC(C=1.8, gamma='auto', kernel='linear')  0.767857   \n",
       "model-4          SVC(C=1.8, gamma='auto', kernel='linear')  0.821429   \n",
       "model-1          SVC(C=1.8, gamma='auto', kernel='linear')  0.821429   \n",
       "model-3   LogisticRegression(penalty='none', solver='sag')     0.875   \n",
       "model-2   LogisticRegression(penalty='none', solver='sag')  0.910714   \n",
       "model-1   LogisticRegression(penalty='none', solver='sag')  0.857143   \n",
       "model-4   LogisticRegression(penalty='none', solver='sag')  0.857143   \n",
       "model-5   LogisticRegression(penalty='none', solver='sag')  0.857143   \n",
       "model-3                                    MultinomialNB()  0.732143   \n",
       "model-2                                    MultinomialNB()  0.660714   \n",
       "model-4                                    MultinomialNB()  0.732143   \n",
       "model-1                                    MultinomialNB()  0.732143   \n",
       "model-5                                    MultinomialNB()  0.714286   \n",
       "model-4  DecisionTreeClassifier(criterion='entropy', ma...  0.857143   \n",
       "model-1  DecisionTreeClassifier(criterion='entropy', ma...  0.910714   \n",
       "model-3  DecisionTreeClassifier(criterion='entropy', ma...  0.839286   \n",
       "model-5  DecisionTreeClassifier(criterion='entropy', ma...      0.75   \n",
       "model-2  DecisionTreeClassifier(criterion='entropy', ma...  0.910714   \n",
       "\n",
       "        validation   testing  \n",
       "model-2   0.714286  0.794872  \n",
       "model-3        0.5  0.692308  \n",
       "model-5        0.5  0.692308  \n",
       "model-4   0.642857  0.666667  \n",
       "model-1        0.5  0.641026  \n",
       "model-3        0.5  0.769231  \n",
       "model-2   0.642857   0.74359  \n",
       "model-1   0.428571  0.717949  \n",
       "model-4   0.714286  0.717949  \n",
       "model-5   0.857143  0.615385  \n",
       "model-3   0.642857  0.769231  \n",
       "model-2   0.571429  0.717949  \n",
       "model-4   0.428571  0.692308  \n",
       "model-1   0.642857  0.666667  \n",
       "model-5   0.714286  0.538462  \n",
       "model-4   0.571429  0.717949  \n",
       "model-1   0.714286  0.666667  \n",
       "model-3   0.785714  0.615385  \n",
       "model-5   0.714286  0.487179  \n",
       "model-2        0.5  0.461538  "
      ]
     },
     "execution_count": 21,
     "metadata": {},
     "output_type": "execute_result"
    }
   ],
   "source": [
    "# create dataframe for easy understanding from ensemble classifiers stacking results\n",
    "genetic_algorithm_ensemble_classifiers_results_prognosis_downsampling = list()\n",
    "for model in genetic_algorithm_ensemble_classifiers_prognosis_downsampling.keys():\n",
    "    genetic_algorithm_ensemble_classifiers_results_prognosis_downsampling.append(pd.DataFrame(genetic_algorithm_ensemble_classifiers_prognosis_downsampling[model]).transpose().sort_values(by=['testing'], ascending=False))\n",
    "\n",
    "# concat all dataframe results\n",
    "genetic_algorithm_ensemble_classifiers_results_prognosis_downsampling = pd.concat(genetic_algorithm_ensemble_classifiers_results_prognosis_downsampling, axis=0)\n",
    "genetic_algorithm_ensemble_classifiers_results_prognosis_downsampling"
   ]
  },
  {
   "cell_type": "markdown",
   "id": "ec74788f",
   "metadata": {},
   "source": [
    "### Create New Input Training from stacking ensemble ML"
   ]
  },
  {
   "cell_type": "code",
   "execution_count": 22,
   "id": "46366ce4",
   "metadata": {},
   "outputs": [],
   "source": [
    "genetic_algorithm_new_input_training_features_prognosis_downsampling = create_new_input_features(\n",
    "    genetic_algorithm_ensemble_classifiers_prognosis_downsampling, \n",
    "    prognosis_X_train_downsampling,\n",
    "    prognosis_y_train_downsampling\n",
    ")"
   ]
  },
  {
   "cell_type": "code",
   "execution_count": 23,
   "id": "751db8a6",
   "metadata": {},
   "outputs": [
    {
     "data": {
      "text/html": [
       "<div>\n",
       "<style scoped>\n",
       "    .dataframe tbody tr th:only-of-type {\n",
       "        vertical-align: middle;\n",
       "    }\n",
       "\n",
       "    .dataframe tbody tr th {\n",
       "        vertical-align: top;\n",
       "    }\n",
       "\n",
       "    .dataframe thead th {\n",
       "        text-align: right;\n",
       "    }\n",
       "</style>\n",
       "<table border=\"1\" class=\"dataframe\">\n",
       "  <thead>\n",
       "    <tr style=\"text-align: right;\">\n",
       "      <th></th>\n",
       "      <th>majority_vote_from_svm</th>\n",
       "      <th>majority_vote_from_logreg</th>\n",
       "      <th>majority_vote_from_naive_bayes</th>\n",
       "      <th>majority_vote_from_decision_tree</th>\n",
       "      <th>ground_truth</th>\n",
       "    </tr>\n",
       "  </thead>\n",
       "  <tbody>\n",
       "    <tr>\n",
       "      <th>0</th>\n",
       "      <td>1</td>\n",
       "      <td>1</td>\n",
       "      <td>1</td>\n",
       "      <td>1</td>\n",
       "      <td>1</td>\n",
       "    </tr>\n",
       "    <tr>\n",
       "      <th>1</th>\n",
       "      <td>1</td>\n",
       "      <td>1</td>\n",
       "      <td>1</td>\n",
       "      <td>1</td>\n",
       "      <td>1</td>\n",
       "    </tr>\n",
       "    <tr>\n",
       "      <th>2</th>\n",
       "      <td>0</td>\n",
       "      <td>0</td>\n",
       "      <td>1</td>\n",
       "      <td>0</td>\n",
       "      <td>0</td>\n",
       "    </tr>\n",
       "    <tr>\n",
       "      <th>3</th>\n",
       "      <td>1</td>\n",
       "      <td>1</td>\n",
       "      <td>0</td>\n",
       "      <td>1</td>\n",
       "      <td>0</td>\n",
       "    </tr>\n",
       "    <tr>\n",
       "      <th>4</th>\n",
       "      <td>0</td>\n",
       "      <td>0</td>\n",
       "      <td>0</td>\n",
       "      <td>0</td>\n",
       "      <td>0</td>\n",
       "    </tr>\n",
       "  </tbody>\n",
       "</table>\n",
       "</div>"
      ],
      "text/plain": [
       "   majority_vote_from_svm  majority_vote_from_logreg  \\\n",
       "0                       1                          1   \n",
       "1                       1                          1   \n",
       "2                       0                          0   \n",
       "3                       1                          1   \n",
       "4                       0                          0   \n",
       "\n",
       "   majority_vote_from_naive_bayes  majority_vote_from_decision_tree  \\\n",
       "0                               1                                 1   \n",
       "1                               1                                 1   \n",
       "2                               1                                 0   \n",
       "3                               0                                 1   \n",
       "4                               0                                 0   \n",
       "\n",
       "   ground_truth  \n",
       "0             1  \n",
       "1             1  \n",
       "2             0  \n",
       "3             0  \n",
       "4             0  "
      ]
     },
     "execution_count": 23,
     "metadata": {},
     "output_type": "execute_result"
    }
   ],
   "source": [
    "genetic_algorithm_new_input_training_features_prognosis_downsampling.head()"
   ]
  },
  {
   "cell_type": "markdown",
   "id": "717305e5",
   "metadata": {},
   "source": [
    "### Feed New Input Features into ANN Model"
   ]
  },
  {
   "cell_type": "code",
   "execution_count": 24,
   "id": "bd5c4c36",
   "metadata": {},
   "outputs": [
    {
     "name": "stdout",
     "output_type": "stream",
     "text": [
      "Final Accuracy Score [Mls Ensembles + ANN] on Training Prognostic Dataset (Downsampling) =  0.9428571428571428\n"
     ]
    }
   ],
   "source": [
    "# split X and y from new_input_features before feeding to ANN\n",
    "new_X_train = genetic_algorithm_new_input_training_features_prognosis_downsampling.drop([\n",
    "                                                                                    'ground_truth'], axis=1)\n",
    "new_y_train = genetic_algorithm_new_input_training_features_prognosis_downsampling[\n",
    "    'ground_truth']\n",
    "\n",
    "# feed new X and new y into ANN\n",
    "genetic_algorithm_ann_model_prognosis_downsampling = MLPClassifier(\n",
    "    hidden_layer_sizes=best_hyperparams_ann[0],\n",
    "    activation=best_hyperparams_ann[1],\n",
    "    solver=best_hyperparams_ann[2],\n",
    "    alpha=best_hyperparams_ann[3],\n",
    "    batch_size=best_hyperparams_ann[4],\n",
    "    learning_rate=best_hyperparams_ann[5],\n",
    "    learning_rate_init=best_hyperparams_ann[6],\n",
    "    max_iter=best_hyperparams_ann[7]\n",
    ")\n",
    "genetic_algorithm_ann_model_prognosis_downsampling.fit(new_X_train, new_y_train)\n",
    "predicted_ann_train_prognosis_downsampling = genetic_algorithm_ann_model_prognosis_downsampling.predict(\n",
    "    new_X_train)\n",
    "\n",
    "print(\"Final Accuracy Score [Mls Ensembles + ANN] on Training Prognostic Dataset (Downsampling) = \",\n",
    "      accuracy_score(new_y_train, predicted_ann_train_prognosis_downsampling))"
   ]
  },
  {
   "cell_type": "markdown",
   "id": "cff0804e",
   "metadata": {},
   "source": [
    "# Modelling Ensemble Classifiers for Diagnosis Breast Cancer Dataset (Default Hyperparameters)"
   ]
  },
  {
   "cell_type": "markdown",
   "id": "ffe201e2",
   "metadata": {},
   "source": [
    "## Without Data Sampling Method (Original)"
   ]
  },
  {
   "cell_type": "markdown",
   "id": "81d27d13",
   "metadata": {},
   "source": [
    "### Create Stacking ML Ensemble using 5-fold cross-validation"
   ]
  },
  {
   "cell_type": "code",
   "execution_count": 25,
   "id": "f12ebcb5",
   "metadata": {},
   "outputs": [],
   "source": [
    "ensemble_classifiers_prognosis_original = EnsembleStacking(\n",
    "    prognosis_X_train_original, \n",
    "    prognosis_y_train_original, \n",
    "    prognosis_X_test_original, \n",
    "    prognosis_y_test_original, \n",
    "    kfold).train_ensemble()"
   ]
  },
  {
   "cell_type": "code",
   "execution_count": 26,
   "id": "e18cb624",
   "metadata": {},
   "outputs": [
    {
     "data": {
      "text/html": [
       "<div>\n",
       "<style scoped>\n",
       "    .dataframe tbody tr th:only-of-type {\n",
       "        vertical-align: middle;\n",
       "    }\n",
       "\n",
       "    .dataframe tbody tr th {\n",
       "        vertical-align: top;\n",
       "    }\n",
       "\n",
       "    .dataframe thead th {\n",
       "        text-align: right;\n",
       "    }\n",
       "</style>\n",
       "<table border=\"1\" class=\"dataframe\">\n",
       "  <thead>\n",
       "    <tr style=\"text-align: right;\">\n",
       "      <th></th>\n",
       "      <th>train</th>\n",
       "      <th>training</th>\n",
       "      <th>validation</th>\n",
       "      <th>testing</th>\n",
       "    </tr>\n",
       "  </thead>\n",
       "  <tbody>\n",
       "    <tr>\n",
       "      <th>model-1</th>\n",
       "      <td>SVC()</td>\n",
       "      <td>0.780488</td>\n",
       "      <td>0.774194</td>\n",
       "      <td>0.74359</td>\n",
       "    </tr>\n",
       "    <tr>\n",
       "      <th>model-2</th>\n",
       "      <td>SVC()</td>\n",
       "      <td>0.772358</td>\n",
       "      <td>0.774194</td>\n",
       "      <td>0.717949</td>\n",
       "    </tr>\n",
       "    <tr>\n",
       "      <th>model-3</th>\n",
       "      <td>SVC()</td>\n",
       "      <td>0.788618</td>\n",
       "      <td>0.774194</td>\n",
       "      <td>0.717949</td>\n",
       "    </tr>\n",
       "    <tr>\n",
       "      <th>model-4</th>\n",
       "      <td>SVC()</td>\n",
       "      <td>0.788618</td>\n",
       "      <td>0.774194</td>\n",
       "      <td>0.717949</td>\n",
       "    </tr>\n",
       "    <tr>\n",
       "      <th>model-5</th>\n",
       "      <td>SVC()</td>\n",
       "      <td>0.814516</td>\n",
       "      <td>0.766667</td>\n",
       "      <td>0.717949</td>\n",
       "    </tr>\n",
       "    <tr>\n",
       "      <th>model-3</th>\n",
       "      <td>LogisticRegression()</td>\n",
       "      <td>0.796748</td>\n",
       "      <td>0.806452</td>\n",
       "      <td>0.794872</td>\n",
       "    </tr>\n",
       "    <tr>\n",
       "      <th>model-5</th>\n",
       "      <td>LogisticRegression()</td>\n",
       "      <td>0.806452</td>\n",
       "      <td>0.7</td>\n",
       "      <td>0.794872</td>\n",
       "    </tr>\n",
       "    <tr>\n",
       "      <th>model-1</th>\n",
       "      <td>LogisticRegression()</td>\n",
       "      <td>0.772358</td>\n",
       "      <td>0.806452</td>\n",
       "      <td>0.769231</td>\n",
       "    </tr>\n",
       "    <tr>\n",
       "      <th>model-2</th>\n",
       "      <td>LogisticRegression()</td>\n",
       "      <td>0.780488</td>\n",
       "      <td>0.774194</td>\n",
       "      <td>0.769231</td>\n",
       "    </tr>\n",
       "    <tr>\n",
       "      <th>model-4</th>\n",
       "      <td>LogisticRegression()</td>\n",
       "      <td>0.788618</td>\n",
       "      <td>0.774194</td>\n",
       "      <td>0.74359</td>\n",
       "    </tr>\n",
       "    <tr>\n",
       "      <th>model-1</th>\n",
       "      <td>MultinomialNB()</td>\n",
       "      <td>0.772358</td>\n",
       "      <td>0.774194</td>\n",
       "      <td>0.74359</td>\n",
       "    </tr>\n",
       "    <tr>\n",
       "      <th>model-3</th>\n",
       "      <td>MultinomialNB()</td>\n",
       "      <td>0.772358</td>\n",
       "      <td>0.774194</td>\n",
       "      <td>0.74359</td>\n",
       "    </tr>\n",
       "    <tr>\n",
       "      <th>model-4</th>\n",
       "      <td>MultinomialNB()</td>\n",
       "      <td>0.772358</td>\n",
       "      <td>0.774194</td>\n",
       "      <td>0.74359</td>\n",
       "    </tr>\n",
       "    <tr>\n",
       "      <th>model-2</th>\n",
       "      <td>MultinomialNB()</td>\n",
       "      <td>0.772358</td>\n",
       "      <td>0.774194</td>\n",
       "      <td>0.717949</td>\n",
       "    </tr>\n",
       "    <tr>\n",
       "      <th>model-5</th>\n",
       "      <td>MultinomialNB()</td>\n",
       "      <td>0.774194</td>\n",
       "      <td>0.766667</td>\n",
       "      <td>0.717949</td>\n",
       "    </tr>\n",
       "    <tr>\n",
       "      <th>model-3</th>\n",
       "      <td>DecisionTreeClassifier()</td>\n",
       "      <td>1.0</td>\n",
       "      <td>0.677419</td>\n",
       "      <td>0.74359</td>\n",
       "    </tr>\n",
       "    <tr>\n",
       "      <th>model-1</th>\n",
       "      <td>DecisionTreeClassifier()</td>\n",
       "      <td>1.0</td>\n",
       "      <td>0.870968</td>\n",
       "      <td>0.717949</td>\n",
       "    </tr>\n",
       "    <tr>\n",
       "      <th>model-4</th>\n",
       "      <td>DecisionTreeClassifier()</td>\n",
       "      <td>1.0</td>\n",
       "      <td>0.483871</td>\n",
       "      <td>0.717949</td>\n",
       "    </tr>\n",
       "    <tr>\n",
       "      <th>model-5</th>\n",
       "      <td>DecisionTreeClassifier()</td>\n",
       "      <td>1.0</td>\n",
       "      <td>0.566667</td>\n",
       "      <td>0.717949</td>\n",
       "    </tr>\n",
       "    <tr>\n",
       "      <th>model-2</th>\n",
       "      <td>DecisionTreeClassifier()</td>\n",
       "      <td>1.0</td>\n",
       "      <td>0.677419</td>\n",
       "      <td>0.615385</td>\n",
       "    </tr>\n",
       "  </tbody>\n",
       "</table>\n",
       "</div>"
      ],
      "text/plain": [
       "                            train  training validation   testing\n",
       "model-1                     SVC()  0.780488   0.774194   0.74359\n",
       "model-2                     SVC()  0.772358   0.774194  0.717949\n",
       "model-3                     SVC()  0.788618   0.774194  0.717949\n",
       "model-4                     SVC()  0.788618   0.774194  0.717949\n",
       "model-5                     SVC()  0.814516   0.766667  0.717949\n",
       "model-3      LogisticRegression()  0.796748   0.806452  0.794872\n",
       "model-5      LogisticRegression()  0.806452        0.7  0.794872\n",
       "model-1      LogisticRegression()  0.772358   0.806452  0.769231\n",
       "model-2      LogisticRegression()  0.780488   0.774194  0.769231\n",
       "model-4      LogisticRegression()  0.788618   0.774194   0.74359\n",
       "model-1           MultinomialNB()  0.772358   0.774194   0.74359\n",
       "model-3           MultinomialNB()  0.772358   0.774194   0.74359\n",
       "model-4           MultinomialNB()  0.772358   0.774194   0.74359\n",
       "model-2           MultinomialNB()  0.772358   0.774194  0.717949\n",
       "model-5           MultinomialNB()  0.774194   0.766667  0.717949\n",
       "model-3  DecisionTreeClassifier()       1.0   0.677419   0.74359\n",
       "model-1  DecisionTreeClassifier()       1.0   0.870968  0.717949\n",
       "model-4  DecisionTreeClassifier()       1.0   0.483871  0.717949\n",
       "model-5  DecisionTreeClassifier()       1.0   0.566667  0.717949\n",
       "model-2  DecisionTreeClassifier()       1.0   0.677419  0.615385"
      ]
     },
     "execution_count": 26,
     "metadata": {},
     "output_type": "execute_result"
    }
   ],
   "source": [
    "# create dataframe for easy understanding from ensemble classifiers stacking results\n",
    "ensemble_classifiers_results_prognosis_original = list()\n",
    "for model in ensemble_classifiers_prognosis_original.keys():\n",
    "    ensemble_classifiers_results_prognosis_original.append(pd.DataFrame(ensemble_classifiers_prognosis_original[model]).transpose().sort_values(by=['testing'], ascending=False))\n",
    "\n",
    "# concat all dataframe results\n",
    "ensemble_classifiers_results_prognosis_original = pd.concat(ensemble_classifiers_results_prognosis_original, axis=0)\n",
    "ensemble_classifiers_results_prognosis_original"
   ]
  },
  {
   "cell_type": "markdown",
   "id": "93b8b790",
   "metadata": {},
   "source": [
    "### Create New Input Training from stacking ensemble ML"
   ]
  },
  {
   "cell_type": "code",
   "execution_count": 27,
   "id": "97200759",
   "metadata": {},
   "outputs": [],
   "source": [
    "new_input_training_features_prognosis_original = create_new_input_features(\n",
    "    ensemble_classifiers_prognosis_original, \n",
    "    prognosis_X_train_original,\n",
    "    prognosis_y_train_original\n",
    ")"
   ]
  },
  {
   "cell_type": "code",
   "execution_count": 28,
   "id": "d5057317",
   "metadata": {},
   "outputs": [
    {
     "data": {
      "text/html": [
       "<div>\n",
       "<style scoped>\n",
       "    .dataframe tbody tr th:only-of-type {\n",
       "        vertical-align: middle;\n",
       "    }\n",
       "\n",
       "    .dataframe tbody tr th {\n",
       "        vertical-align: top;\n",
       "    }\n",
       "\n",
       "    .dataframe thead th {\n",
       "        text-align: right;\n",
       "    }\n",
       "</style>\n",
       "<table border=\"1\" class=\"dataframe\">\n",
       "  <thead>\n",
       "    <tr style=\"text-align: right;\">\n",
       "      <th></th>\n",
       "      <th>majority_vote_from_svm</th>\n",
       "      <th>majority_vote_from_logreg</th>\n",
       "      <th>majority_vote_from_naive_bayes</th>\n",
       "      <th>majority_vote_from_decision_tree</th>\n",
       "      <th>ground_truth</th>\n",
       "    </tr>\n",
       "  </thead>\n",
       "  <tbody>\n",
       "    <tr>\n",
       "      <th>0</th>\n",
       "      <td>0</td>\n",
       "      <td>0</td>\n",
       "      <td>0</td>\n",
       "      <td>0</td>\n",
       "      <td>0</td>\n",
       "    </tr>\n",
       "    <tr>\n",
       "      <th>1</th>\n",
       "      <td>0</td>\n",
       "      <td>0</td>\n",
       "      <td>0</td>\n",
       "      <td>1</td>\n",
       "      <td>1</td>\n",
       "    </tr>\n",
       "    <tr>\n",
       "      <th>2</th>\n",
       "      <td>0</td>\n",
       "      <td>0</td>\n",
       "      <td>0</td>\n",
       "      <td>0</td>\n",
       "      <td>0</td>\n",
       "    </tr>\n",
       "    <tr>\n",
       "      <th>3</th>\n",
       "      <td>0</td>\n",
       "      <td>0</td>\n",
       "      <td>0</td>\n",
       "      <td>1</td>\n",
       "      <td>1</td>\n",
       "    </tr>\n",
       "    <tr>\n",
       "      <th>4</th>\n",
       "      <td>0</td>\n",
       "      <td>0</td>\n",
       "      <td>0</td>\n",
       "      <td>0</td>\n",
       "      <td>0</td>\n",
       "    </tr>\n",
       "  </tbody>\n",
       "</table>\n",
       "</div>"
      ],
      "text/plain": [
       "   majority_vote_from_svm  majority_vote_from_logreg  \\\n",
       "0                       0                          0   \n",
       "1                       0                          0   \n",
       "2                       0                          0   \n",
       "3                       0                          0   \n",
       "4                       0                          0   \n",
       "\n",
       "   majority_vote_from_naive_bayes  majority_vote_from_decision_tree  \\\n",
       "0                               0                                 0   \n",
       "1                               0                                 1   \n",
       "2                               0                                 0   \n",
       "3                               0                                 1   \n",
       "4                               0                                 0   \n",
       "\n",
       "   ground_truth  \n",
       "0             0  \n",
       "1             1  \n",
       "2             0  \n",
       "3             1  \n",
       "4             0  "
      ]
     },
     "execution_count": 28,
     "metadata": {},
     "output_type": "execute_result"
    }
   ],
   "source": [
    "new_input_training_features_prognosis_original.head()"
   ]
  },
  {
   "cell_type": "markdown",
   "id": "848b653b",
   "metadata": {},
   "source": [
    "### Feed New Input Features into ANN Model"
   ]
  },
  {
   "cell_type": "code",
   "execution_count": 29,
   "id": "095f9711",
   "metadata": {},
   "outputs": [
    {
     "name": "stdout",
     "output_type": "stream",
     "text": [
      "\n",
      "\n",
      "Final Accuracy Score [Mls Ensembles + ANN] on Training Prognosis Dataset (Original) =  1.0\n"
     ]
    }
   ],
   "source": [
    "# split X and y from new_input_features before feeding to ANN\n",
    "new_X_train = new_input_training_features_prognosis_original.drop(['ground_truth'],axis=1)\n",
    "new_y_train = new_input_training_features_prognosis_original['ground_truth']\n",
    "\n",
    "# feed new X and new y into ANN\n",
    "ann_model_prognosis_original = MLPClassifier()\n",
    "ann_model_prognosis_original.fit(new_X_train, new_y_train)\n",
    "predicted_ann_train_prognosis_original = ann_model_prognosis_original.predict(new_X_train)\n",
    "predicted_ann_train_prognosis_original = ann_model_prognosis_original.predict(new_X_train)\n",
    "\n",
    "\n",
    "print()\n",
    "print()\n",
    "print(\"Final Accuracy Score [Mls Ensembles + ANN] on Training Prognosis Dataset (Original) = \", accuracy_score(new_y_train, predicted_ann_train_prognosis_original))"
   ]
  },
  {
   "cell_type": "markdown",
   "id": "a6f310f5",
   "metadata": {},
   "source": [
    "## With Data Sampling Method (Upsampling)"
   ]
  },
  {
   "cell_type": "markdown",
   "id": "fd72e492",
   "metadata": {},
   "source": [
    "### Create Stacking ML Ensemble using 5-fold cross-validation"
   ]
  },
  {
   "cell_type": "code",
   "execution_count": 30,
   "id": "03b28677",
   "metadata": {},
   "outputs": [],
   "source": [
    "ensemble_classifiers_prognosis_upsampling = EnsembleStacking(\n",
    "    prognosis_X_train_upsampling, \n",
    "    prognosis_y_train_upsampling, \n",
    "    prognosis_X_test_original, \n",
    "    prognosis_y_test_original, \n",
    "    kfold).train_ensemble()"
   ]
  },
  {
   "cell_type": "code",
   "execution_count": 31,
   "id": "f8be1121",
   "metadata": {},
   "outputs": [
    {
     "data": {
      "text/html": [
       "<div>\n",
       "<style scoped>\n",
       "    .dataframe tbody tr th:only-of-type {\n",
       "        vertical-align: middle;\n",
       "    }\n",
       "\n",
       "    .dataframe tbody tr th {\n",
       "        vertical-align: top;\n",
       "    }\n",
       "\n",
       "    .dataframe thead th {\n",
       "        text-align: right;\n",
       "    }\n",
       "</style>\n",
       "<table border=\"1\" class=\"dataframe\">\n",
       "  <thead>\n",
       "    <tr style=\"text-align: right;\">\n",
       "      <th></th>\n",
       "      <th>train</th>\n",
       "      <th>training</th>\n",
       "      <th>validation</th>\n",
       "      <th>testing</th>\n",
       "    </tr>\n",
       "  </thead>\n",
       "  <tbody>\n",
       "    <tr>\n",
       "      <th>model-1</th>\n",
       "      <td>SVC()</td>\n",
       "      <td>0.921053</td>\n",
       "      <td>0.75</td>\n",
       "      <td>0.74359</td>\n",
       "    </tr>\n",
       "    <tr>\n",
       "      <th>model-3</th>\n",
       "      <td>SVC()</td>\n",
       "      <td>0.894737</td>\n",
       "      <td>0.875</td>\n",
       "      <td>0.74359</td>\n",
       "    </tr>\n",
       "    <tr>\n",
       "      <th>model-2</th>\n",
       "      <td>SVC()</td>\n",
       "      <td>0.894737</td>\n",
       "      <td>0.791667</td>\n",
       "      <td>0.717949</td>\n",
       "    </tr>\n",
       "    <tr>\n",
       "      <th>model-5</th>\n",
       "      <td>SVC()</td>\n",
       "      <td>0.895288</td>\n",
       "      <td>0.829787</td>\n",
       "      <td>0.717949</td>\n",
       "    </tr>\n",
       "    <tr>\n",
       "      <th>model-4</th>\n",
       "      <td>SVC()</td>\n",
       "      <td>0.890052</td>\n",
       "      <td>0.808511</td>\n",
       "      <td>0.666667</td>\n",
       "    </tr>\n",
       "    <tr>\n",
       "      <th>model-2</th>\n",
       "      <td>LogisticRegression()</td>\n",
       "      <td>0.721053</td>\n",
       "      <td>0.75</td>\n",
       "      <td>0.74359</td>\n",
       "    </tr>\n",
       "    <tr>\n",
       "      <th>model-5</th>\n",
       "      <td>LogisticRegression()</td>\n",
       "      <td>0.748691</td>\n",
       "      <td>0.659574</td>\n",
       "      <td>0.74359</td>\n",
       "    </tr>\n",
       "    <tr>\n",
       "      <th>model-1</th>\n",
       "      <td>LogisticRegression()</td>\n",
       "      <td>0.736842</td>\n",
       "      <td>0.604167</td>\n",
       "      <td>0.666667</td>\n",
       "    </tr>\n",
       "    <tr>\n",
       "      <th>model-3</th>\n",
       "      <td>LogisticRegression()</td>\n",
       "      <td>0.705263</td>\n",
       "      <td>0.8125</td>\n",
       "      <td>0.666667</td>\n",
       "    </tr>\n",
       "    <tr>\n",
       "      <th>model-4</th>\n",
       "      <td>LogisticRegression()</td>\n",
       "      <td>0.722513</td>\n",
       "      <td>0.680851</td>\n",
       "      <td>0.666667</td>\n",
       "    </tr>\n",
       "    <tr>\n",
       "      <th>model-1</th>\n",
       "      <td>MultinomialNB()</td>\n",
       "      <td>0.647368</td>\n",
       "      <td>0.6875</td>\n",
       "      <td>0.666667</td>\n",
       "    </tr>\n",
       "    <tr>\n",
       "      <th>model-2</th>\n",
       "      <td>MultinomialNB()</td>\n",
       "      <td>0.621053</td>\n",
       "      <td>0.5625</td>\n",
       "      <td>0.666667</td>\n",
       "    </tr>\n",
       "    <tr>\n",
       "      <th>model-3</th>\n",
       "      <td>MultinomialNB()</td>\n",
       "      <td>0.684211</td>\n",
       "      <td>0.729167</td>\n",
       "      <td>0.641026</td>\n",
       "    </tr>\n",
       "    <tr>\n",
       "      <th>model-5</th>\n",
       "      <td>MultinomialNB()</td>\n",
       "      <td>0.691099</td>\n",
       "      <td>0.617021</td>\n",
       "      <td>0.641026</td>\n",
       "    </tr>\n",
       "    <tr>\n",
       "      <th>model-4</th>\n",
       "      <td>MultinomialNB()</td>\n",
       "      <td>0.638743</td>\n",
       "      <td>0.489362</td>\n",
       "      <td>0.589744</td>\n",
       "    </tr>\n",
       "    <tr>\n",
       "      <th>model-2</th>\n",
       "      <td>DecisionTreeClassifier()</td>\n",
       "      <td>1.0</td>\n",
       "      <td>0.854167</td>\n",
       "      <td>0.74359</td>\n",
       "    </tr>\n",
       "    <tr>\n",
       "      <th>model-5</th>\n",
       "      <td>DecisionTreeClassifier()</td>\n",
       "      <td>1.0</td>\n",
       "      <td>0.808511</td>\n",
       "      <td>0.74359</td>\n",
       "    </tr>\n",
       "    <tr>\n",
       "      <th>model-1</th>\n",
       "      <td>DecisionTreeClassifier()</td>\n",
       "      <td>1.0</td>\n",
       "      <td>0.833333</td>\n",
       "      <td>0.717949</td>\n",
       "    </tr>\n",
       "    <tr>\n",
       "      <th>model-4</th>\n",
       "      <td>DecisionTreeClassifier()</td>\n",
       "      <td>1.0</td>\n",
       "      <td>0.87234</td>\n",
       "      <td>0.717949</td>\n",
       "    </tr>\n",
       "    <tr>\n",
       "      <th>model-3</th>\n",
       "      <td>DecisionTreeClassifier()</td>\n",
       "      <td>1.0</td>\n",
       "      <td>0.916667</td>\n",
       "      <td>0.615385</td>\n",
       "    </tr>\n",
       "  </tbody>\n",
       "</table>\n",
       "</div>"
      ],
      "text/plain": [
       "                            train  training validation   testing\n",
       "model-1                     SVC()  0.921053       0.75   0.74359\n",
       "model-3                     SVC()  0.894737      0.875   0.74359\n",
       "model-2                     SVC()  0.894737   0.791667  0.717949\n",
       "model-5                     SVC()  0.895288   0.829787  0.717949\n",
       "model-4                     SVC()  0.890052   0.808511  0.666667\n",
       "model-2      LogisticRegression()  0.721053       0.75   0.74359\n",
       "model-5      LogisticRegression()  0.748691   0.659574   0.74359\n",
       "model-1      LogisticRegression()  0.736842   0.604167  0.666667\n",
       "model-3      LogisticRegression()  0.705263     0.8125  0.666667\n",
       "model-4      LogisticRegression()  0.722513   0.680851  0.666667\n",
       "model-1           MultinomialNB()  0.647368     0.6875  0.666667\n",
       "model-2           MultinomialNB()  0.621053     0.5625  0.666667\n",
       "model-3           MultinomialNB()  0.684211   0.729167  0.641026\n",
       "model-5           MultinomialNB()  0.691099   0.617021  0.641026\n",
       "model-4           MultinomialNB()  0.638743   0.489362  0.589744\n",
       "model-2  DecisionTreeClassifier()       1.0   0.854167   0.74359\n",
       "model-5  DecisionTreeClassifier()       1.0   0.808511   0.74359\n",
       "model-1  DecisionTreeClassifier()       1.0   0.833333  0.717949\n",
       "model-4  DecisionTreeClassifier()       1.0    0.87234  0.717949\n",
       "model-3  DecisionTreeClassifier()       1.0   0.916667  0.615385"
      ]
     },
     "execution_count": 31,
     "metadata": {},
     "output_type": "execute_result"
    }
   ],
   "source": [
    "# create dataframe for easy understanding from ensemble classifiers stacking results\n",
    "ensemble_classifiers_results_prognosis_upsampling = list()\n",
    "for model in ensemble_classifiers_prognosis_upsampling.keys():\n",
    "    ensemble_classifiers_results_prognosis_upsampling.append(pd.DataFrame(ensemble_classifiers_prognosis_upsampling[model]).transpose().sort_values(by=['testing'], ascending=False))\n",
    "\n",
    "# concat all dataframe results\n",
    "ensemble_classifiers_results_prognosis_upsampling = pd.concat(ensemble_classifiers_results_prognosis_upsampling, axis=0)\n",
    "ensemble_classifiers_results_prognosis_upsampling"
   ]
  },
  {
   "cell_type": "markdown",
   "id": "62f4b320",
   "metadata": {},
   "source": [
    "### Create New Input Training from stacking ensemble ML"
   ]
  },
  {
   "cell_type": "code",
   "execution_count": 32,
   "id": "45233435",
   "metadata": {},
   "outputs": [],
   "source": [
    "new_input_training_features_prognosis_upsampling = create_new_input_features(\n",
    "    ensemble_classifiers_prognosis_upsampling, \n",
    "    prognosis_X_train_upsampling,\n",
    "    prognosis_y_train_upsampling\n",
    ")"
   ]
  },
  {
   "cell_type": "code",
   "execution_count": 33,
   "id": "5ccd24d5",
   "metadata": {},
   "outputs": [
    {
     "data": {
      "text/html": [
       "<div>\n",
       "<style scoped>\n",
       "    .dataframe tbody tr th:only-of-type {\n",
       "        vertical-align: middle;\n",
       "    }\n",
       "\n",
       "    .dataframe tbody tr th {\n",
       "        vertical-align: top;\n",
       "    }\n",
       "\n",
       "    .dataframe thead th {\n",
       "        text-align: right;\n",
       "    }\n",
       "</style>\n",
       "<table border=\"1\" class=\"dataframe\">\n",
       "  <thead>\n",
       "    <tr style=\"text-align: right;\">\n",
       "      <th></th>\n",
       "      <th>majority_vote_from_svm</th>\n",
       "      <th>majority_vote_from_logreg</th>\n",
       "      <th>majority_vote_from_naive_bayes</th>\n",
       "      <th>majority_vote_from_decision_tree</th>\n",
       "      <th>ground_truth</th>\n",
       "    </tr>\n",
       "  </thead>\n",
       "  <tbody>\n",
       "    <tr>\n",
       "      <th>0</th>\n",
       "      <td>0</td>\n",
       "      <td>0</td>\n",
       "      <td>1</td>\n",
       "      <td>0</td>\n",
       "      <td>0</td>\n",
       "    </tr>\n",
       "    <tr>\n",
       "      <th>1</th>\n",
       "      <td>1</td>\n",
       "      <td>0</td>\n",
       "      <td>1</td>\n",
       "      <td>1</td>\n",
       "      <td>1</td>\n",
       "    </tr>\n",
       "    <tr>\n",
       "      <th>2</th>\n",
       "      <td>1</td>\n",
       "      <td>0</td>\n",
       "      <td>0</td>\n",
       "      <td>1</td>\n",
       "      <td>1</td>\n",
       "    </tr>\n",
       "    <tr>\n",
       "      <th>3</th>\n",
       "      <td>0</td>\n",
       "      <td>0</td>\n",
       "      <td>1</td>\n",
       "      <td>0</td>\n",
       "      <td>0</td>\n",
       "    </tr>\n",
       "    <tr>\n",
       "      <th>4</th>\n",
       "      <td>1</td>\n",
       "      <td>0</td>\n",
       "      <td>0</td>\n",
       "      <td>0</td>\n",
       "      <td>0</td>\n",
       "    </tr>\n",
       "  </tbody>\n",
       "</table>\n",
       "</div>"
      ],
      "text/plain": [
       "   majority_vote_from_svm  majority_vote_from_logreg  \\\n",
       "0                       0                          0   \n",
       "1                       1                          0   \n",
       "2                       1                          0   \n",
       "3                       0                          0   \n",
       "4                       1                          0   \n",
       "\n",
       "   majority_vote_from_naive_bayes  majority_vote_from_decision_tree  \\\n",
       "0                               1                                 0   \n",
       "1                               1                                 1   \n",
       "2                               0                                 1   \n",
       "3                               1                                 0   \n",
       "4                               0                                 0   \n",
       "\n",
       "   ground_truth  \n",
       "0             0  \n",
       "1             1  \n",
       "2             1  \n",
       "3             0  \n",
       "4             0  "
      ]
     },
     "execution_count": 33,
     "metadata": {},
     "output_type": "execute_result"
    }
   ],
   "source": [
    "new_input_training_features_prognosis_upsampling.head()"
   ]
  },
  {
   "cell_type": "markdown",
   "id": "2c30a05b",
   "metadata": {},
   "source": [
    "### Feed New Input Features into ANN Model"
   ]
  },
  {
   "cell_type": "code",
   "execution_count": 34,
   "id": "04eefe98",
   "metadata": {},
   "outputs": [
    {
     "name": "stdout",
     "output_type": "stream",
     "text": [
      "Final Accuracy Score [Mls Ensembles + ANN] on Training Prognostic Dataset (Downsampling) =  1.0\n"
     ]
    }
   ],
   "source": [
    "# split X and y from new_input_features before feeding to ANN\n",
    "new_X_train = new_input_training_features_prognosis_upsampling.drop(['ground_truth'],axis=1)\n",
    "new_y_train = new_input_training_features_prognosis_upsampling['ground_truth']\n",
    "\n",
    "# feed new X and new y into ANN\n",
    "ann_model_prognosis_upsampling = MLPClassifier()\n",
    "ann_model_prognosis_upsampling.fit(new_X_train, new_y_train)\n",
    "predicted_ann_train_prognosis_upsampling = ann_model_prognosis_upsampling.predict(new_X_train)\n",
    "predicted_ann_train_prognosis_upsampling = ann_model_prognosis_upsampling.predict(new_X_train)\n",
    "print(\"Final Accuracy Score [Mls Ensembles + ANN] on Training Prognostic Dataset (Downsampling) = \", accuracy_score(new_y_train, predicted_ann_train_prognosis_upsampling))"
   ]
  },
  {
   "cell_type": "markdown",
   "id": "aeaeffd1",
   "metadata": {},
   "source": [
    "## With Data Sampling Method (Downsampling)"
   ]
  },
  {
   "cell_type": "markdown",
   "id": "1547c6cc",
   "metadata": {},
   "source": [
    "### Create Stacking ML Ensemble using 5-fold cross-validation"
   ]
  },
  {
   "cell_type": "code",
   "execution_count": 35,
   "id": "fcf83646",
   "metadata": {},
   "outputs": [],
   "source": [
    "ensemble_classifiers_prognosis_downsampling = EnsembleStacking(\n",
    "    prognosis_X_train_downsampling, \n",
    "    prognosis_y_train_downsampling, \n",
    "    prognosis_X_test_original, \n",
    "    prognosis_y_test_original, \n",
    "    kfold).train_ensemble()"
   ]
  },
  {
   "cell_type": "code",
   "execution_count": 36,
   "id": "dd61dd75",
   "metadata": {},
   "outputs": [
    {
     "data": {
      "text/html": [
       "<div>\n",
       "<style scoped>\n",
       "    .dataframe tbody tr th:only-of-type {\n",
       "        vertical-align: middle;\n",
       "    }\n",
       "\n",
       "    .dataframe tbody tr th {\n",
       "        vertical-align: top;\n",
       "    }\n",
       "\n",
       "    .dataframe thead th {\n",
       "        text-align: right;\n",
       "    }\n",
       "</style>\n",
       "<table border=\"1\" class=\"dataframe\">\n",
       "  <thead>\n",
       "    <tr style=\"text-align: right;\">\n",
       "      <th></th>\n",
       "      <th>train</th>\n",
       "      <th>training</th>\n",
       "      <th>validation</th>\n",
       "      <th>testing</th>\n",
       "    </tr>\n",
       "  </thead>\n",
       "  <tbody>\n",
       "    <tr>\n",
       "      <th>model-2</th>\n",
       "      <td>SVC()</td>\n",
       "      <td>0.910714</td>\n",
       "      <td>0.571429</td>\n",
       "      <td>0.692308</td>\n",
       "    </tr>\n",
       "    <tr>\n",
       "      <th>model-3</th>\n",
       "      <td>SVC()</td>\n",
       "      <td>0.892857</td>\n",
       "      <td>0.5</td>\n",
       "      <td>0.692308</td>\n",
       "    </tr>\n",
       "    <tr>\n",
       "      <th>model-1</th>\n",
       "      <td>SVC()</td>\n",
       "      <td>0.892857</td>\n",
       "      <td>0.5</td>\n",
       "      <td>0.641026</td>\n",
       "    </tr>\n",
       "    <tr>\n",
       "      <th>model-4</th>\n",
       "      <td>SVC()</td>\n",
       "      <td>0.875</td>\n",
       "      <td>0.5</td>\n",
       "      <td>0.641026</td>\n",
       "    </tr>\n",
       "    <tr>\n",
       "      <th>model-5</th>\n",
       "      <td>SVC()</td>\n",
       "      <td>0.892857</td>\n",
       "      <td>0.642857</td>\n",
       "      <td>0.512821</td>\n",
       "    </tr>\n",
       "    <tr>\n",
       "      <th>model-2</th>\n",
       "      <td>LogisticRegression()</td>\n",
       "      <td>0.732143</td>\n",
       "      <td>0.571429</td>\n",
       "      <td>0.717949</td>\n",
       "    </tr>\n",
       "    <tr>\n",
       "      <th>model-3</th>\n",
       "      <td>LogisticRegression()</td>\n",
       "      <td>0.803571</td>\n",
       "      <td>0.5</td>\n",
       "      <td>0.666667</td>\n",
       "    </tr>\n",
       "    <tr>\n",
       "      <th>model-4</th>\n",
       "      <td>LogisticRegression()</td>\n",
       "      <td>0.767857</td>\n",
       "      <td>0.5</td>\n",
       "      <td>0.641026</td>\n",
       "    </tr>\n",
       "    <tr>\n",
       "      <th>model-1</th>\n",
       "      <td>LogisticRegression()</td>\n",
       "      <td>0.75</td>\n",
       "      <td>0.571429</td>\n",
       "      <td>0.615385</td>\n",
       "    </tr>\n",
       "    <tr>\n",
       "      <th>model-5</th>\n",
       "      <td>LogisticRegression()</td>\n",
       "      <td>0.767857</td>\n",
       "      <td>0.714286</td>\n",
       "      <td>0.564103</td>\n",
       "    </tr>\n",
       "    <tr>\n",
       "      <th>model-3</th>\n",
       "      <td>MultinomialNB()</td>\n",
       "      <td>0.732143</td>\n",
       "      <td>0.642857</td>\n",
       "      <td>0.769231</td>\n",
       "    </tr>\n",
       "    <tr>\n",
       "      <th>model-2</th>\n",
       "      <td>MultinomialNB()</td>\n",
       "      <td>0.660714</td>\n",
       "      <td>0.571429</td>\n",
       "      <td>0.717949</td>\n",
       "    </tr>\n",
       "    <tr>\n",
       "      <th>model-4</th>\n",
       "      <td>MultinomialNB()</td>\n",
       "      <td>0.732143</td>\n",
       "      <td>0.428571</td>\n",
       "      <td>0.692308</td>\n",
       "    </tr>\n",
       "    <tr>\n",
       "      <th>model-1</th>\n",
       "      <td>MultinomialNB()</td>\n",
       "      <td>0.732143</td>\n",
       "      <td>0.642857</td>\n",
       "      <td>0.666667</td>\n",
       "    </tr>\n",
       "    <tr>\n",
       "      <th>model-5</th>\n",
       "      <td>MultinomialNB()</td>\n",
       "      <td>0.714286</td>\n",
       "      <td>0.714286</td>\n",
       "      <td>0.538462</td>\n",
       "    </tr>\n",
       "    <tr>\n",
       "      <th>model-1</th>\n",
       "      <td>DecisionTreeClassifier()</td>\n",
       "      <td>1.0</td>\n",
       "      <td>0.642857</td>\n",
       "      <td>0.769231</td>\n",
       "    </tr>\n",
       "    <tr>\n",
       "      <th>model-3</th>\n",
       "      <td>DecisionTreeClassifier()</td>\n",
       "      <td>1.0</td>\n",
       "      <td>0.571429</td>\n",
       "      <td>0.717949</td>\n",
       "    </tr>\n",
       "    <tr>\n",
       "      <th>model-2</th>\n",
       "      <td>DecisionTreeClassifier()</td>\n",
       "      <td>1.0</td>\n",
       "      <td>0.642857</td>\n",
       "      <td>0.692308</td>\n",
       "    </tr>\n",
       "    <tr>\n",
       "      <th>model-4</th>\n",
       "      <td>DecisionTreeClassifier()</td>\n",
       "      <td>1.0</td>\n",
       "      <td>0.642857</td>\n",
       "      <td>0.641026</td>\n",
       "    </tr>\n",
       "    <tr>\n",
       "      <th>model-5</th>\n",
       "      <td>DecisionTreeClassifier()</td>\n",
       "      <td>1.0</td>\n",
       "      <td>0.642857</td>\n",
       "      <td>0.641026</td>\n",
       "    </tr>\n",
       "  </tbody>\n",
       "</table>\n",
       "</div>"
      ],
      "text/plain": [
       "                            train  training validation   testing\n",
       "model-2                     SVC()  0.910714   0.571429  0.692308\n",
       "model-3                     SVC()  0.892857        0.5  0.692308\n",
       "model-1                     SVC()  0.892857        0.5  0.641026\n",
       "model-4                     SVC()     0.875        0.5  0.641026\n",
       "model-5                     SVC()  0.892857   0.642857  0.512821\n",
       "model-2      LogisticRegression()  0.732143   0.571429  0.717949\n",
       "model-3      LogisticRegression()  0.803571        0.5  0.666667\n",
       "model-4      LogisticRegression()  0.767857        0.5  0.641026\n",
       "model-1      LogisticRegression()      0.75   0.571429  0.615385\n",
       "model-5      LogisticRegression()  0.767857   0.714286  0.564103\n",
       "model-3           MultinomialNB()  0.732143   0.642857  0.769231\n",
       "model-2           MultinomialNB()  0.660714   0.571429  0.717949\n",
       "model-4           MultinomialNB()  0.732143   0.428571  0.692308\n",
       "model-1           MultinomialNB()  0.732143   0.642857  0.666667\n",
       "model-5           MultinomialNB()  0.714286   0.714286  0.538462\n",
       "model-1  DecisionTreeClassifier()       1.0   0.642857  0.769231\n",
       "model-3  DecisionTreeClassifier()       1.0   0.571429  0.717949\n",
       "model-2  DecisionTreeClassifier()       1.0   0.642857  0.692308\n",
       "model-4  DecisionTreeClassifier()       1.0   0.642857  0.641026\n",
       "model-5  DecisionTreeClassifier()       1.0   0.642857  0.641026"
      ]
     },
     "execution_count": 36,
     "metadata": {},
     "output_type": "execute_result"
    }
   ],
   "source": [
    "# create dataframe for easy understanding from ensemble classifiers stacking results\n",
    "ensemble_classifiers_results_prognosis_downsampling = list()\n",
    "for model in ensemble_classifiers_prognosis_downsampling.keys():\n",
    "    ensemble_classifiers_results_prognosis_downsampling.append(pd.DataFrame(ensemble_classifiers_prognosis_downsampling[model]).transpose().sort_values(by=['testing'], ascending=False))\n",
    "\n",
    "# concat all dataframe results\n",
    "ensemble_classifiers_results_prognosis_downsampling = pd.concat(ensemble_classifiers_results_prognosis_downsampling, axis=0)\n",
    "ensemble_classifiers_results_prognosis_downsampling"
   ]
  },
  {
   "cell_type": "markdown",
   "id": "72829360",
   "metadata": {},
   "source": [
    "### Create New Input Training from stacking ensemble ML"
   ]
  },
  {
   "cell_type": "code",
   "execution_count": 37,
   "id": "39d17e84",
   "metadata": {},
   "outputs": [],
   "source": [
    "new_input_training_features_prognosis_downsampling = create_new_input_features(\n",
    "    ensemble_classifiers_prognosis_downsampling, \n",
    "    prognosis_X_train_downsampling,\n",
    "    prognosis_y_train_downsampling\n",
    ")"
   ]
  },
  {
   "cell_type": "code",
   "execution_count": 38,
   "id": "f3f27b11",
   "metadata": {},
   "outputs": [
    {
     "data": {
      "text/html": [
       "<div>\n",
       "<style scoped>\n",
       "    .dataframe tbody tr th:only-of-type {\n",
       "        vertical-align: middle;\n",
       "    }\n",
       "\n",
       "    .dataframe tbody tr th {\n",
       "        vertical-align: top;\n",
       "    }\n",
       "\n",
       "    .dataframe thead th {\n",
       "        text-align: right;\n",
       "    }\n",
       "</style>\n",
       "<table border=\"1\" class=\"dataframe\">\n",
       "  <thead>\n",
       "    <tr style=\"text-align: right;\">\n",
       "      <th></th>\n",
       "      <th>majority_vote_from_svm</th>\n",
       "      <th>majority_vote_from_logreg</th>\n",
       "      <th>majority_vote_from_naive_bayes</th>\n",
       "      <th>majority_vote_from_decision_tree</th>\n",
       "      <th>ground_truth</th>\n",
       "    </tr>\n",
       "  </thead>\n",
       "  <tbody>\n",
       "    <tr>\n",
       "      <th>0</th>\n",
       "      <td>1</td>\n",
       "      <td>1</td>\n",
       "      <td>1</td>\n",
       "      <td>1</td>\n",
       "      <td>1</td>\n",
       "    </tr>\n",
       "    <tr>\n",
       "      <th>1</th>\n",
       "      <td>1</td>\n",
       "      <td>1</td>\n",
       "      <td>1</td>\n",
       "      <td>1</td>\n",
       "      <td>1</td>\n",
       "    </tr>\n",
       "    <tr>\n",
       "      <th>2</th>\n",
       "      <td>0</td>\n",
       "      <td>1</td>\n",
       "      <td>1</td>\n",
       "      <td>0</td>\n",
       "      <td>0</td>\n",
       "    </tr>\n",
       "    <tr>\n",
       "      <th>3</th>\n",
       "      <td>0</td>\n",
       "      <td>1</td>\n",
       "      <td>0</td>\n",
       "      <td>0</td>\n",
       "      <td>0</td>\n",
       "    </tr>\n",
       "    <tr>\n",
       "      <th>4</th>\n",
       "      <td>0</td>\n",
       "      <td>0</td>\n",
       "      <td>0</td>\n",
       "      <td>0</td>\n",
       "      <td>0</td>\n",
       "    </tr>\n",
       "  </tbody>\n",
       "</table>\n",
       "</div>"
      ],
      "text/plain": [
       "   majority_vote_from_svm  majority_vote_from_logreg  \\\n",
       "0                       1                          1   \n",
       "1                       1                          1   \n",
       "2                       0                          1   \n",
       "3                       0                          1   \n",
       "4                       0                          0   \n",
       "\n",
       "   majority_vote_from_naive_bayes  majority_vote_from_decision_tree  \\\n",
       "0                               1                                 1   \n",
       "1                               1                                 1   \n",
       "2                               1                                 0   \n",
       "3                               0                                 0   \n",
       "4                               0                                 0   \n",
       "\n",
       "   ground_truth  \n",
       "0             1  \n",
       "1             1  \n",
       "2             0  \n",
       "3             0  \n",
       "4             0  "
      ]
     },
     "execution_count": 38,
     "metadata": {},
     "output_type": "execute_result"
    }
   ],
   "source": [
    "new_input_training_features_prognosis_downsampling.head()"
   ]
  },
  {
   "cell_type": "markdown",
   "id": "85e59d68",
   "metadata": {},
   "source": [
    "### Feed New Input Features into ANN Model"
   ]
  },
  {
   "cell_type": "code",
   "execution_count": 39,
   "id": "43b921dd",
   "metadata": {},
   "outputs": [
    {
     "name": "stdout",
     "output_type": "stream",
     "text": [
      "Final Accuracy Score [Mls Ensembles + ANN] on Training Prognostic Dataset (Downsampling) =  1.0\n"
     ]
    }
   ],
   "source": [
    "# split X and y from new_input_features before feeding to ANN\n",
    "new_X_train = new_input_training_features_prognosis_downsampling.drop(['ground_truth'],axis=1)\n",
    "new_y_train = new_input_training_features_prognosis_downsampling['ground_truth']\n",
    "\n",
    "# feed new X and new y into ANN\n",
    "ann_model_prognosis_downsampling = MLPClassifier()\n",
    "ann_model_prognosis_downsampling.fit(new_X_train, new_y_train)\n",
    "predicted_ann_train_prognosis_downsampling = ann_model_prognosis_downsampling.predict(new_X_train)\n",
    "predicted_ann_train_prognosis_downsampling = ann_model_prognosis_downsampling.predict(new_X_train)\n",
    "\n",
    "print(\"Final Accuracy Score [Mls Ensembles + ANN] on Training Prognostic Dataset (Downsampling) = \", accuracy_score(new_y_train, predicted_ann_train_prognosis_downsampling))"
   ]
  },
  {
   "cell_type": "markdown",
   "id": "15084c1d",
   "metadata": {},
   "source": [
    "# Testing Results"
   ]
  },
  {
   "cell_type": "markdown",
   "id": "636df27b",
   "metadata": {},
   "source": [
    "## Without Data Sampling Method (Original) "
   ]
  },
  {
   "cell_type": "markdown",
   "id": "44f4754e",
   "metadata": {},
   "source": [
    "### GA combine Ensemble stacking ML - ANN"
   ]
  },
  {
   "cell_type": "markdown",
   "id": "db5bb47f",
   "metadata": {},
   "source": [
    "#### Create New Input Features from stacking ensemble ML before ANN process for preparing testing data new input features"
   ]
  },
  {
   "cell_type": "code",
   "execution_count": 40,
   "id": "0a5c087d",
   "metadata": {},
   "outputs": [],
   "source": [
    "genetic_algorithm_new_input_testing_features_prognosis_original = create_new_input_features(\n",
    "    genetic_algorithm_ensemble_classifiers_prognosis_original, \n",
    "    prognosis_X_test_original,\n",
    "    prognosis_y_test_original\n",
    ")"
   ]
  },
  {
   "cell_type": "markdown",
   "id": "893c62cb",
   "metadata": {},
   "source": [
    "#### Feed new testing input features into ANN pre-trained model"
   ]
  },
  {
   "cell_type": "code",
   "execution_count": 41,
   "id": "b6da4105",
   "metadata": {},
   "outputs": [
    {
     "name": "stdout",
     "output_type": "stream",
     "text": [
      "\t\t==============================\n",
      "\t\tHASIl UJI COBA HASIL PENGUJIAN DATA TESTING PROGNOSIS BREAST CANCER (ORIGINAL) + GENETIC ALGORITHM \n",
      "\t\t==============================\n",
      "\tAkurasi Score:  0.7948717948717948\n",
      "\tMacro Recall Score:  0.6363636363636364\n",
      "\tMacro Precision Score:  0.8888888888888888\n",
      "\tMacro F1-score Score:  0.6517857142857143\n",
      "\tMacro F2-score Score:  0.6325474410580794\n",
      "\tMacro F0.5-score Score:  0.7330637007077856\n",
      "\n",
      "\n",
      "              precision    recall  f1-score   support\n",
      "\n",
      "           0       0.78      1.00      0.88        28\n",
      "           1       1.00      0.27      0.43        11\n",
      "\n",
      "    accuracy                           0.79        39\n",
      "   macro avg       0.89      0.64      0.65        39\n",
      "weighted avg       0.84      0.79      0.75        39\n",
      "\n"
     ]
    },
    {
     "data": {
      "text/plain": [
       "<Figure size 1008x576 with 0 Axes>"
      ]
     },
     "metadata": {},
     "output_type": "display_data"
    },
    {
     "data": {
      "image/png": "[encoded data removed]",
      "text/plain": [
       "<Figure size 432x288 with 2 Axes>"
      ]
     },
     "metadata": {
      "needs_background": "light"
     },
     "output_type": "display_data"
    }
   ],
   "source": [
    "# split X and y from new_input_features before feeding to ANN\n",
    "new_X_test = genetic_algorithm_new_input_testing_features_prognosis_original.drop(['ground_truth'],axis=1)\n",
    "new_y_test = genetic_algorithm_new_input_testing_features_prognosis_original['ground_truth']\n",
    "\n",
    "# predict new X test using pre-trained ANN before\n",
    "predicted_test_original = genetic_algorithm_ann_model_prognosis_original.predict(new_X_test)\n",
    "\n",
    "# print testing results\n",
    "print_model_experiment_results('Hasil Pengujian Data Testing Prognosis Breast Cancer (Original) + Genetic Algorithm ', new_y_test, predicted_test_original)"
   ]
  },
  {
   "cell_type": "markdown",
   "id": "df56c262",
   "metadata": {},
   "source": [
    "### Ensemble stacking ML - ANN (without GA)"
   ]
  },
  {
   "cell_type": "markdown",
   "id": "6744fec2",
   "metadata": {},
   "source": [
    "#### Create New Input Features from stacking ensemble ML before ANN process for preparing testing data new input features"
   ]
  },
  {
   "cell_type": "code",
   "execution_count": 42,
   "id": "468ddc85",
   "metadata": {},
   "outputs": [],
   "source": [
    "new_input_testing_features_prognosis_original = create_new_input_features(\n",
    "    ensemble_classifiers_prognosis_original, \n",
    "    prognosis_X_test_original,\n",
    "    prognosis_y_test_original\n",
    ")"
   ]
  },
  {
   "cell_type": "markdown",
   "id": "42d543af",
   "metadata": {},
   "source": [
    "#### Feed new testing input features into ANN pre-trained model"
   ]
  },
  {
   "cell_type": "code",
   "execution_count": 43,
   "id": "494fab98",
   "metadata": {},
   "outputs": [
    {
     "name": "stdout",
     "output_type": "stream",
     "text": [
      "\t\t==============================\n",
      "\t\tHASIl UJI COBA HASIL PENGUJIAN DATA TESTING PROGNOSIS BREAST CANCER (ORIGINAL)\n",
      "\t\t==============================\n",
      "\tAkurasi Score:  0.7435897435897436\n",
      "\tMacro Recall Score:  0.6282467532467533\n",
      "\tMacro Precision Score:  0.6763392857142857\n",
      "\tMacro F1-score Score:  0.6388888888888888\n",
      "\tMacro F2-score Score:  0.6301062091503267\n",
      "\tMacro F0.5-score Score:  0.6570512820512819\n",
      "\n",
      "\n",
      "              precision    recall  f1-score   support\n",
      "\n",
      "           0       0.78      0.89      0.83        28\n",
      "           1       0.57      0.36      0.44        11\n",
      "\n",
      "    accuracy                           0.74        39\n",
      "   macro avg       0.68      0.63      0.64        39\n",
      "weighted avg       0.72      0.74      0.72        39\n",
      "\n"
     ]
    },
    {
     "data": {
      "text/plain": [
       "<Figure size 1008x576 with 0 Axes>"
      ]
     },
     "metadata": {},
     "output_type": "display_data"
    },
    {
     "data": {
      "image/png": "[encoded data removed]",
      "text/plain": [
       "<Figure size 432x288 with 2 Axes>"
      ]
     },
     "metadata": {
      "needs_background": "light"
     },
     "output_type": "display_data"
    }
   ],
   "source": [
    "# split X and y from new_input_features before feeding to ANN\n",
    "new_X_test = new_input_testing_features_prognosis_original.drop(['ground_truth'],axis=1)\n",
    "new_y_test = new_input_testing_features_prognosis_original['ground_truth']\n",
    "\n",
    "# predict new X test using pre-trained ANN before\n",
    "predicted_test_original = ann_model_prognosis_original.predict(new_X_test)\n",
    "\n",
    "# print testing results\n",
    "print_model_experiment_results('Hasil Pengujian Data Testing Prognosis Breast Cancer (Original)', new_y_test, predicted_test_original)"
   ]
  },
  {
   "cell_type": "markdown",
   "id": "ece9b36f",
   "metadata": {},
   "source": [
    "## With Data Sampling Method (Upsampling)"
   ]
  },
  {
   "cell_type": "markdown",
   "id": "1bbd7895",
   "metadata": {},
   "source": [
    "### GA combine Ensemble stacking ML - ANN"
   ]
  },
  {
   "cell_type": "markdown",
   "id": "2c223555",
   "metadata": {},
   "source": [
    "#### Create New Input Features from stacking ensemble ML before ANN process for preparing testing data new input features"
   ]
  },
  {
   "cell_type": "code",
   "execution_count": 44,
   "id": "55d97bd9",
   "metadata": {},
   "outputs": [],
   "source": [
    "genetic_algorithm_new_input_testing_features_prognosis_upsampling = create_new_input_features(\n",
    "    genetic_algorithm_ensemble_classifiers_prognosis_upsampling, \n",
    "    prognosis_X_test_original,\n",
    "    prognosis_y_test_original\n",
    ")"
   ]
  },
  {
   "cell_type": "markdown",
   "id": "81540ebc",
   "metadata": {},
   "source": [
    "#### Feed new testing input features into ANN pre-trained model"
   ]
  },
  {
   "cell_type": "code",
   "execution_count": 45,
   "id": "546fbe6c",
   "metadata": {},
   "outputs": [
    {
     "name": "stdout",
     "output_type": "stream",
     "text": [
      "\t\t==============================\n",
      "\t\tHASIl UJI COBA HASIL PENGUJIAN DATA TESTING PROGNOSIS BREAST CANCER (UPSAMPLING) + GENETIC ALGORITHM\n",
      "\t\t==============================\n",
      "\tAkurasi Score:  0.8461538461538461\n",
      "\tMacro Recall Score:  0.8100649350649352\n",
      "\tMacro Precision Score:  0.8100649350649352\n",
      "\tMacro F1-score Score:  0.8100649350649352\n",
      "\tMacro F2-score Score:  0.8100649350649352\n",
      "\tMacro F0.5-score Score:  0.8100649350649352\n",
      "\n",
      "\n",
      "              precision    recall  f1-score   support\n",
      "\n",
      "           0       0.89      0.89      0.89        28\n",
      "           1       0.73      0.73      0.73        11\n",
      "\n",
      "    accuracy                           0.85        39\n",
      "   macro avg       0.81      0.81      0.81        39\n",
      "weighted avg       0.85      0.85      0.85        39\n",
      "\n"
     ]
    },
    {
     "data": {
      "text/plain": [
       "<Figure size 1008x576 with 0 Axes>"
      ]
     },
     "metadata": {},
     "output_type": "display_data"
    },
    {
     "data": {
      "image/png": "[encoded data removed]",
      "text/plain": [
       "<Figure size 432x288 with 2 Axes>"
      ]
     },
     "metadata": {
      "needs_background": "light"
     },
     "output_type": "display_data"
    }
   ],
   "source": [
    "# split X and y from new_input_features before feeding to ANN\n",
    "new_X_test = genetic_algorithm_new_input_testing_features_prognosis_upsampling.drop(['ground_truth'],axis=1)\n",
    "new_y_test = genetic_algorithm_new_input_testing_features_prognosis_upsampling['ground_truth']\n",
    "\n",
    "# predict new X test using pre-trained ANN before\n",
    "predicted_test_upsampling = genetic_algorithm_ann_model_prognosis_upsampling.predict(new_X_test)\n",
    "\n",
    "# print testing results\n",
    "print_model_experiment_results('Hasil Pengujian Data Testing Prognosis Breast Cancer (Upsampling) + Genetic Algorithm', new_y_test, predicted_test_upsampling)"
   ]
  },
  {
   "cell_type": "markdown",
   "id": "b593efc0",
   "metadata": {},
   "source": [
    "### Ensemble stacking ML - ANN (without GA)"
   ]
  },
  {
   "cell_type": "markdown",
   "id": "5ddd7ac6",
   "metadata": {},
   "source": [
    "#### Create New Input Features from stacking ensemble ML before ANN process for preparing testing data new input features"
   ]
  },
  {
   "cell_type": "code",
   "execution_count": 46,
   "id": "5925a4a8",
   "metadata": {},
   "outputs": [],
   "source": [
    "new_input_testing_features_prognosis_upsampling = create_new_input_features(\n",
    "    ensemble_classifiers_prognosis_upsampling, \n",
    "    prognosis_X_test_original,\n",
    "    prognosis_y_test_original\n",
    ")"
   ]
  },
  {
   "cell_type": "markdown",
   "id": "5e0d6b86",
   "metadata": {},
   "source": [
    "#### Feed new testing input features into ANN pre-trained model"
   ]
  },
  {
   "cell_type": "code",
   "execution_count": 47,
   "id": "f0781825",
   "metadata": {},
   "outputs": [
    {
     "name": "stdout",
     "output_type": "stream",
     "text": [
      "\t\t==============================\n",
      "\t\tHASIl UJI COBA HASIL PENGUJIAN DATA TESTING PROGNOSIS BREAST CANCER (UPSAMPLING)\n",
      "\t\t==============================\n",
      "\tAkurasi Score:  0.8205128205128205\n",
      "\tMacro Recall Score:  0.7646103896103896\n",
      "\tMacro Precision Score:  0.7810344827586206\n",
      "\tMacro F1-score Score:  0.7719298245614035\n",
      "\tMacro F2-score Score:  0.7673364854215918\n",
      "\tMacro F0.5-score Score:  0.7771650326797386\n",
      "\n",
      "\n",
      "              precision    recall  f1-score   support\n",
      "\n",
      "           0       0.86      0.89      0.88        28\n",
      "           1       0.70      0.64      0.67        11\n",
      "\n",
      "    accuracy                           0.82        39\n",
      "   macro avg       0.78      0.76      0.77        39\n",
      "weighted avg       0.82      0.82      0.82        39\n",
      "\n"
     ]
    },
    {
     "data": {
      "text/plain": [
       "<Figure size 1008x576 with 0 Axes>"
      ]
     },
     "metadata": {},
     "output_type": "display_data"
    },
    {
     "data": {
      "image/png": "[encoded data removed]",
      "text/plain": [
       "<Figure size 432x288 with 2 Axes>"
      ]
     },
     "metadata": {
      "needs_background": "light"
     },
     "output_type": "display_data"
    }
   ],
   "source": [
    "# split X and y from new_input_features before feeding to ANN\n",
    "new_X_test = new_input_testing_features_prognosis_upsampling.drop(['ground_truth'],axis=1)\n",
    "new_y_test = new_input_testing_features_prognosis_upsampling['ground_truth']\n",
    "\n",
    "# predict new X test using pre-trained ANN before\n",
    "predicted_test_upsampling = ann_model_prognosis_upsampling.predict(new_X_test)\n",
    "\n",
    "# print testing results\n",
    "print_model_experiment_results('Hasil Pengujian Data Testing Prognosis Breast Cancer (Upsampling)', new_y_test, predicted_test_upsampling)"
   ]
  },
  {
   "cell_type": "markdown",
   "id": "514acf5e",
   "metadata": {},
   "source": [
    "## With Data Sampling Method (Downsampling)"
   ]
  },
  {
   "cell_type": "markdown",
   "id": "81907a07",
   "metadata": {},
   "source": [
    "### GA combine Ensemble stacking ML - ANN"
   ]
  },
  {
   "cell_type": "markdown",
   "id": "741b5475",
   "metadata": {},
   "source": [
    "#### Create New Input Features from stacking ensemble ML before ANN process for preparing testing data new input features"
   ]
  },
  {
   "cell_type": "code",
   "execution_count": 48,
   "id": "71f2e0e7",
   "metadata": {},
   "outputs": [],
   "source": [
    "genetic_algorithm_new_input_testing_features_prognosis_downsampling = create_new_input_features(\n",
    "    genetic_algorithm_ensemble_classifiers_prognosis_downsampling, \n",
    "    prognosis_X_test_original,\n",
    "    prognosis_y_test_original\n",
    ")"
   ]
  },
  {
   "cell_type": "markdown",
   "id": "3e46dd4a",
   "metadata": {},
   "source": [
    "#### Feed new testing input features into ANN pre-trained model"
   ]
  },
  {
   "cell_type": "code",
   "execution_count": 49,
   "id": "9a3baaf8",
   "metadata": {},
   "outputs": [
    {
     "name": "stdout",
     "output_type": "stream",
     "text": [
      "\t\t==============================\n",
      "\t\tHASIl UJI COBA HASIL PENGUJIAN DATA TESTING PROGNOSIS BREAST CANCER (DOWNSAMPLING) + GENETIC ALGORITHM\n",
      "\t\t==============================\n",
      "\tAkurasi Score:  0.6153846153846154\n",
      "\tMacro Recall Score:  0.7045454545454546\n",
      "\tMacro Precision Score:  0.675\n",
      "\tMacro F1-score Score:  0.6112956810631229\n",
      "\tMacro F2-score Score:  0.6432376100046318\n",
      "\tMacro F0.5-score Score:  0.6313721325403568\n",
      "\n",
      "\n",
      "              precision    recall  f1-score   support\n",
      "\n",
      "           0       0.93      0.50      0.65        28\n",
      "           1       0.42      0.91      0.57        11\n",
      "\n",
      "    accuracy                           0.62        39\n",
      "   macro avg       0.68      0.70      0.61        39\n",
      "weighted avg       0.79      0.62      0.63        39\n",
      "\n"
     ]
    },
    {
     "data": {
      "text/plain": [
       "<Figure size 1008x576 with 0 Axes>"
      ]
     },
     "metadata": {},
     "output_type": "display_data"
    },
    {
     "data": {
      "image/png": "[encoded data removed]",
      "text/plain": [
       "<Figure size 432x288 with 2 Axes>"
      ]
     },
     "metadata": {
      "needs_background": "light"
     },
     "output_type": "display_data"
    }
   ],
   "source": [
    "# split X and y from new_input_features before feeding to ANN\n",
    "new_X_test = genetic_algorithm_new_input_testing_features_prognosis_downsampling.drop(['ground_truth'],axis=1)\n",
    "new_y_test = genetic_algorithm_new_input_testing_features_prognosis_downsampling['ground_truth']\n",
    "\n",
    "# predict new X test using pre-trained ANN before\n",
    "predicted_test_downsampling = genetic_algorithm_ann_model_prognosis_downsampling.predict(new_X_test)\n",
    "\n",
    "# print testing results\n",
    "print_model_experiment_results('Hasil Pengujian Data Testing Prognosis Breast Cancer (Downsampling) + Genetic Algorithm', new_y_test, predicted_test_downsampling)"
   ]
  },
  {
   "cell_type": "markdown",
   "id": "6bfa1a3e",
   "metadata": {},
   "source": [
    "### Ensemble stacking ML - ANN (without GA)"
   ]
  },
  {
   "cell_type": "markdown",
   "id": "8229e02d",
   "metadata": {},
   "source": [
    "#### Create New Input Features from stacking ensemble ML before ANN process for preparing testing data new input features"
   ]
  },
  {
   "cell_type": "code",
   "execution_count": 50,
   "id": "91f29d22",
   "metadata": {},
   "outputs": [],
   "source": [
    "new_input_testing_features_prognosis_downsampling = create_new_input_features(\n",
    "    ensemble_classifiers_prognosis_downsampling, \n",
    "    prognosis_X_test_original,\n",
    "    prognosis_y_test_original\n",
    ")"
   ]
  },
  {
   "cell_type": "markdown",
   "id": "ce167c4c",
   "metadata": {},
   "source": [
    "#### Feed new testing input features into ANN pre-trained model"
   ]
  },
  {
   "cell_type": "code",
   "execution_count": 51,
   "id": "c3ffc50a",
   "metadata": {},
   "outputs": [
    {
     "name": "stdout",
     "output_type": "stream",
     "text": [
      "\t\t==============================\n",
      "\t\tHASIl UJI COBA HASIL PENGUJIAN DATA TESTING PROGNOSIS BREAST CANCER (DOWNSAMPLING)\n",
      "\t\t==============================\n",
      "\tAkurasi Score:  0.7435897435897436\n",
      "\tMacro Recall Score:  0.7662337662337663\n",
      "\tMacro Precision Score:  0.7192513368983957\n",
      "\tMacro F1-score Score:  0.7214285714285714\n",
      "\tMacro F2-score Score:  0.7419867873746024\n",
      "\tMacro F0.5-score Score:  0.7158446093408991\n",
      "\n",
      "\n",
      "              precision    recall  f1-score   support\n",
      "\n",
      "           0       0.91      0.71      0.80        28\n",
      "           1       0.53      0.82      0.64        11\n",
      "\n",
      "    accuracy                           0.74        39\n",
      "   macro avg       0.72      0.77      0.72        39\n",
      "weighted avg       0.80      0.74      0.76        39\n",
      "\n"
     ]
    },
    {
     "data": {
      "text/plain": [
       "<Figure size 1008x576 with 0 Axes>"
      ]
     },
     "metadata": {},
     "output_type": "display_data"
    },
    {
     "data": {
      "image/png": "[encoded data removed]",
      "text/plain": [
       "<Figure size 432x288 with 2 Axes>"
      ]
     },
     "metadata": {
      "needs_background": "light"
     },
     "output_type": "display_data"
    }
   ],
   "source": [
    "# split X and y from new_input_features before feeding to ANN\n",
    "new_X_test = new_input_testing_features_prognosis_downsampling.drop(['ground_truth'],axis=1)\n",
    "new_y_test = new_input_testing_features_prognosis_downsampling['ground_truth']\n",
    "\n",
    "# predict new X test using pre-trained ANN before\n",
    "predicted_test_downsampling = ann_model_prognosis_downsampling.predict(new_X_test)\n",
    "\n",
    "# print testing results\n",
    "print_model_experiment_results('Hasil Pengujian Data Testing Prognosis Breast Cancer (Downsampling)', new_y_test, predicted_test_downsampling)"
   ]
  },
  {
   "cell_type": "code",
   "execution_count": null,
   "id": "74362046",
   "metadata": {},
   "outputs": [],
   "source": []
  }
 ],
 "metadata": {
  "kernelspec": {
   "display_name": "S2_computational_intelligence_final_project",
   "language": "python",
   "name": "s2_computational_intelligence_final_project"
  },
  "language_info": {
   "codemirror_mode": {
    "name": "ipython",
    "version": 3
   },
   "file_extension": ".py",
   "mimetype": "text/x-python",
   "name": "python",
   "nbconvert_exporter": "python",
   "pygments_lexer": "ipython3",
   "version": "3.10.4"
  },
  "toc": {
   "base_numbering": 1,
   "nav_menu": {},
   "number_sections": true,
   "sideBar": true,
   "skip_h1_title": false,
   "title_cell": "Table of Contents",
   "title_sidebar": "Contents",
   "toc_cell": false,
   "toc_position": {
    "height": "calc(100% - 180px)",
    "left": "10px",
    "top": "150px",
    "width": "388.306px"
   },
   "toc_section_display": true,
   "toc_window_display": true
  }
 },
 "nbformat": 4,
 "nbformat_minor": 5
}
