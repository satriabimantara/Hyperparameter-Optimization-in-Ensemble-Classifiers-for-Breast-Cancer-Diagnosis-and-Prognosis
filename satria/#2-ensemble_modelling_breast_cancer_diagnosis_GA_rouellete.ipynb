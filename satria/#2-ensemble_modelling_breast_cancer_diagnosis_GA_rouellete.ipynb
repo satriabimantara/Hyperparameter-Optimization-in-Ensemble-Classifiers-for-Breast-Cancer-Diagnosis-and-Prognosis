{
 "cells": [
  {
   "cell_type": "markdown",
   "id": "0875d3ca",
   "metadata": {},
   "source": [
    "# Import Libraries"
   ]
  },
  {
   "cell_type": "code",
   "execution_count": 1,
   "id": "e11ba7cc",
   "metadata": {},
   "outputs": [],
   "source": [
    "import pandas as pd\n",
    "import numpy as np\n",
    "import math\n",
    "\n",
    "# sklearn for utilization\n",
    "from sklearn.metrics import accuracy_score, classification_report, confusion_matrix, ConfusionMatrixDisplay\n",
    "from sklearn.metrics import recall_score, precision_score, fbeta_score\n",
    "from sklearn.model_selection import StratifiedKFold\n",
    "\n",
    "# modelling for ensemble method\n",
    "from sklearn.naive_bayes import MultinomialNB\n",
    "from sklearn.tree import DecisionTreeClassifier\n",
    "from sklearn.svm import SVC\n",
    "from sklearn.linear_model import LogisticRegression\n",
    "from sklearn.neural_network import MLPClassifier\n",
    "from sklearn.model_selection import cross_val_score\n",
    "from sklearn.model_selection import train_test_split\n",
    "\n",
    "# visualization purpose\n",
    "import matplotlib.pyplot as plt\n",
    "\n",
    "# utils\n",
    "import pickle\n",
    "import random\n",
    "import warnings\n",
    "warnings.filterwarnings(\"ignore\")\n",
    "\n",
    "# import our ensemble stacking model here\n",
    "from models.model_ensembles import EnsembleStacking\n",
    "\n",
    "# import our genetic algorithm model here\n",
    "from models.genetic_algorithm_rouellete import GeneticAlgorithm"
   ]
  },
  {
   "cell_type": "code",
   "execution_count": 2,
   "id": "bd830e1f",
   "metadata": {},
   "outputs": [],
   "source": [
    "# for reproducecibility\n",
    "random_state = 60251014\n",
    "random.seed(random_state)"
   ]
  },
  {
   "cell_type": "markdown",
   "id": "f4d50c59",
   "metadata": {},
   "source": [
    "# Load Data After Preprocessing\n",
    "***\n",
    "Load data Breast Cancer Diagnosis and Breast Cancer Prognosis after cleaned and preprocessed"
   ]
  },
  {
   "cell_type": "code",
   "execution_count": 3,
   "id": "bff6093d",
   "metadata": {},
   "outputs": [],
   "source": [
    "breast_cancer_preprocessed = pickle.load(open('../dataset/preprocessed_breast_cancer_data.pkl', 'rb'))\n",
    "\n",
    "# diagnosis breast cancer dataset\n",
    "diagnosis_X_train_original = breast_cancer_preprocessed['diagnosis']['original']['X_train']\n",
    "diagnosis_X_train_downsampling = breast_cancer_preprocessed['diagnosis']['downsampling']['X_train']\n",
    "diagnosis_X_train_upsampling = breast_cancer_preprocessed['diagnosis']['upsampling']['X_train']\n",
    "\n",
    "diagnosis_y_train_original = breast_cancer_preprocessed['diagnosis']['original']['y_train']\n",
    "diagnosis_y_train_downsampling = breast_cancer_preprocessed['diagnosis']['downsampling']['y_train']\n",
    "diagnosis_y_train_upsampling = breast_cancer_preprocessed['diagnosis']['upsampling']['y_train']\n",
    "\n",
    "diagnosis_X_test_original = breast_cancer_preprocessed['diagnosis']['original']['X_test']\n",
    "diagnosis_y_test_original = breast_cancer_preprocessed['diagnosis']['original']['y_test']"
   ]
  },
  {
   "cell_type": "markdown",
   "id": "577ab977",
   "metadata": {},
   "source": [
    "# Defining Global Variables"
   ]
  },
  {
   "cell_type": "code",
   "execution_count": 4,
   "id": "80f030e1",
   "metadata": {},
   "outputs": [],
   "source": [
    "kfold = StratifiedKFold(n_splits=5, random_state=45, shuffle=True)\n",
    "\n",
    "# Genetic Algorithm global variables\n",
    "number_of_chromosome = 45\n",
    "maximum_generations = 30\n",
    "crossover_rate = 0.85\n",
    "mutation_rate = 0.01\n",
    "convergence = 5"
   ]
  },
  {
   "cell_type": "markdown",
   "id": "13ee8a79",
   "metadata": {},
   "source": [
    "# Defining Global Functions"
   ]
  },
  {
   "cell_type": "code",
   "execution_count": 5,
   "id": "aec72c55",
   "metadata": {},
   "outputs": [],
   "source": [
    "def create_new_input_features(ensemble_classifiers, X, y):\n",
    "    all_predicted_results = dict()\n",
    "    list_of_majority_voting_each_models = list()\n",
    "    list_of_models = list()\n",
    "\n",
    "    for model_name, models in ensemble_classifiers.items():\n",
    "        # voting scenario for new data input prepration for ANN model\n",
    "        if len(models)!=0:\n",
    "            all_predicted_results[model_name] = dict()\n",
    "            for sub_model_name, dict_models in models.items():\n",
    "                all_predicted_results[model_name][sub_model_name] = dict_models['train'].predict(X)\n",
    "\n",
    "            # make dataframe for 5 model prediction results on X and get the mode label for that 5 prediction\n",
    "            model_df_voting = pd.DataFrame(all_predicted_results[model_name]).mode(axis=1)[0]\n",
    "            list_of_models.append('majority_vote_from_'+model_name)\n",
    "            list_of_majority_voting_each_models.append(model_df_voting)\n",
    "            \n",
    "    new_input_features = pd.concat(list_of_majority_voting_each_models, axis=1)\n",
    "    new_input_features.columns = list_of_models\n",
    "    new_input_features['ground_truth'] = y.copy()\n",
    "            \n",
    "    return new_input_features"
   ]
  },
  {
   "cell_type": "code",
   "execution_count": 6,
   "id": "7898c85d",
   "metadata": {},
   "outputs": [],
   "source": [
    "def print_model_experiment_results(name_of_scenario, y_test, y_pred):\n",
    "    print('\\t\\t' + '='*30)\n",
    "    print('\\t\\tHASIl UJI COBA {}'.format(name_of_scenario.upper()))\n",
    "    print('\\t\\t' + '='*30)\n",
    "    print(\"\\tAkurasi Score: \", accuracy_score(y_test, y_pred))\n",
    "    print(\"\\tMacro Recall Score: \", recall_score(y_test, y_pred, average='macro'))\n",
    "    print(\"\\tMacro Precision Score: \", precision_score(y_test, y_pred, average='macro'))\n",
    "    print(\"\\tMacro F1-score Score: \", fbeta_score(y_test, y_pred, beta=1, average='macro'))\n",
    "    print(\"\\tMacro F2-score Score: \", fbeta_score(y_test, y_pred, beta=2, average='macro'))\n",
    "    print(\"\\tMacro F0.5-score Score: \", fbeta_score(y_test, y_pred, beta=0.5, average='macro'))\n",
    "    \n",
    "    print()\n",
    "    print()\n",
    "    print(classification_report(y_test, y_pred))\n",
    "    cm = confusion_matrix(y_test, y_pred)\n",
    "    disp = ConfusionMatrixDisplay(confusion_matrix=cm)\n",
    "    plt.figure(figsize=(14,8))\n",
    "    disp.plot()\n",
    "    plt.show()"
   ]
  },
  {
   "cell_type": "markdown",
   "id": "c07c138c",
   "metadata": {},
   "source": [
    "# Modelling Ensemble Classifiers for Diagnosis Breast Cancer using Genetic Optimization"
   ]
  },
  {
   "cell_type": "markdown",
   "id": "4b33b55a",
   "metadata": {},
   "source": [
    "## Without Data Sampling Method (Original)"
   ]
  },
  {
   "cell_type": "markdown",
   "id": "7020c9bf",
   "metadata": {},
   "source": [
    "### GA Optimization using Data without sampling"
   ]
  },
  {
   "cell_type": "code",
   "execution_count": 7,
   "id": "44373a90",
   "metadata": {},
   "outputs": [
    {
     "name": "stdout",
     "output_type": "stream",
     "text": [
      "ITERASI KE 0 | BEST FITNESS = 0.8783843059527991\n",
      "ITERASI KE 1 | BEST FITNESS = 0.8914328679311556\n",
      "ITERASI KE 2 | BEST FITNESS = 0.8928217568200445\n",
      "ITERASI KE 3 | BEST FITNESS = 0.9069032565607908\n",
      "ITERASI KE 4 | BEST FITNESS = 0.9065512778697711\n",
      "ITERASI KE 5 | BEST FITNESS = 0.8962376854500143\n",
      "ITERASI KE 6 | BEST FITNESS = 0.9065512778697711\n",
      "ITERASI KE 7 | BEST FITNESS = 0.896589664141034\n",
      "ITERASI KE 8 | BEST FITNESS = 0.8962376854500143\n",
      "ITERASI KE 9 | BEST FITNESS = 0.896589664141034\n",
      "ITERASI KE 10 | BEST FITNESS = 0.8962376854500143\n",
      "ITERASI KE 11 | BEST FITNESS = 0.8962376854500143\n",
      "ITERASI KE 12 | BEST FITNESS = 0.8962376854500143\n",
      "ITERASI KE 13 | BEST FITNESS = 0.8962376854500143\n",
      "ITERASI KE 14 | BEST FITNESS = 0.896589664141034\n",
      "ITERASI KE 15 | BEST FITNESS = 0.896589664141034\n",
      "ITERASI KE 16 | BEST FITNESS = 0.896589664141034\n",
      "ITERASI KE 17 | BEST FITNESS = 0.8962376854500143\n",
      "ITERASI KE 18 | BEST FITNESS = 0.8962376854500143\n",
      "ITERASI KE 19 | BEST FITNESS = 0.896589664141034\n",
      "ITERASI KE 20 | BEST FITNESS = 0.8962376854500143\n",
      "ITERASI KE 21 | BEST FITNESS = 0.8962376854500143\n",
      "ITERASI KE 22 | BEST FITNESS = 0.896589664141034\n",
      "ITERASI KE 23 | BEST FITNESS = 0.896589664141034\n",
      "ITERASI KE 24 | BEST FITNESS = 0.8962376854500143\n",
      "ITERASI KE 25 | BEST FITNESS = 0.896589664141034\n",
      "ITERASI KE 26 | BEST FITNESS = 0.8962376854500143\n",
      "ITERASI KE 27 | BEST FITNESS = 0.896589664141034\n",
      "ITERASI KE 28 | BEST FITNESS = 0.8962376854500143\n",
      "ITERASI KE 29 | BEST FITNESS = 0.896589664141034\n"
     ]
    },
    {
     "data": {
      "image/png": "[encoded data removed]",
      "text/plain": [
       "<Figure size 864x576 with 1 Axes>"
      ]
     },
     "metadata": {
      "needs_background": "light"
     },
     "output_type": "display_data"
    },
    {
     "data": {
      "text/plain": [
       "[[[1.2, 'rbf', 'scale', 0.01],\n",
       "  ['gini', 'best', 1, 6, 2],\n",
       "  ['l1', 'liblinear', 40, 0.0001],\n",
       "  [(50, 50), 'logistic', 'adam', 0.001, 64, 'constant', 0.002]],\n",
       " 0.896589664141034]"
      ]
     },
     "execution_count": 7,
     "metadata": {},
     "output_type": "execute_result"
    }
   ],
   "source": [
    "ga_model_original = GeneticAlgorithm(\n",
    "    X_train=diagnosis_X_train_original,\n",
    "    y_train=diagnosis_y_train_original,\n",
    "    kfold=kfold,\n",
    "    number_of_chromosome=number_of_chromosome,\n",
    "    maximum_generations=maximum_generations,\n",
    "    crossover_rate=crossover_rate,\n",
    "    mutation_rate=mutation_rate,\n",
    "    convergence=convergence\n",
    ")\n",
    "last_populations_original = ga_model_original.train()\n",
    "\n",
    "# plot best fitness value in each generation\n",
    "ga_model_original.plot_best_fitness_values()\n",
    "\n",
    "# get the last generation for best solutions\n",
    "best_hyperparams_genetic_algorithm_solution = last_populations_original[0]\n",
    "best_hyperparams_svm = best_hyperparams_genetic_algorithm_solution[0][0]\n",
    "best_hyperparams_dt = best_hyperparams_genetic_algorithm_solution[0][1]\n",
    "best_hyperparams_logreg = best_hyperparams_genetic_algorithm_solution[0][2]\n",
    "best_hyperparams_ann = best_hyperparams_genetic_algorithm_solution[0][3]\n",
    "\n",
    "best_hyperparams_genetic_algorithm_solution"
   ]
  },
  {
   "cell_type": "markdown",
   "id": "ddafac2a",
   "metadata": {},
   "source": [
    "### Create Stacking ML Ensemble using 5-fold cross-validation"
   ]
  },
  {
   "cell_type": "code",
   "execution_count": 8,
   "id": "5abd4df1",
   "metadata": {},
   "outputs": [],
   "source": [
    "# create ensembles stacking method using GA hyperparameter optimized\n",
    "genetic_algorithm_ensemble_classifiers_diagnosis_original = EnsembleStacking(\n",
    "    diagnosis_X_train_original,\n",
    "    diagnosis_y_train_original,\n",
    "    diagnosis_X_test_original,\n",
    "    diagnosis_y_test_original,\n",
    "    kfold,\n",
    "    svm_params={\n",
    "        'C': best_hyperparams_svm[0],\n",
    "        'kernel': best_hyperparams_svm[1],\n",
    "        'gamma': best_hyperparams_svm[2],\n",
    "        'tol': best_hyperparams_svm[3],\n",
    "    },\n",
    "    dt_params={\n",
    "        'criterion': best_hyperparams_dt[0],\n",
    "        'splitter': best_hyperparams_dt[1],\n",
    "        'max_depth': best_hyperparams_dt[2],\n",
    "        'min_samples_split': best_hyperparams_dt[3],\n",
    "        'min_samples_leaf': best_hyperparams_dt[4],\n",
    "    },\n",
    "    logreg_params={\n",
    "        'penalty': best_hyperparams_logreg[0],\n",
    "        'solver': best_hyperparams_logreg[1],\n",
    "        'max_iter': best_hyperparams_logreg[2],\n",
    "        'tol': best_hyperparams_logreg[3],\n",
    "    }\n",
    ").train_ensemble()"
   ]
  },
  {
   "cell_type": "code",
   "execution_count": 9,
   "id": "45962483",
   "metadata": {},
   "outputs": [
    {
     "data": {
      "text/html": [
       "<div>\n",
       "<style scoped>\n",
       "    .dataframe tbody tr th:only-of-type {\n",
       "        vertical-align: middle;\n",
       "    }\n",
       "\n",
       "    .dataframe tbody tr th {\n",
       "        vertical-align: top;\n",
       "    }\n",
       "\n",
       "    .dataframe thead th {\n",
       "        text-align: right;\n",
       "    }\n",
       "</style>\n",
       "<table border=\"1\" class=\"dataframe\">\n",
       "  <thead>\n",
       "    <tr style=\"text-align: right;\">\n",
       "      <th></th>\n",
       "      <th>train</th>\n",
       "      <th>training</th>\n",
       "      <th>validation</th>\n",
       "      <th>testing</th>\n",
       "    </tr>\n",
       "  </thead>\n",
       "  <tbody>\n",
       "    <tr>\n",
       "      <th>model-5</th>\n",
       "      <td>SVC(C=1.2, tol=0.01)</td>\n",
       "      <td>0.950549</td>\n",
       "      <td>0.978022</td>\n",
       "      <td>0.964912</td>\n",
       "    </tr>\n",
       "    <tr>\n",
       "      <th>model-1</th>\n",
       "      <td>SVC(C=1.2, tol=0.01)</td>\n",
       "      <td>0.964286</td>\n",
       "      <td>0.901099</td>\n",
       "      <td>0.95614</td>\n",
       "    </tr>\n",
       "    <tr>\n",
       "      <th>model-2</th>\n",
       "      <td>SVC(C=1.2, tol=0.01)</td>\n",
       "      <td>0.950549</td>\n",
       "      <td>0.934066</td>\n",
       "      <td>0.95614</td>\n",
       "    </tr>\n",
       "    <tr>\n",
       "      <th>model-3</th>\n",
       "      <td>SVC(C=1.2, tol=0.01)</td>\n",
       "      <td>0.947802</td>\n",
       "      <td>0.956044</td>\n",
       "      <td>0.95614</td>\n",
       "    </tr>\n",
       "    <tr>\n",
       "      <th>model-4</th>\n",
       "      <td>SVC(C=1.2, tol=0.01)</td>\n",
       "      <td>0.958791</td>\n",
       "      <td>0.945055</td>\n",
       "      <td>0.95614</td>\n",
       "    </tr>\n",
       "    <tr>\n",
       "      <th>model-4</th>\n",
       "      <td>LogisticRegression(max_iter=40, penalty='l1', ...</td>\n",
       "      <td>0.953297</td>\n",
       "      <td>0.934066</td>\n",
       "      <td>0.964912</td>\n",
       "    </tr>\n",
       "    <tr>\n",
       "      <th>model-5</th>\n",
       "      <td>LogisticRegression(max_iter=40, penalty='l1', ...</td>\n",
       "      <td>0.942308</td>\n",
       "      <td>0.967033</td>\n",
       "      <td>0.964912</td>\n",
       "    </tr>\n",
       "    <tr>\n",
       "      <th>model-2</th>\n",
       "      <td>LogisticRegression(max_iter=40, penalty='l1', ...</td>\n",
       "      <td>0.947802</td>\n",
       "      <td>0.923077</td>\n",
       "      <td>0.95614</td>\n",
       "    </tr>\n",
       "    <tr>\n",
       "      <th>model-3</th>\n",
       "      <td>LogisticRegression(max_iter=40, penalty='l1', ...</td>\n",
       "      <td>0.936813</td>\n",
       "      <td>0.967033</td>\n",
       "      <td>0.95614</td>\n",
       "    </tr>\n",
       "    <tr>\n",
       "      <th>model-1</th>\n",
       "      <td>LogisticRegression(max_iter=40, penalty='l1', ...</td>\n",
       "      <td>0.947802</td>\n",
       "      <td>0.89011</td>\n",
       "      <td>0.947368</td>\n",
       "    </tr>\n",
       "    <tr>\n",
       "      <th>model-1</th>\n",
       "      <td>MultinomialNB()</td>\n",
       "      <td>0.629121</td>\n",
       "      <td>0.648352</td>\n",
       "      <td>0.622807</td>\n",
       "    </tr>\n",
       "    <tr>\n",
       "      <th>model-2</th>\n",
       "      <td>MultinomialNB()</td>\n",
       "      <td>0.634615</td>\n",
       "      <td>0.626374</td>\n",
       "      <td>0.622807</td>\n",
       "    </tr>\n",
       "    <tr>\n",
       "      <th>model-3</th>\n",
       "      <td>MultinomialNB()</td>\n",
       "      <td>0.634615</td>\n",
       "      <td>0.626374</td>\n",
       "      <td>0.622807</td>\n",
       "    </tr>\n",
       "    <tr>\n",
       "      <th>model-4</th>\n",
       "      <td>MultinomialNB()</td>\n",
       "      <td>0.631868</td>\n",
       "      <td>0.637363</td>\n",
       "      <td>0.622807</td>\n",
       "    </tr>\n",
       "    <tr>\n",
       "      <th>model-5</th>\n",
       "      <td>MultinomialNB()</td>\n",
       "      <td>0.634615</td>\n",
       "      <td>0.626374</td>\n",
       "      <td>0.622807</td>\n",
       "    </tr>\n",
       "    <tr>\n",
       "      <th>model-3</th>\n",
       "      <td>DecisionTreeClassifier(max_depth=1, min_sample...</td>\n",
       "      <td>0.92033</td>\n",
       "      <td>0.89011</td>\n",
       "      <td>0.947368</td>\n",
       "    </tr>\n",
       "    <tr>\n",
       "      <th>model-1</th>\n",
       "      <td>DecisionTreeClassifier(max_depth=1, min_sample...</td>\n",
       "      <td>0.934066</td>\n",
       "      <td>0.868132</td>\n",
       "      <td>0.912281</td>\n",
       "    </tr>\n",
       "    <tr>\n",
       "      <th>model-5</th>\n",
       "      <td>DecisionTreeClassifier(max_depth=1, min_sample...</td>\n",
       "      <td>0.917582</td>\n",
       "      <td>0.934066</td>\n",
       "      <td>0.912281</td>\n",
       "    </tr>\n",
       "    <tr>\n",
       "      <th>model-2</th>\n",
       "      <td>DecisionTreeClassifier(max_depth=1, min_sample...</td>\n",
       "      <td>0.928571</td>\n",
       "      <td>0.89011</td>\n",
       "      <td>0.894737</td>\n",
       "    </tr>\n",
       "    <tr>\n",
       "      <th>model-4</th>\n",
       "      <td>DecisionTreeClassifier(max_depth=1, min_sample...</td>\n",
       "      <td>0.923077</td>\n",
       "      <td>0.901099</td>\n",
       "      <td>0.894737</td>\n",
       "    </tr>\n",
       "  </tbody>\n",
       "</table>\n",
       "</div>"
      ],
      "text/plain": [
       "                                                     train  training  \\\n",
       "model-5                               SVC(C=1.2, tol=0.01)  0.950549   \n",
       "model-1                               SVC(C=1.2, tol=0.01)  0.964286   \n",
       "model-2                               SVC(C=1.2, tol=0.01)  0.950549   \n",
       "model-3                               SVC(C=1.2, tol=0.01)  0.947802   \n",
       "model-4                               SVC(C=1.2, tol=0.01)  0.958791   \n",
       "model-4  LogisticRegression(max_iter=40, penalty='l1', ...  0.953297   \n",
       "model-5  LogisticRegression(max_iter=40, penalty='l1', ...  0.942308   \n",
       "model-2  LogisticRegression(max_iter=40, penalty='l1', ...  0.947802   \n",
       "model-3  LogisticRegression(max_iter=40, penalty='l1', ...  0.936813   \n",
       "model-1  LogisticRegression(max_iter=40, penalty='l1', ...  0.947802   \n",
       "model-1                                    MultinomialNB()  0.629121   \n",
       "model-2                                    MultinomialNB()  0.634615   \n",
       "model-3                                    MultinomialNB()  0.634615   \n",
       "model-4                                    MultinomialNB()  0.631868   \n",
       "model-5                                    MultinomialNB()  0.634615   \n",
       "model-3  DecisionTreeClassifier(max_depth=1, min_sample...   0.92033   \n",
       "model-1  DecisionTreeClassifier(max_depth=1, min_sample...  0.934066   \n",
       "model-5  DecisionTreeClassifier(max_depth=1, min_sample...  0.917582   \n",
       "model-2  DecisionTreeClassifier(max_depth=1, min_sample...  0.928571   \n",
       "model-4  DecisionTreeClassifier(max_depth=1, min_sample...  0.923077   \n",
       "\n",
       "        validation   testing  \n",
       "model-5   0.978022  0.964912  \n",
       "model-1   0.901099   0.95614  \n",
       "model-2   0.934066   0.95614  \n",
       "model-3   0.956044   0.95614  \n",
       "model-4   0.945055   0.95614  \n",
       "model-4   0.934066  0.964912  \n",
       "model-5   0.967033  0.964912  \n",
       "model-2   0.923077   0.95614  \n",
       "model-3   0.967033   0.95614  \n",
       "model-1    0.89011  0.947368  \n",
       "model-1   0.648352  0.622807  \n",
       "model-2   0.626374  0.622807  \n",
       "model-3   0.626374  0.622807  \n",
       "model-4   0.637363  0.622807  \n",
       "model-5   0.626374  0.622807  \n",
       "model-3    0.89011  0.947368  \n",
       "model-1   0.868132  0.912281  \n",
       "model-5   0.934066  0.912281  \n",
       "model-2    0.89011  0.894737  \n",
       "model-4   0.901099  0.894737  "
      ]
     },
     "execution_count": 9,
     "metadata": {},
     "output_type": "execute_result"
    }
   ],
   "source": [
    "# create dataframe for easy understanding from ensemble classifiers stacking results\n",
    "genetic_algorithm_ensemble_classifiers_results_diagnosis_original = list()\n",
    "for model in genetic_algorithm_ensemble_classifiers_diagnosis_original.keys():\n",
    "    genetic_algorithm_ensemble_classifiers_results_diagnosis_original.append(\n",
    "        pd.DataFrame(genetic_algorithm_ensemble_classifiers_diagnosis_original[model]).transpose().sort_values(by=['testing'], ascending=False))\n",
    "\n",
    "# concat all dataframe results\n",
    "genetic_algorithm_ensemble_classifiers_results_diagnosis_original = pd.concat(genetic_algorithm_ensemble_classifiers_results_diagnosis_original, axis=0)\n",
    "genetic_algorithm_ensemble_classifiers_results_diagnosis_original"
   ]
  },
  {
   "cell_type": "markdown",
   "id": "fb608c14",
   "metadata": {},
   "source": [
    "### Create New Input Training from stacking ensemble ML"
   ]
  },
  {
   "cell_type": "code",
   "execution_count": 10,
   "id": "c8fb4d4c",
   "metadata": {},
   "outputs": [],
   "source": [
    "genetic_algorithm_new_input_training_features_diagnosis_original = create_new_input_features(\n",
    "    genetic_algorithm_ensemble_classifiers_diagnosis_original, \n",
    "    diagnosis_X_train_original,\n",
    "    diagnosis_y_train_original\n",
    ")"
   ]
  },
  {
   "cell_type": "code",
   "execution_count": 11,
   "id": "b8bbfc86",
   "metadata": {},
   "outputs": [
    {
     "data": {
      "text/html": [
       "<div>\n",
       "<style scoped>\n",
       "    .dataframe tbody tr th:only-of-type {\n",
       "        vertical-align: middle;\n",
       "    }\n",
       "\n",
       "    .dataframe tbody tr th {\n",
       "        vertical-align: top;\n",
       "    }\n",
       "\n",
       "    .dataframe thead th {\n",
       "        text-align: right;\n",
       "    }\n",
       "</style>\n",
       "<table border=\"1\" class=\"dataframe\">\n",
       "  <thead>\n",
       "    <tr style=\"text-align: right;\">\n",
       "      <th></th>\n",
       "      <th>majority_vote_from_svm</th>\n",
       "      <th>majority_vote_from_logreg</th>\n",
       "      <th>majority_vote_from_naive_bayes</th>\n",
       "      <th>majority_vote_from_decision_tree</th>\n",
       "      <th>ground_truth</th>\n",
       "    </tr>\n",
       "  </thead>\n",
       "  <tbody>\n",
       "    <tr>\n",
       "      <th>0</th>\n",
       "      <td>0</td>\n",
       "      <td>0</td>\n",
       "      <td>0</td>\n",
       "      <td>0</td>\n",
       "      <td>0</td>\n",
       "    </tr>\n",
       "    <tr>\n",
       "      <th>1</th>\n",
       "      <td>1</td>\n",
       "      <td>1</td>\n",
       "      <td>0</td>\n",
       "      <td>1</td>\n",
       "      <td>1</td>\n",
       "    </tr>\n",
       "    <tr>\n",
       "      <th>2</th>\n",
       "      <td>0</td>\n",
       "      <td>0</td>\n",
       "      <td>0</td>\n",
       "      <td>0</td>\n",
       "      <td>0</td>\n",
       "    </tr>\n",
       "    <tr>\n",
       "      <th>3</th>\n",
       "      <td>0</td>\n",
       "      <td>0</td>\n",
       "      <td>0</td>\n",
       "      <td>0</td>\n",
       "      <td>0</td>\n",
       "    </tr>\n",
       "    <tr>\n",
       "      <th>4</th>\n",
       "      <td>0</td>\n",
       "      <td>0</td>\n",
       "      <td>0</td>\n",
       "      <td>0</td>\n",
       "      <td>0</td>\n",
       "    </tr>\n",
       "  </tbody>\n",
       "</table>\n",
       "</div>"
      ],
      "text/plain": [
       "   majority_vote_from_svm  majority_vote_from_logreg  \\\n",
       "0                       0                          0   \n",
       "1                       1                          1   \n",
       "2                       0                          0   \n",
       "3                       0                          0   \n",
       "4                       0                          0   \n",
       "\n",
       "   majority_vote_from_naive_bayes  majority_vote_from_decision_tree  \\\n",
       "0                               0                                 0   \n",
       "1                               0                                 1   \n",
       "2                               0                                 0   \n",
       "3                               0                                 0   \n",
       "4                               0                                 0   \n",
       "\n",
       "   ground_truth  \n",
       "0             0  \n",
       "1             1  \n",
       "2             0  \n",
       "3             0  \n",
       "4             0  "
      ]
     },
     "execution_count": 11,
     "metadata": {},
     "output_type": "execute_result"
    }
   ],
   "source": [
    "genetic_algorithm_new_input_training_features_diagnosis_original.head()"
   ]
  },
  {
   "cell_type": "markdown",
   "id": "4d8c9f3b",
   "metadata": {},
   "source": [
    "### Feed New Input Features into ANN Model"
   ]
  },
  {
   "cell_type": "code",
   "execution_count": 12,
   "id": "948137df",
   "metadata": {},
   "outputs": [
    {
     "name": "stdout",
     "output_type": "stream",
     "text": [
      "Final Accuracy Score [Mls Ensembles + ANN] on Training Diagnostic Dataset (Original) =  0.9494505494505494\n"
     ]
    }
   ],
   "source": [
    "# split X and y from new_input_features before feeding to ANN\n",
    "new_X_train = genetic_algorithm_new_input_training_features_diagnosis_original.drop([\n",
    "                                                                                    'ground_truth'], axis=1)\n",
    "new_y_train = genetic_algorithm_new_input_training_features_diagnosis_original[\n",
    "    'ground_truth']\n",
    "\n",
    "# feed new X and new y into ANN\n",
    "genetic_algorithm_ann_model_diagnosis_original = MLPClassifier(\n",
    "    hidden_layer_sizes=best_hyperparams_ann[0],\n",
    "    activation=best_hyperparams_ann[1],\n",
    "    solver=best_hyperparams_ann[2],\n",
    "    alpha=best_hyperparams_ann[3],\n",
    "    batch_size=best_hyperparams_ann[4],\n",
    "    learning_rate=best_hyperparams_ann[5],\n",
    "    learning_rate_init=best_hyperparams_ann[6],\n",
    ")\n",
    "genetic_algorithm_ann_model_diagnosis_original.fit(new_X_train, new_y_train)\n",
    "predicted_ann_train_diagnosis_original = genetic_algorithm_ann_model_diagnosis_original.predict(\n",
    "    new_X_train)\n",
    "\n",
    "print(\"Final Accuracy Score [Mls Ensembles + ANN] on Training Diagnostic Dataset (Original) = \",\n",
    "      accuracy_score(new_y_train, predicted_ann_train_diagnosis_original))"
   ]
  },
  {
   "cell_type": "markdown",
   "id": "8c83f8a7",
   "metadata": {},
   "source": [
    "## With Data Sampling Method (Upsampling)"
   ]
  },
  {
   "cell_type": "markdown",
   "id": "174673c6",
   "metadata": {},
   "source": [
    "### GA Optimization using Data with Upsampling"
   ]
  },
  {
   "cell_type": "code",
   "execution_count": 13,
   "id": "f65e5c6f",
   "metadata": {
    "scrolled": false
   },
   "outputs": [
    {
     "name": "stdout",
     "output_type": "stream",
     "text": [
      "ITERASI KE 0 | BEST FITNESS = 0.9174420688007643\n",
      "ITERASI KE 1 | BEST FITNESS = 0.9106037983755375\n",
      "ITERASI KE 2 | BEST FITNESS = 0.9098244147157191\n",
      "ITERASI KE 3 | BEST FITNESS = 0.909836359292881\n",
      "ITERASI KE 4 | BEST FITNESS = 0.9158265647396082\n",
      "ITERASI KE 5 | BEST FITNESS = 0.806996536072623\n",
      "ITERASI KE 6 | BEST FITNESS = 0.803992474916388\n",
      "ITERASI KE 7 | BEST FITNESS = 0.8094332298136646\n",
      "ITERASI KE 8 | BEST FITNESS = 0.7931408265647397\n",
      "ITERASI KE 9 | BEST FITNESS = 0.7936663879598662\n",
      "ITERASI KE 10 | BEST FITNESS = 0.8067247969421882\n",
      "ITERASI KE 11 | BEST FITNESS = 0.7926003344481607\n",
      "ITERASI KE 12 | BEST FITNESS = 0.7923315814620163\n",
      "ITERASI KE 13 | BEST FITNESS = 0.8089016961299571\n",
      "ITERASI KE 14 | BEST FITNESS = 0.8026278069756332\n",
      "ITERASI KE 15 | BEST FITNESS = 0.8067247969421882\n",
      "ITERASI KE 16 | BEST FITNESS = 0.8059095795508839\n",
      "ITERASI KE 17 | BEST FITNESS = 0.8048106784519828\n",
      "ITERASI KE 18 | BEST FITNESS = 0.8113503344481605\n",
      "ITERASI KE 19 | BEST FITNESS = 0.8047897754419495\n",
      "ITERASI KE 20 | BEST FITNESS = 0.7980440754897278\n",
      "ITERASI KE 21 | BEST FITNESS = 0.8031742713807932\n",
      "ITERASI KE 22 | BEST FITNESS = 0.7947413999044435\n",
      "ITERASI KE 23 | BEST FITNESS = 0.8094392021022456\n",
      "ITERASI KE 24 | BEST FITNESS = 0.7980351170568563\n",
      "ITERASI KE 25 | BEST FITNESS = 0.793421524128046\n",
      "ITERASI KE 26 | BEST FITNESS = 0.8037207357859533\n",
      "ITERASI KE 27 | BEST FITNESS = 0.8020693979933111\n",
      "ITERASI KE 28 | BEST FITNESS = 0.8061514572384139\n",
      "ITERASI KE 29 | BEST FITNESS = 0.8110845676063068\n"
     ]
    },
    {
     "data": {
      "image/png": "[encoded data removed]",
      "text/plain": [
       "<Figure size 864x576 with 1 Axes>"
      ]
     },
     "metadata": {
      "needs_background": "light"
     },
     "output_type": "display_data"
    },
    {
     "data": {
      "text/plain": [
       "[[[1.2, 'sigmoid', 'scale', 0.0001],\n",
       "  ['log_loss', 'random', 4, 6, 1],\n",
       "  ['none', 'lbfgs', 20, 0.001],\n",
       "  [100, 'identity', 'lbfgs', 0.001, 128, 'constant', 0.003]],\n",
       " 0.8110845676063068]"
      ]
     },
     "execution_count": 13,
     "metadata": {},
     "output_type": "execute_result"
    }
   ],
   "source": [
    "ga_model_upsampling = GeneticAlgorithm(\n",
    "    X_train=diagnosis_X_train_upsampling,\n",
    "    y_train=diagnosis_y_train_upsampling,\n",
    "    kfold=kfold,\n",
    "    number_of_chromosome=number_of_chromosome,\n",
    "    maximum_generations=maximum_generations,\n",
    "    crossover_rate=crossover_rate,\n",
    "    mutation_rate=mutation_rate,\n",
    "    convergence=convergence\n",
    ")\n",
    "last_populations_upsampling = ga_model_upsampling.train()\n",
    "\n",
    "# plot best fitness value in each generation\n",
    "ga_model_upsampling.plot_best_fitness_values()\n",
    "\n",
    "# get the last generation for best solutions\n",
    "best_hyperparams_genetic_algorithm_solution = last_populations_upsampling[0]\n",
    "best_hyperparams_svm = best_hyperparams_genetic_algorithm_solution[0][0]\n",
    "best_hyperparams_dt = best_hyperparams_genetic_algorithm_solution[0][1]\n",
    "best_hyperparams_logreg = best_hyperparams_genetic_algorithm_solution[0][2]\n",
    "best_hyperparams_ann = best_hyperparams_genetic_algorithm_solution[0][3]\n",
    "\n",
    "best_hyperparams_genetic_algorithm_solution"
   ]
  },
  {
   "cell_type": "markdown",
   "id": "e08c71e9",
   "metadata": {},
   "source": [
    "### Create Stacking ML Ensemble using 5-fold cross-validation"
   ]
  },
  {
   "cell_type": "code",
   "execution_count": 14,
   "id": "8d620fb9",
   "metadata": {},
   "outputs": [],
   "source": [
    "# create ensembles stacking method using GA hyperparameter optimized\n",
    "genetic_algorithm_ensemble_classifiers_diagnosis_upsampling = EnsembleStacking(\n",
    "    diagnosis_X_train_upsampling,\n",
    "    diagnosis_y_train_upsampling,\n",
    "    diagnosis_X_test_original,\n",
    "    diagnosis_y_test_original,\n",
    "    kfold,\n",
    "    svm_params={\n",
    "        'C': best_hyperparams_svm[0],\n",
    "        'kernel': best_hyperparams_svm[1],\n",
    "        'gamma': best_hyperparams_svm[2],\n",
    "        'tol': best_hyperparams_svm[3],\n",
    "    },\n",
    "    dt_params={\n",
    "        'criterion': best_hyperparams_dt[0],\n",
    "        'splitter': best_hyperparams_dt[1],\n",
    "        'max_depth': best_hyperparams_dt[2],\n",
    "        'min_samples_split': best_hyperparams_dt[3],\n",
    "        'min_samples_leaf': best_hyperparams_dt[4],\n",
    "    },\n",
    "    logreg_params={\n",
    "        'penalty': best_hyperparams_logreg[0],\n",
    "        'solver': best_hyperparams_logreg[1],\n",
    "        'max_iter': best_hyperparams_logreg[2],\n",
    "        'tol': best_hyperparams_logreg[3],\n",
    "    }\n",
    ").train_ensemble()"
   ]
  },
  {
   "cell_type": "code",
   "execution_count": 15,
   "id": "f0849d6c",
   "metadata": {},
   "outputs": [
    {
     "data": {
      "text/html": [
       "<div>\n",
       "<style scoped>\n",
       "    .dataframe tbody tr th:only-of-type {\n",
       "        vertical-align: middle;\n",
       "    }\n",
       "\n",
       "    .dataframe tbody tr th {\n",
       "        vertical-align: top;\n",
       "    }\n",
       "\n",
       "    .dataframe thead th {\n",
       "        text-align: right;\n",
       "    }\n",
       "</style>\n",
       "<table border=\"1\" class=\"dataframe\">\n",
       "  <thead>\n",
       "    <tr style=\"text-align: right;\">\n",
       "      <th></th>\n",
       "      <th>train</th>\n",
       "      <th>training</th>\n",
       "      <th>validation</th>\n",
       "      <th>testing</th>\n",
       "    </tr>\n",
       "  </thead>\n",
       "  <tbody>\n",
       "    <tr>\n",
       "      <th>model-2</th>\n",
       "      <td>SVC(C=1.2, kernel='sigmoid', tol=0.0001)</td>\n",
       "      <td>0.083151</td>\n",
       "      <td>0.06087</td>\n",
       "      <td>0.078947</td>\n",
       "    </tr>\n",
       "    <tr>\n",
       "      <th>model-1</th>\n",
       "      <td>SVC(C=1.2, kernel='sigmoid', tol=0.0001)</td>\n",
       "      <td>0.085339</td>\n",
       "      <td>0.086957</td>\n",
       "      <td>0.070175</td>\n",
       "    </tr>\n",
       "    <tr>\n",
       "      <th>model-3</th>\n",
       "      <td>SVC(C=1.2, kernel='sigmoid', tol=0.0001)</td>\n",
       "      <td>0.082969</td>\n",
       "      <td>0.061404</td>\n",
       "      <td>0.070175</td>\n",
       "    </tr>\n",
       "    <tr>\n",
       "      <th>model-4</th>\n",
       "      <td>SVC(C=1.2, kernel='sigmoid', tol=0.0001)</td>\n",
       "      <td>0.080786</td>\n",
       "      <td>0.078947</td>\n",
       "      <td>0.070175</td>\n",
       "    </tr>\n",
       "    <tr>\n",
       "      <th>model-5</th>\n",
       "      <td>SVC(C=1.2, kernel='sigmoid', tol=0.0001)</td>\n",
       "      <td>0.074236</td>\n",
       "      <td>0.122807</td>\n",
       "      <td>0.070175</td>\n",
       "    </tr>\n",
       "    <tr>\n",
       "      <th>model-5</th>\n",
       "      <td>LogisticRegression(max_iter=20, penalty='none'...</td>\n",
       "      <td>0.951965</td>\n",
       "      <td>0.938596</td>\n",
       "      <td>0.982456</td>\n",
       "    </tr>\n",
       "    <tr>\n",
       "      <th>model-1</th>\n",
       "      <td>LogisticRegression(max_iter=20, penalty='none'...</td>\n",
       "      <td>0.960613</td>\n",
       "      <td>0.921739</td>\n",
       "      <td>0.973684</td>\n",
       "    </tr>\n",
       "    <tr>\n",
       "      <th>model-2</th>\n",
       "      <td>LogisticRegression(max_iter=20, penalty='none'...</td>\n",
       "      <td>0.956236</td>\n",
       "      <td>0.965217</td>\n",
       "      <td>0.973684</td>\n",
       "    </tr>\n",
       "    <tr>\n",
       "      <th>model-4</th>\n",
       "      <td>LogisticRegression(max_iter=20, penalty='none'...</td>\n",
       "      <td>0.954148</td>\n",
       "      <td>0.964912</td>\n",
       "      <td>0.973684</td>\n",
       "    </tr>\n",
       "    <tr>\n",
       "      <th>model-3</th>\n",
       "      <td>LogisticRegression(max_iter=20, penalty='none'...</td>\n",
       "      <td>0.949782</td>\n",
       "      <td>0.973684</td>\n",
       "      <td>0.964912</td>\n",
       "    </tr>\n",
       "    <tr>\n",
       "      <th>model-3</th>\n",
       "      <td>MultinomialNB()</td>\n",
       "      <td>0.842795</td>\n",
       "      <td>0.885965</td>\n",
       "      <td>0.885965</td>\n",
       "    </tr>\n",
       "    <tr>\n",
       "      <th>model-4</th>\n",
       "      <td>MultinomialNB()</td>\n",
       "      <td>0.853712</td>\n",
       "      <td>0.815789</td>\n",
       "      <td>0.877193</td>\n",
       "    </tr>\n",
       "    <tr>\n",
       "      <th>model-1</th>\n",
       "      <td>MultinomialNB()</td>\n",
       "      <td>0.827133</td>\n",
       "      <td>0.843478</td>\n",
       "      <td>0.868421</td>\n",
       "    </tr>\n",
       "    <tr>\n",
       "      <th>model-5</th>\n",
       "      <td>MultinomialNB()</td>\n",
       "      <td>0.831878</td>\n",
       "      <td>0.745614</td>\n",
       "      <td>0.868421</td>\n",
       "    </tr>\n",
       "    <tr>\n",
       "      <th>model-2</th>\n",
       "      <td>MultinomialNB()</td>\n",
       "      <td>0.859956</td>\n",
       "      <td>0.852174</td>\n",
       "      <td>0.850877</td>\n",
       "    </tr>\n",
       "    <tr>\n",
       "      <th>model-2</th>\n",
       "      <td>DecisionTreeClassifier(criterion='log_loss', m...</td>\n",
       "      <td>0.945295</td>\n",
       "      <td>0.965217</td>\n",
       "      <td>0.982456</td>\n",
       "    </tr>\n",
       "    <tr>\n",
       "      <th>model-4</th>\n",
       "      <td>DecisionTreeClassifier(criterion='log_loss', m...</td>\n",
       "      <td>0.956332</td>\n",
       "      <td>0.973684</td>\n",
       "      <td>0.95614</td>\n",
       "    </tr>\n",
       "    <tr>\n",
       "      <th>model-3</th>\n",
       "      <td>DecisionTreeClassifier(criterion='log_loss', m...</td>\n",
       "      <td>0.951965</td>\n",
       "      <td>0.947368</td>\n",
       "      <td>0.947368</td>\n",
       "    </tr>\n",
       "    <tr>\n",
       "      <th>model-1</th>\n",
       "      <td>DecisionTreeClassifier(criterion='log_loss', m...</td>\n",
       "      <td>0.947484</td>\n",
       "      <td>0.93913</td>\n",
       "      <td>0.938596</td>\n",
       "    </tr>\n",
       "    <tr>\n",
       "      <th>model-5</th>\n",
       "      <td>DecisionTreeClassifier(criterion='log_loss', m...</td>\n",
       "      <td>0.941048</td>\n",
       "      <td>0.903509</td>\n",
       "      <td>0.929825</td>\n",
       "    </tr>\n",
       "  </tbody>\n",
       "</table>\n",
       "</div>"
      ],
      "text/plain": [
       "                                                     train  training  \\\n",
       "model-2           SVC(C=1.2, kernel='sigmoid', tol=0.0001)  0.083151   \n",
       "model-1           SVC(C=1.2, kernel='sigmoid', tol=0.0001)  0.085339   \n",
       "model-3           SVC(C=1.2, kernel='sigmoid', tol=0.0001)  0.082969   \n",
       "model-4           SVC(C=1.2, kernel='sigmoid', tol=0.0001)  0.080786   \n",
       "model-5           SVC(C=1.2, kernel='sigmoid', tol=0.0001)  0.074236   \n",
       "model-5  LogisticRegression(max_iter=20, penalty='none'...  0.951965   \n",
       "model-1  LogisticRegression(max_iter=20, penalty='none'...  0.960613   \n",
       "model-2  LogisticRegression(max_iter=20, penalty='none'...  0.956236   \n",
       "model-4  LogisticRegression(max_iter=20, penalty='none'...  0.954148   \n",
       "model-3  LogisticRegression(max_iter=20, penalty='none'...  0.949782   \n",
       "model-3                                    MultinomialNB()  0.842795   \n",
       "model-4                                    MultinomialNB()  0.853712   \n",
       "model-1                                    MultinomialNB()  0.827133   \n",
       "model-5                                    MultinomialNB()  0.831878   \n",
       "model-2                                    MultinomialNB()  0.859956   \n",
       "model-2  DecisionTreeClassifier(criterion='log_loss', m...  0.945295   \n",
       "model-4  DecisionTreeClassifier(criterion='log_loss', m...  0.956332   \n",
       "model-3  DecisionTreeClassifier(criterion='log_loss', m...  0.951965   \n",
       "model-1  DecisionTreeClassifier(criterion='log_loss', m...  0.947484   \n",
       "model-5  DecisionTreeClassifier(criterion='log_loss', m...  0.941048   \n",
       "\n",
       "        validation   testing  \n",
       "model-2    0.06087  0.078947  \n",
       "model-1   0.086957  0.070175  \n",
       "model-3   0.061404  0.070175  \n",
       "model-4   0.078947  0.070175  \n",
       "model-5   0.122807  0.070175  \n",
       "model-5   0.938596  0.982456  \n",
       "model-1   0.921739  0.973684  \n",
       "model-2   0.965217  0.973684  \n",
       "model-4   0.964912  0.973684  \n",
       "model-3   0.973684  0.964912  \n",
       "model-3   0.885965  0.885965  \n",
       "model-4   0.815789  0.877193  \n",
       "model-1   0.843478  0.868421  \n",
       "model-5   0.745614  0.868421  \n",
       "model-2   0.852174  0.850877  \n",
       "model-2   0.965217  0.982456  \n",
       "model-4   0.973684   0.95614  \n",
       "model-3   0.947368  0.947368  \n",
       "model-1    0.93913  0.938596  \n",
       "model-5   0.903509  0.929825  "
      ]
     },
     "execution_count": 15,
     "metadata": {},
     "output_type": "execute_result"
    }
   ],
   "source": [
    "# create dataframe for easy understanding from ensemble classifiers stacking results\n",
    "genetic_algorithm_ensemble_classifiers_results_diagnosis_upsampling = list()\n",
    "for model in genetic_algorithm_ensemble_classifiers_diagnosis_upsampling.keys():\n",
    "    genetic_algorithm_ensemble_classifiers_results_diagnosis_upsampling.append(pd.DataFrame(genetic_algorithm_ensemble_classifiers_diagnosis_upsampling[model]).transpose().sort_values(by=['testing'], ascending=False))\n",
    "\n",
    "# concat all dataframe results\n",
    "genetic_algorithm_ensemble_classifiers_results_diagnosis_upsampling = pd.concat(genetic_algorithm_ensemble_classifiers_results_diagnosis_upsampling, axis=0)\n",
    "genetic_algorithm_ensemble_classifiers_results_diagnosis_upsampling"
   ]
  },
  {
   "cell_type": "markdown",
   "id": "8b5a0635",
   "metadata": {},
   "source": [
    "### Create New Input Training from stacking ensemble ML"
   ]
  },
  {
   "cell_type": "code",
   "execution_count": 16,
   "id": "4ac12b36",
   "metadata": {},
   "outputs": [],
   "source": [
    "genetic_algorithm_new_input_training_features_diagnosis_upsampling = create_new_input_features(\n",
    "    genetic_algorithm_ensemble_classifiers_diagnosis_upsampling, \n",
    "    diagnosis_X_train_upsampling,\n",
    "    diagnosis_y_train_upsampling\n",
    ")"
   ]
  },
  {
   "cell_type": "code",
   "execution_count": 17,
   "id": "c7c60e9f",
   "metadata": {},
   "outputs": [
    {
     "data": {
      "text/html": [
       "<div>\n",
       "<style scoped>\n",
       "    .dataframe tbody tr th:only-of-type {\n",
       "        vertical-align: middle;\n",
       "    }\n",
       "\n",
       "    .dataframe tbody tr th {\n",
       "        vertical-align: top;\n",
       "    }\n",
       "\n",
       "    .dataframe thead th {\n",
       "        text-align: right;\n",
       "    }\n",
       "</style>\n",
       "<table border=\"1\" class=\"dataframe\">\n",
       "  <thead>\n",
       "    <tr style=\"text-align: right;\">\n",
       "      <th></th>\n",
       "      <th>majority_vote_from_svm</th>\n",
       "      <th>majority_vote_from_logreg</th>\n",
       "      <th>majority_vote_from_naive_bayes</th>\n",
       "      <th>majority_vote_from_decision_tree</th>\n",
       "      <th>ground_truth</th>\n",
       "    </tr>\n",
       "  </thead>\n",
       "  <tbody>\n",
       "    <tr>\n",
       "      <th>0</th>\n",
       "      <td>0</td>\n",
       "      <td>1</td>\n",
       "      <td>1</td>\n",
       "      <td>1</td>\n",
       "      <td>1</td>\n",
       "    </tr>\n",
       "    <tr>\n",
       "      <th>1</th>\n",
       "      <td>1</td>\n",
       "      <td>0</td>\n",
       "      <td>0</td>\n",
       "      <td>0</td>\n",
       "      <td>0</td>\n",
       "    </tr>\n",
       "    <tr>\n",
       "      <th>2</th>\n",
       "      <td>0</td>\n",
       "      <td>1</td>\n",
       "      <td>1</td>\n",
       "      <td>1</td>\n",
       "      <td>1</td>\n",
       "    </tr>\n",
       "    <tr>\n",
       "      <th>3</th>\n",
       "      <td>1</td>\n",
       "      <td>0</td>\n",
       "      <td>0</td>\n",
       "      <td>0</td>\n",
       "      <td>0</td>\n",
       "    </tr>\n",
       "    <tr>\n",
       "      <th>4</th>\n",
       "      <td>0</td>\n",
       "      <td>1</td>\n",
       "      <td>1</td>\n",
       "      <td>1</td>\n",
       "      <td>1</td>\n",
       "    </tr>\n",
       "  </tbody>\n",
       "</table>\n",
       "</div>"
      ],
      "text/plain": [
       "   majority_vote_from_svm  majority_vote_from_logreg  \\\n",
       "0                       0                          1   \n",
       "1                       1                          0   \n",
       "2                       0                          1   \n",
       "3                       1                          0   \n",
       "4                       0                          1   \n",
       "\n",
       "   majority_vote_from_naive_bayes  majority_vote_from_decision_tree  \\\n",
       "0                               1                                 1   \n",
       "1                               0                                 0   \n",
       "2                               1                                 1   \n",
       "3                               0                                 0   \n",
       "4                               1                                 1   \n",
       "\n",
       "   ground_truth  \n",
       "0             1  \n",
       "1             0  \n",
       "2             1  \n",
       "3             0  \n",
       "4             1  "
      ]
     },
     "execution_count": 17,
     "metadata": {},
     "output_type": "execute_result"
    }
   ],
   "source": [
    "genetic_algorithm_new_input_training_features_diagnosis_upsampling.head()"
   ]
  },
  {
   "cell_type": "markdown",
   "id": "df2f454a",
   "metadata": {},
   "source": [
    "### Feed New Input Features into ANN Model"
   ]
  },
  {
   "cell_type": "code",
   "execution_count": 18,
   "id": "108dca8d",
   "metadata": {},
   "outputs": [
    {
     "name": "stdout",
     "output_type": "stream",
     "text": [
      "Final Accuracy Score [Mls Ensembles + ANN] on Training Diagnostic Dataset (Upsampling) =  0.9667832167832168\n"
     ]
    }
   ],
   "source": [
    "# split X and y from new_input_features before feeding to ANN\n",
    "new_X_train = genetic_algorithm_new_input_training_features_diagnosis_upsampling.drop([\n",
    "                                                                                    'ground_truth'], axis=1)\n",
    "new_y_train = genetic_algorithm_new_input_training_features_diagnosis_upsampling[\n",
    "    'ground_truth']\n",
    "\n",
    "# feed new X and new y into ANN\n",
    "genetic_algorithm_ann_model_diagnosis_upsampling = MLPClassifier(\n",
    "    hidden_layer_sizes=best_hyperparams_ann[0],\n",
    "    activation=best_hyperparams_ann[1],\n",
    "    solver=best_hyperparams_ann[2],\n",
    "    alpha=best_hyperparams_ann[3],\n",
    "    batch_size=best_hyperparams_ann[4],\n",
    "    learning_rate=best_hyperparams_ann[5],\n",
    "    learning_rate_init=best_hyperparams_ann[6],\n",
    ")\n",
    "genetic_algorithm_ann_model_diagnosis_upsampling.fit(new_X_train, new_y_train)\n",
    "predicted_ann_train_diagnosis_upsampling = genetic_algorithm_ann_model_diagnosis_upsampling.predict(\n",
    "    new_X_train)\n",
    "\n",
    "print(\"Final Accuracy Score [Mls Ensembles + ANN] on Training Diagnostic Dataset (Upsampling) = \",\n",
    "      accuracy_score(new_y_train, predicted_ann_train_diagnosis_upsampling))"
   ]
  },
  {
   "cell_type": "markdown",
   "id": "03907b17",
   "metadata": {},
   "source": [
    "## With Data Sampling Method (Downsampling)"
   ]
  },
  {
   "cell_type": "markdown",
   "id": "ee693ebe",
   "metadata": {},
   "source": [
    "### GA Optimization using data with Downsampling"
   ]
  },
  {
   "cell_type": "code",
   "execution_count": 19,
   "id": "13be7857",
   "metadata": {},
   "outputs": [
    {
     "name": "stdout",
     "output_type": "stream",
     "text": [
      "ITERASI KE 0 | BEST FITNESS = 0.8994008714596948\n",
      "ITERASI KE 1 | BEST FITNESS = 0.9003267973856209\n",
      "ITERASI KE 2 | BEST FITNESS = 0.8970860566448802\n",
      "ITERASI KE 3 | BEST FITNESS = 0.9132352941176471\n",
      "ITERASI KE 4 | BEST FITNESS = 0.8970860566448802\n",
      "ITERASI KE 5 | BEST FITNESS = 0.9086056644880175\n",
      "ITERASI KE 6 | BEST FITNESS = 0.89760348583878\n",
      "ITERASI KE 7 | BEST FITNESS = 0.8970860566448802\n",
      "ITERASI KE 8 | BEST FITNESS = 0.8975490196078432\n",
      "ITERASI KE 9 | BEST FITNESS = 0.8966230936819171\n",
      "ITERASI KE 10 | BEST FITNESS = 0.8966230936819171\n",
      "ITERASI KE 11 | BEST FITNESS = 0.8975490196078432\n",
      "ITERASI KE 12 | BEST FITNESS = 0.8966230936819171\n",
      "ITERASI KE 13 | BEST FITNESS = 0.8975490196078432\n",
      "ITERASI KE 14 | BEST FITNESS = 0.8970860566448802\n",
      "ITERASI KE 15 | BEST FITNESS = 0.8975490196078432\n",
      "ITERASI KE 16 | BEST FITNESS = 0.898011982570806\n",
      "ITERASI KE 17 | BEST FITNESS = 0.8975490196078432\n",
      "ITERASI KE 18 | BEST FITNESS = 0.8966230936819171\n",
      "ITERASI KE 19 | BEST FITNESS = 0.8975490196078432\n",
      "ITERASI KE 20 | BEST FITNESS = 0.8966230936819171\n",
      "ITERASI KE 21 | BEST FITNESS = 0.8975490196078432\n",
      "ITERASI KE 22 | BEST FITNESS = 0.8966230936819171\n",
      "ITERASI KE 23 | BEST FITNESS = 0.8966230936819171\n",
      "ITERASI KE 24 | BEST FITNESS = 0.8966230936819171\n",
      "ITERASI KE 25 | BEST FITNESS = 0.8966230936819171\n",
      "ITERASI KE 26 | BEST FITNESS = 0.8975490196078432\n",
      "ITERASI KE 27 | BEST FITNESS = 0.8966230936819171\n",
      "ITERASI KE 28 | BEST FITNESS = 0.8966230936819171\n",
      "ITERASI KE 29 | BEST FITNESS = 0.8975490196078432\n"
     ]
    },
    {
     "data": {
      "image/png": "[encoded data removed]",
      "text/plain": [
       "<Figure size 864x576 with 1 Axes>"
      ]
     },
     "metadata": {
      "needs_background": "light"
     },
     "output_type": "display_data"
    },
    {
     "data": {
      "text/plain": [
       "[[[1.3, 'linear', 'auto', 0.0001],\n",
       "  ['log_loss', 'best', 1, 3, 3],\n",
       "  ['l1', 'liblinear', 30, 1e-05],\n",
       "  [100, 'relu', 'adam', 1e-05, 64, 'constant', 0.001]],\n",
       " 0.8975490196078432]"
      ]
     },
     "execution_count": 19,
     "metadata": {},
     "output_type": "execute_result"
    }
   ],
   "source": [
    "ga_model_downsampling = GeneticAlgorithm(\n",
    "    X_train=diagnosis_X_train_downsampling,\n",
    "    y_train=diagnosis_y_train_downsampling,\n",
    "    kfold=kfold,\n",
    "    number_of_chromosome=number_of_chromosome,\n",
    "    maximum_generations=maximum_generations,\n",
    "    crossover_rate=crossover_rate,\n",
    "    mutation_rate=mutation_rate,\n",
    "    convergence=convergence\n",
    ")\n",
    "last_populations_downsampling = ga_model_downsampling.train()\n",
    "\n",
    "# plot best fitness value in each generation\n",
    "ga_model_downsampling.plot_best_fitness_values()\n",
    "\n",
    "# get the last generation for best solutions\n",
    "best_hyperparams_genetic_algorithm_solution = last_populations_downsampling[0]\n",
    "best_hyperparams_svm = best_hyperparams_genetic_algorithm_solution[0][0]\n",
    "best_hyperparams_dt = best_hyperparams_genetic_algorithm_solution[0][1]\n",
    "best_hyperparams_logreg = best_hyperparams_genetic_algorithm_solution[0][2]\n",
    "best_hyperparams_ann = best_hyperparams_genetic_algorithm_solution[0][3]\n",
    "\n",
    "best_hyperparams_genetic_algorithm_solution"
   ]
  },
  {
   "cell_type": "markdown",
   "id": "c2d13d72",
   "metadata": {},
   "source": [
    "### Create Stacking ML Ensemble using 5-fold cross-validation"
   ]
  },
  {
   "cell_type": "code",
   "execution_count": 20,
   "id": "304636d5",
   "metadata": {},
   "outputs": [],
   "source": [
    "# create ensembles stacking method using GA hyperparameter optimized\n",
    "genetic_algorithm_ensemble_classifiers_diagnosis_downsampling = EnsembleStacking(\n",
    "    diagnosis_X_train_downsampling,\n",
    "    diagnosis_y_train_downsampling,\n",
    "    diagnosis_X_test_original,\n",
    "    diagnosis_y_test_original,\n",
    "    kfold,\n",
    "    svm_params={\n",
    "        'C': best_hyperparams_svm[0],\n",
    "        'kernel': best_hyperparams_svm[1],\n",
    "        'gamma': best_hyperparams_svm[2],\n",
    "        'tol': best_hyperparams_svm[3],\n",
    "    },\n",
    "    dt_params={\n",
    "        'criterion': best_hyperparams_dt[0],\n",
    "        'splitter': best_hyperparams_dt[1],\n",
    "        'max_depth': best_hyperparams_dt[2],\n",
    "        'min_samples_split': best_hyperparams_dt[3],\n",
    "        'min_samples_leaf': best_hyperparams_dt[4],\n",
    "    },\n",
    "    logreg_params={\n",
    "        'penalty': best_hyperparams_logreg[0],\n",
    "        'solver': best_hyperparams_logreg[1],\n",
    "        'max_iter': best_hyperparams_logreg[2],\n",
    "        'tol': best_hyperparams_logreg[3],\n",
    "    }\n",
    ").train_ensemble()"
   ]
  },
  {
   "cell_type": "code",
   "execution_count": 21,
   "id": "1817c4ee",
   "metadata": {},
   "outputs": [
    {
     "data": {
      "text/html": [
       "<div>\n",
       "<style scoped>\n",
       "    .dataframe tbody tr th:only-of-type {\n",
       "        vertical-align: middle;\n",
       "    }\n",
       "\n",
       "    .dataframe tbody tr th {\n",
       "        vertical-align: top;\n",
       "    }\n",
       "\n",
       "    .dataframe thead th {\n",
       "        text-align: right;\n",
       "    }\n",
       "</style>\n",
       "<table border=\"1\" class=\"dataframe\">\n",
       "  <thead>\n",
       "    <tr style=\"text-align: right;\">\n",
       "      <th></th>\n",
       "      <th>train</th>\n",
       "      <th>training</th>\n",
       "      <th>validation</th>\n",
       "      <th>testing</th>\n",
       "    </tr>\n",
       "  </thead>\n",
       "  <tbody>\n",
       "    <tr>\n",
       "      <th>model-1</th>\n",
       "      <td>SVC(C=1.3, gamma='auto', kernel='linear', tol=...</td>\n",
       "      <td>0.918519</td>\n",
       "      <td>0.926471</td>\n",
       "      <td>0.973684</td>\n",
       "    </tr>\n",
       "    <tr>\n",
       "      <th>model-2</th>\n",
       "      <td>SVC(C=1.3, gamma='auto', kernel='linear', tol=...</td>\n",
       "      <td>0.933333</td>\n",
       "      <td>0.897059</td>\n",
       "      <td>0.973684</td>\n",
       "    </tr>\n",
       "    <tr>\n",
       "      <th>model-3</th>\n",
       "      <td>SVC(C=1.3, gamma='auto', kernel='linear', tol=...</td>\n",
       "      <td>0.92963</td>\n",
       "      <td>0.926471</td>\n",
       "      <td>0.973684</td>\n",
       "    </tr>\n",
       "    <tr>\n",
       "      <th>model-4</th>\n",
       "      <td>SVC(C=1.3, gamma='auto', kernel='linear', tol=...</td>\n",
       "      <td>0.933579</td>\n",
       "      <td>0.895522</td>\n",
       "      <td>0.973684</td>\n",
       "    </tr>\n",
       "    <tr>\n",
       "      <th>model-5</th>\n",
       "      <td>SVC(C=1.3, gamma='auto', kernel='linear', tol=...</td>\n",
       "      <td>0.933579</td>\n",
       "      <td>0.910448</td>\n",
       "      <td>0.973684</td>\n",
       "    </tr>\n",
       "    <tr>\n",
       "      <th>model-1</th>\n",
       "      <td>LogisticRegression(max_iter=30, penalty='l1', ...</td>\n",
       "      <td>0.944444</td>\n",
       "      <td>0.941176</td>\n",
       "      <td>0.973684</td>\n",
       "    </tr>\n",
       "    <tr>\n",
       "      <th>model-3</th>\n",
       "      <td>LogisticRegression(max_iter=30, penalty='l1', ...</td>\n",
       "      <td>0.925926</td>\n",
       "      <td>0.955882</td>\n",
       "      <td>0.973684</td>\n",
       "    </tr>\n",
       "    <tr>\n",
       "      <th>model-5</th>\n",
       "      <td>LogisticRegression(max_iter=30, penalty='l1', ...</td>\n",
       "      <td>0.940959</td>\n",
       "      <td>0.910448</td>\n",
       "      <td>0.973684</td>\n",
       "    </tr>\n",
       "    <tr>\n",
       "      <th>model-2</th>\n",
       "      <td>LogisticRegression(max_iter=30, penalty='l1', ...</td>\n",
       "      <td>0.940741</td>\n",
       "      <td>0.941176</td>\n",
       "      <td>0.95614</td>\n",
       "    </tr>\n",
       "    <tr>\n",
       "      <th>model-4</th>\n",
       "      <td>LogisticRegression(max_iter=30, penalty='l1', ...</td>\n",
       "      <td>0.944649</td>\n",
       "      <td>0.925373</td>\n",
       "      <td>0.95614</td>\n",
       "    </tr>\n",
       "    <tr>\n",
       "      <th>model-4</th>\n",
       "      <td>MultinomialNB()</td>\n",
       "      <td>0.811808</td>\n",
       "      <td>0.80597</td>\n",
       "      <td>0.903509</td>\n",
       "    </tr>\n",
       "    <tr>\n",
       "      <th>model-1</th>\n",
       "      <td>MultinomialNB()</td>\n",
       "      <td>0.803704</td>\n",
       "      <td>0.764706</td>\n",
       "      <td>0.877193</td>\n",
       "    </tr>\n",
       "    <tr>\n",
       "      <th>model-2</th>\n",
       "      <td>MultinomialNB()</td>\n",
       "      <td>0.87037</td>\n",
       "      <td>0.897059</td>\n",
       "      <td>0.877193</td>\n",
       "    </tr>\n",
       "    <tr>\n",
       "      <th>model-5</th>\n",
       "      <td>MultinomialNB()</td>\n",
       "      <td>0.819188</td>\n",
       "      <td>0.731343</td>\n",
       "      <td>0.868421</td>\n",
       "    </tr>\n",
       "    <tr>\n",
       "      <th>model-3</th>\n",
       "      <td>MultinomialNB()</td>\n",
       "      <td>0.796296</td>\n",
       "      <td>0.764706</td>\n",
       "      <td>0.842105</td>\n",
       "    </tr>\n",
       "    <tr>\n",
       "      <th>model-2</th>\n",
       "      <td>DecisionTreeClassifier(criterion='log_loss', m...</td>\n",
       "      <td>0.914815</td>\n",
       "      <td>0.852941</td>\n",
       "      <td>0.964912</td>\n",
       "    </tr>\n",
       "    <tr>\n",
       "      <th>model-1</th>\n",
       "      <td>DecisionTreeClassifier(criterion='log_loss', m...</td>\n",
       "      <td>0.914815</td>\n",
       "      <td>0.867647</td>\n",
       "      <td>0.912281</td>\n",
       "    </tr>\n",
       "    <tr>\n",
       "      <th>model-3</th>\n",
       "      <td>DecisionTreeClassifier(criterion='log_loss', m...</td>\n",
       "      <td>0.907407</td>\n",
       "      <td>0.882353</td>\n",
       "      <td>0.912281</td>\n",
       "    </tr>\n",
       "    <tr>\n",
       "      <th>model-5</th>\n",
       "      <td>DecisionTreeClassifier(criterion='log_loss', m...</td>\n",
       "      <td>0.911439</td>\n",
       "      <td>0.865672</td>\n",
       "      <td>0.912281</td>\n",
       "    </tr>\n",
       "    <tr>\n",
       "      <th>model-4</th>\n",
       "      <td>DecisionTreeClassifier(criterion='log_loss', m...</td>\n",
       "      <td>0.911439</td>\n",
       "      <td>0.910448</td>\n",
       "      <td>0.894737</td>\n",
       "    </tr>\n",
       "  </tbody>\n",
       "</table>\n",
       "</div>"
      ],
      "text/plain": [
       "                                                     train  training  \\\n",
       "model-1  SVC(C=1.3, gamma='auto', kernel='linear', tol=...  0.918519   \n",
       "model-2  SVC(C=1.3, gamma='auto', kernel='linear', tol=...  0.933333   \n",
       "model-3  SVC(C=1.3, gamma='auto', kernel='linear', tol=...   0.92963   \n",
       "model-4  SVC(C=1.3, gamma='auto', kernel='linear', tol=...  0.933579   \n",
       "model-5  SVC(C=1.3, gamma='auto', kernel='linear', tol=...  0.933579   \n",
       "model-1  LogisticRegression(max_iter=30, penalty='l1', ...  0.944444   \n",
       "model-3  LogisticRegression(max_iter=30, penalty='l1', ...  0.925926   \n",
       "model-5  LogisticRegression(max_iter=30, penalty='l1', ...  0.940959   \n",
       "model-2  LogisticRegression(max_iter=30, penalty='l1', ...  0.940741   \n",
       "model-4  LogisticRegression(max_iter=30, penalty='l1', ...  0.944649   \n",
       "model-4                                    MultinomialNB()  0.811808   \n",
       "model-1                                    MultinomialNB()  0.803704   \n",
       "model-2                                    MultinomialNB()   0.87037   \n",
       "model-5                                    MultinomialNB()  0.819188   \n",
       "model-3                                    MultinomialNB()  0.796296   \n",
       "model-2  DecisionTreeClassifier(criterion='log_loss', m...  0.914815   \n",
       "model-1  DecisionTreeClassifier(criterion='log_loss', m...  0.914815   \n",
       "model-3  DecisionTreeClassifier(criterion='log_loss', m...  0.907407   \n",
       "model-5  DecisionTreeClassifier(criterion='log_loss', m...  0.911439   \n",
       "model-4  DecisionTreeClassifier(criterion='log_loss', m...  0.911439   \n",
       "\n",
       "        validation   testing  \n",
       "model-1   0.926471  0.973684  \n",
       "model-2   0.897059  0.973684  \n",
       "model-3   0.926471  0.973684  \n",
       "model-4   0.895522  0.973684  \n",
       "model-5   0.910448  0.973684  \n",
       "model-1   0.941176  0.973684  \n",
       "model-3   0.955882  0.973684  \n",
       "model-5   0.910448  0.973684  \n",
       "model-2   0.941176   0.95614  \n",
       "model-4   0.925373   0.95614  \n",
       "model-4    0.80597  0.903509  \n",
       "model-1   0.764706  0.877193  \n",
       "model-2   0.897059  0.877193  \n",
       "model-5   0.731343  0.868421  \n",
       "model-3   0.764706  0.842105  \n",
       "model-2   0.852941  0.964912  \n",
       "model-1   0.867647  0.912281  \n",
       "model-3   0.882353  0.912281  \n",
       "model-5   0.865672  0.912281  \n",
       "model-4   0.910448  0.894737  "
      ]
     },
     "execution_count": 21,
     "metadata": {},
     "output_type": "execute_result"
    }
   ],
   "source": [
    "# create dataframe for easy understanding from ensemble classifiers stacking results\n",
    "genetic_algorithm_ensemble_classifiers_results_diagnosis_downsampling = list()\n",
    "for model in genetic_algorithm_ensemble_classifiers_diagnosis_downsampling.keys():\n",
    "    genetic_algorithm_ensemble_classifiers_results_diagnosis_downsampling.append(pd.DataFrame(genetic_algorithm_ensemble_classifiers_diagnosis_downsampling[model]).transpose().sort_values(by=['testing'], ascending=False))\n",
    "\n",
    "# concat all dataframe results\n",
    "genetic_algorithm_ensemble_classifiers_results_diagnosis_downsampling = pd.concat(genetic_algorithm_ensemble_classifiers_results_diagnosis_downsampling, axis=0)\n",
    "genetic_algorithm_ensemble_classifiers_results_diagnosis_downsampling"
   ]
  },
  {
   "cell_type": "markdown",
   "id": "ec74788f",
   "metadata": {},
   "source": [
    "### Create New Input Training from stacking ensemble ML"
   ]
  },
  {
   "cell_type": "code",
   "execution_count": 22,
   "id": "46366ce4",
   "metadata": {},
   "outputs": [],
   "source": [
    "genetic_algorithm_new_input_training_features_diagnosis_downsampling = create_new_input_features(\n",
    "    genetic_algorithm_ensemble_classifiers_diagnosis_downsampling, \n",
    "    diagnosis_X_train_downsampling,\n",
    "    diagnosis_y_train_downsampling\n",
    ")"
   ]
  },
  {
   "cell_type": "code",
   "execution_count": 23,
   "id": "751db8a6",
   "metadata": {},
   "outputs": [
    {
     "data": {
      "text/html": [
       "<div>\n",
       "<style scoped>\n",
       "    .dataframe tbody tr th:only-of-type {\n",
       "        vertical-align: middle;\n",
       "    }\n",
       "\n",
       "    .dataframe tbody tr th {\n",
       "        vertical-align: top;\n",
       "    }\n",
       "\n",
       "    .dataframe thead th {\n",
       "        text-align: right;\n",
       "    }\n",
       "</style>\n",
       "<table border=\"1\" class=\"dataframe\">\n",
       "  <thead>\n",
       "    <tr style=\"text-align: right;\">\n",
       "      <th></th>\n",
       "      <th>majority_vote_from_svm</th>\n",
       "      <th>majority_vote_from_logreg</th>\n",
       "      <th>majority_vote_from_naive_bayes</th>\n",
       "      <th>majority_vote_from_decision_tree</th>\n",
       "      <th>ground_truth</th>\n",
       "    </tr>\n",
       "  </thead>\n",
       "  <tbody>\n",
       "    <tr>\n",
       "      <th>0</th>\n",
       "      <td>0</td>\n",
       "      <td>0</td>\n",
       "      <td>0</td>\n",
       "      <td>0</td>\n",
       "      <td>0</td>\n",
       "    </tr>\n",
       "    <tr>\n",
       "      <th>1</th>\n",
       "      <td>1</td>\n",
       "      <td>1</td>\n",
       "      <td>0</td>\n",
       "      <td>1</td>\n",
       "      <td>1</td>\n",
       "    </tr>\n",
       "    <tr>\n",
       "      <th>2</th>\n",
       "      <td>1</td>\n",
       "      <td>1</td>\n",
       "      <td>1</td>\n",
       "      <td>1</td>\n",
       "      <td>1</td>\n",
       "    </tr>\n",
       "    <tr>\n",
       "      <th>3</th>\n",
       "      <td>1</td>\n",
       "      <td>1</td>\n",
       "      <td>1</td>\n",
       "      <td>1</td>\n",
       "      <td>1</td>\n",
       "    </tr>\n",
       "    <tr>\n",
       "      <th>4</th>\n",
       "      <td>1</td>\n",
       "      <td>1</td>\n",
       "      <td>1</td>\n",
       "      <td>1</td>\n",
       "      <td>1</td>\n",
       "    </tr>\n",
       "  </tbody>\n",
       "</table>\n",
       "</div>"
      ],
      "text/plain": [
       "   majority_vote_from_svm  majority_vote_from_logreg  \\\n",
       "0                       0                          0   \n",
       "1                       1                          1   \n",
       "2                       1                          1   \n",
       "3                       1                          1   \n",
       "4                       1                          1   \n",
       "\n",
       "   majority_vote_from_naive_bayes  majority_vote_from_decision_tree  \\\n",
       "0                               0                                 0   \n",
       "1                               0                                 1   \n",
       "2                               1                                 1   \n",
       "3                               1                                 1   \n",
       "4                               1                                 1   \n",
       "\n",
       "   ground_truth  \n",
       "0             0  \n",
       "1             1  \n",
       "2             1  \n",
       "3             1  \n",
       "4             1  "
      ]
     },
     "execution_count": 23,
     "metadata": {},
     "output_type": "execute_result"
    }
   ],
   "source": [
    "genetic_algorithm_new_input_training_features_diagnosis_downsampling.head()"
   ]
  },
  {
   "cell_type": "markdown",
   "id": "717305e5",
   "metadata": {},
   "source": [
    "### Feed New Input Features into ANN Model"
   ]
  },
  {
   "cell_type": "code",
   "execution_count": 25,
   "id": "bd5c4c36",
   "metadata": {},
   "outputs": [
    {
     "name": "stdout",
     "output_type": "stream",
     "text": [
      "Final Accuracy Score [Mls Ensembles + ANN] on Training Diagnostic Dataset (Downsampling) =  0.9467455621301775\n"
     ]
    }
   ],
   "source": [
    "# split X and y from new_input_features before feeding to ANN\n",
    "new_X_train = genetic_algorithm_new_input_training_features_diagnosis_downsampling.drop([\n",
    "                                                                                    'ground_truth'], axis=1)\n",
    "new_y_train = genetic_algorithm_new_input_training_features_diagnosis_downsampling[\n",
    "    'ground_truth']\n",
    "\n",
    "# feed new X and new y into ANN\n",
    "genetic_algorithm_ann_model_diagnosis_downsampling = MLPClassifier(\n",
    "    hidden_layer_sizes=best_hyperparams_ann[0],\n",
    "    activation=best_hyperparams_ann[1],\n",
    "    solver=best_hyperparams_ann[2],\n",
    "    alpha=best_hyperparams_ann[3],\n",
    "    batch_size=best_hyperparams_ann[4],\n",
    "    learning_rate=best_hyperparams_ann[5],\n",
    "    learning_rate_init=best_hyperparams_ann[6],\n",
    ")\n",
    "genetic_algorithm_ann_model_diagnosis_downsampling.fit(new_X_train, new_y_train)\n",
    "predicted_ann_train_diagnosis_downsampling = genetic_algorithm_ann_model_diagnosis_downsampling.predict(\n",
    "    new_X_train)\n",
    "\n",
    "print(\"Final Accuracy Score [Mls Ensembles + ANN] on Training Diagnostic Dataset (Downsampling) = \",\n",
    "      accuracy_score(new_y_train, predicted_ann_train_diagnosis_downsampling))"
   ]
  },
  {
   "cell_type": "markdown",
   "id": "cff0804e",
   "metadata": {},
   "source": [
    "# Modelling Ensemble Classifiers for Diagnosis Breast Cancer Dataset (Default Hyperparameters)"
   ]
  },
  {
   "cell_type": "markdown",
   "id": "ffe201e2",
   "metadata": {},
   "source": [
    "## Without Data Sampling Method (Original)"
   ]
  },
  {
   "cell_type": "markdown",
   "id": "cc558859",
   "metadata": {},
   "source": [
    "### Create Stacking ML Ensemble using 5-fold cross-validation"
   ]
  },
  {
   "cell_type": "code",
   "execution_count": 26,
   "id": "7e2e9d16",
   "metadata": {},
   "outputs": [],
   "source": [
    "ensemble_classifiers_diagnosis_original = EnsembleStacking(\n",
    "    diagnosis_X_train_original, \n",
    "    diagnosis_y_train_original, \n",
    "    diagnosis_X_test_original, \n",
    "    diagnosis_y_test_original, \n",
    "    kfold).train_ensemble()"
   ]
  },
  {
   "cell_type": "code",
   "execution_count": 27,
   "id": "7dcd56d4",
   "metadata": {},
   "outputs": [
    {
     "data": {
      "text/html": [
       "<div>\n",
       "<style scoped>\n",
       "    .dataframe tbody tr th:only-of-type {\n",
       "        vertical-align: middle;\n",
       "    }\n",
       "\n",
       "    .dataframe tbody tr th {\n",
       "        vertical-align: top;\n",
       "    }\n",
       "\n",
       "    .dataframe thead th {\n",
       "        text-align: right;\n",
       "    }\n",
       "</style>\n",
       "<table border=\"1\" class=\"dataframe\">\n",
       "  <thead>\n",
       "    <tr style=\"text-align: right;\">\n",
       "      <th></th>\n",
       "      <th>train</th>\n",
       "      <th>training</th>\n",
       "      <th>validation</th>\n",
       "      <th>testing</th>\n",
       "    </tr>\n",
       "  </thead>\n",
       "  <tbody>\n",
       "    <tr>\n",
       "      <th>model-5</th>\n",
       "      <td>SVC()</td>\n",
       "      <td>0.950549</td>\n",
       "      <td>0.978022</td>\n",
       "      <td>0.964912</td>\n",
       "    </tr>\n",
       "    <tr>\n",
       "      <th>model-1</th>\n",
       "      <td>SVC()</td>\n",
       "      <td>0.964286</td>\n",
       "      <td>0.901099</td>\n",
       "      <td>0.95614</td>\n",
       "    </tr>\n",
       "    <tr>\n",
       "      <th>model-2</th>\n",
       "      <td>SVC()</td>\n",
       "      <td>0.947802</td>\n",
       "      <td>0.912088</td>\n",
       "      <td>0.95614</td>\n",
       "    </tr>\n",
       "    <tr>\n",
       "      <th>model-3</th>\n",
       "      <td>SVC()</td>\n",
       "      <td>0.947802</td>\n",
       "      <td>0.956044</td>\n",
       "      <td>0.95614</td>\n",
       "    </tr>\n",
       "    <tr>\n",
       "      <th>model-4</th>\n",
       "      <td>SVC()</td>\n",
       "      <td>0.958791</td>\n",
       "      <td>0.945055</td>\n",
       "      <td>0.95614</td>\n",
       "    </tr>\n",
       "    <tr>\n",
       "      <th>model-1</th>\n",
       "      <td>LogisticRegression()</td>\n",
       "      <td>0.945055</td>\n",
       "      <td>0.912088</td>\n",
       "      <td>0.95614</td>\n",
       "    </tr>\n",
       "    <tr>\n",
       "      <th>model-2</th>\n",
       "      <td>LogisticRegression()</td>\n",
       "      <td>0.945055</td>\n",
       "      <td>0.912088</td>\n",
       "      <td>0.95614</td>\n",
       "    </tr>\n",
       "    <tr>\n",
       "      <th>model-3</th>\n",
       "      <td>LogisticRegression()</td>\n",
       "      <td>0.934066</td>\n",
       "      <td>0.945055</td>\n",
       "      <td>0.95614</td>\n",
       "    </tr>\n",
       "    <tr>\n",
       "      <th>model-4</th>\n",
       "      <td>LogisticRegression()</td>\n",
       "      <td>0.942308</td>\n",
       "      <td>0.934066</td>\n",
       "      <td>0.95614</td>\n",
       "    </tr>\n",
       "    <tr>\n",
       "      <th>model-5</th>\n",
       "      <td>LogisticRegression()</td>\n",
       "      <td>0.928571</td>\n",
       "      <td>0.978022</td>\n",
       "      <td>0.95614</td>\n",
       "    </tr>\n",
       "    <tr>\n",
       "      <th>model-1</th>\n",
       "      <td>MultinomialNB()</td>\n",
       "      <td>0.629121</td>\n",
       "      <td>0.648352</td>\n",
       "      <td>0.622807</td>\n",
       "    </tr>\n",
       "    <tr>\n",
       "      <th>model-2</th>\n",
       "      <td>MultinomialNB()</td>\n",
       "      <td>0.634615</td>\n",
       "      <td>0.626374</td>\n",
       "      <td>0.622807</td>\n",
       "    </tr>\n",
       "    <tr>\n",
       "      <th>model-3</th>\n",
       "      <td>MultinomialNB()</td>\n",
       "      <td>0.634615</td>\n",
       "      <td>0.626374</td>\n",
       "      <td>0.622807</td>\n",
       "    </tr>\n",
       "    <tr>\n",
       "      <th>model-4</th>\n",
       "      <td>MultinomialNB()</td>\n",
       "      <td>0.631868</td>\n",
       "      <td>0.637363</td>\n",
       "      <td>0.622807</td>\n",
       "    </tr>\n",
       "    <tr>\n",
       "      <th>model-5</th>\n",
       "      <td>MultinomialNB()</td>\n",
       "      <td>0.634615</td>\n",
       "      <td>0.626374</td>\n",
       "      <td>0.622807</td>\n",
       "    </tr>\n",
       "    <tr>\n",
       "      <th>model-1</th>\n",
       "      <td>DecisionTreeClassifier()</td>\n",
       "      <td>1.0</td>\n",
       "      <td>0.923077</td>\n",
       "      <td>0.95614</td>\n",
       "    </tr>\n",
       "    <tr>\n",
       "      <th>model-3</th>\n",
       "      <td>DecisionTreeClassifier()</td>\n",
       "      <td>1.0</td>\n",
       "      <td>0.901099</td>\n",
       "      <td>0.938596</td>\n",
       "    </tr>\n",
       "    <tr>\n",
       "      <th>model-2</th>\n",
       "      <td>DecisionTreeClassifier()</td>\n",
       "      <td>1.0</td>\n",
       "      <td>0.89011</td>\n",
       "      <td>0.929825</td>\n",
       "    </tr>\n",
       "    <tr>\n",
       "      <th>model-4</th>\n",
       "      <td>DecisionTreeClassifier()</td>\n",
       "      <td>1.0</td>\n",
       "      <td>0.934066</td>\n",
       "      <td>0.912281</td>\n",
       "    </tr>\n",
       "    <tr>\n",
       "      <th>model-5</th>\n",
       "      <td>DecisionTreeClassifier()</td>\n",
       "      <td>1.0</td>\n",
       "      <td>0.912088</td>\n",
       "      <td>0.903509</td>\n",
       "    </tr>\n",
       "  </tbody>\n",
       "</table>\n",
       "</div>"
      ],
      "text/plain": [
       "                            train  training validation   testing\n",
       "model-5                     SVC()  0.950549   0.978022  0.964912\n",
       "model-1                     SVC()  0.964286   0.901099   0.95614\n",
       "model-2                     SVC()  0.947802   0.912088   0.95614\n",
       "model-3                     SVC()  0.947802   0.956044   0.95614\n",
       "model-4                     SVC()  0.958791   0.945055   0.95614\n",
       "model-1      LogisticRegression()  0.945055   0.912088   0.95614\n",
       "model-2      LogisticRegression()  0.945055   0.912088   0.95614\n",
       "model-3      LogisticRegression()  0.934066   0.945055   0.95614\n",
       "model-4      LogisticRegression()  0.942308   0.934066   0.95614\n",
       "model-5      LogisticRegression()  0.928571   0.978022   0.95614\n",
       "model-1           MultinomialNB()  0.629121   0.648352  0.622807\n",
       "model-2           MultinomialNB()  0.634615   0.626374  0.622807\n",
       "model-3           MultinomialNB()  0.634615   0.626374  0.622807\n",
       "model-4           MultinomialNB()  0.631868   0.637363  0.622807\n",
       "model-5           MultinomialNB()  0.634615   0.626374  0.622807\n",
       "model-1  DecisionTreeClassifier()       1.0   0.923077   0.95614\n",
       "model-3  DecisionTreeClassifier()       1.0   0.901099  0.938596\n",
       "model-2  DecisionTreeClassifier()       1.0    0.89011  0.929825\n",
       "model-4  DecisionTreeClassifier()       1.0   0.934066  0.912281\n",
       "model-5  DecisionTreeClassifier()       1.0   0.912088  0.903509"
      ]
     },
     "execution_count": 27,
     "metadata": {},
     "output_type": "execute_result"
    }
   ],
   "source": [
    "# create dataframe for easy understanding from ensemble classifiers stacking results\n",
    "ensemble_classifiers_results_diagnosis_original = list()\n",
    "for model in ensemble_classifiers_diagnosis_original.keys():\n",
    "    ensemble_classifiers_results_diagnosis_original.append(pd.DataFrame(ensemble_classifiers_diagnosis_original[model]).transpose().sort_values(by=['testing'], ascending=False))\n",
    "\n",
    "# concat all dataframe results\n",
    "ensemble_classifiers_results_diagnosis_original = pd.concat(ensemble_classifiers_results_diagnosis_original, axis=0)\n",
    "ensemble_classifiers_results_diagnosis_original"
   ]
  },
  {
   "cell_type": "markdown",
   "id": "27c6cfd0",
   "metadata": {},
   "source": [
    "### Create New Input Training from stacking ensemble ML"
   ]
  },
  {
   "cell_type": "code",
   "execution_count": 28,
   "id": "00eaebdf",
   "metadata": {},
   "outputs": [],
   "source": [
    "new_input_training_features_diagnosis_original = create_new_input_features(\n",
    "    ensemble_classifiers_diagnosis_original, \n",
    "    diagnosis_X_train_original,\n",
    "    diagnosis_y_train_original\n",
    ")"
   ]
  },
  {
   "cell_type": "code",
   "execution_count": 29,
   "id": "9bc2d209",
   "metadata": {},
   "outputs": [
    {
     "data": {
      "text/html": [
       "<div>\n",
       "<style scoped>\n",
       "    .dataframe tbody tr th:only-of-type {\n",
       "        vertical-align: middle;\n",
       "    }\n",
       "\n",
       "    .dataframe tbody tr th {\n",
       "        vertical-align: top;\n",
       "    }\n",
       "\n",
       "    .dataframe thead th {\n",
       "        text-align: right;\n",
       "    }\n",
       "</style>\n",
       "<table border=\"1\" class=\"dataframe\">\n",
       "  <thead>\n",
       "    <tr style=\"text-align: right;\">\n",
       "      <th></th>\n",
       "      <th>majority_vote_from_svm</th>\n",
       "      <th>majority_vote_from_logreg</th>\n",
       "      <th>majority_vote_from_naive_bayes</th>\n",
       "      <th>majority_vote_from_decision_tree</th>\n",
       "      <th>ground_truth</th>\n",
       "    </tr>\n",
       "  </thead>\n",
       "  <tbody>\n",
       "    <tr>\n",
       "      <th>0</th>\n",
       "      <td>0</td>\n",
       "      <td>0</td>\n",
       "      <td>0</td>\n",
       "      <td>0</td>\n",
       "      <td>0</td>\n",
       "    </tr>\n",
       "    <tr>\n",
       "      <th>1</th>\n",
       "      <td>1</td>\n",
       "      <td>1</td>\n",
       "      <td>0</td>\n",
       "      <td>1</td>\n",
       "      <td>1</td>\n",
       "    </tr>\n",
       "    <tr>\n",
       "      <th>2</th>\n",
       "      <td>0</td>\n",
       "      <td>0</td>\n",
       "      <td>0</td>\n",
       "      <td>0</td>\n",
       "      <td>0</td>\n",
       "    </tr>\n",
       "    <tr>\n",
       "      <th>3</th>\n",
       "      <td>0</td>\n",
       "      <td>0</td>\n",
       "      <td>0</td>\n",
       "      <td>0</td>\n",
       "      <td>0</td>\n",
       "    </tr>\n",
       "    <tr>\n",
       "      <th>4</th>\n",
       "      <td>0</td>\n",
       "      <td>0</td>\n",
       "      <td>0</td>\n",
       "      <td>0</td>\n",
       "      <td>0</td>\n",
       "    </tr>\n",
       "  </tbody>\n",
       "</table>\n",
       "</div>"
      ],
      "text/plain": [
       "   majority_vote_from_svm  majority_vote_from_logreg  \\\n",
       "0                       0                          0   \n",
       "1                       1                          1   \n",
       "2                       0                          0   \n",
       "3                       0                          0   \n",
       "4                       0                          0   \n",
       "\n",
       "   majority_vote_from_naive_bayes  majority_vote_from_decision_tree  \\\n",
       "0                               0                                 0   \n",
       "1                               0                                 1   \n",
       "2                               0                                 0   \n",
       "3                               0                                 0   \n",
       "4                               0                                 0   \n",
       "\n",
       "   ground_truth  \n",
       "0             0  \n",
       "1             1  \n",
       "2             0  \n",
       "3             0  \n",
       "4             0  "
      ]
     },
     "execution_count": 29,
     "metadata": {},
     "output_type": "execute_result"
    }
   ],
   "source": [
    "new_input_training_features_diagnosis_original.head()"
   ]
  },
  {
   "cell_type": "markdown",
   "id": "cab25d7d",
   "metadata": {},
   "source": [
    "### Feed New Input Features into ANN Model"
   ]
  },
  {
   "cell_type": "code",
   "execution_count": 30,
   "id": "ce63571f",
   "metadata": {},
   "outputs": [
    {
     "name": "stdout",
     "output_type": "stream",
     "text": [
      "\n",
      "\n",
      "Final Accuracy Score [Mls Ensembles + ANN] on Training Diagnostic Dataset (Original) =  1.0\n"
     ]
    }
   ],
   "source": [
    "# split X and y from new_input_features before feeding to ANN\n",
    "new_X_train = new_input_training_features_diagnosis_original.drop(['ground_truth'],axis=1)\n",
    "new_y_train = new_input_training_features_diagnosis_original['ground_truth']\n",
    "\n",
    "# feed new X and new y into ANN\n",
    "ann_model_diagnosis_original = MLPClassifier()\n",
    "ann_model_diagnosis_original.fit(new_X_train, new_y_train)\n",
    "predicted_ann_train_diagnosis_original = ann_model_diagnosis_original.predict(new_X_train)\n",
    "predicted_ann_train_diagnosis_original = ann_model_diagnosis_original.predict(new_X_train)\n",
    "\n",
    "\n",
    "print()\n",
    "print()\n",
    "print(\"Final Accuracy Score [Mls Ensembles + ANN] on Training Diagnostic Dataset (Original) = \", accuracy_score(new_y_train, predicted_ann_train_diagnosis_original))"
   ]
  },
  {
   "cell_type": "markdown",
   "id": "796121f4",
   "metadata": {},
   "source": [
    "## With Data Sampling Method (Upsampling)"
   ]
  },
  {
   "cell_type": "markdown",
   "id": "83e3b7ed",
   "metadata": {},
   "source": [
    "### Create Stacking ML Ensemble using 5-fold cross-validation"
   ]
  },
  {
   "cell_type": "code",
   "execution_count": 31,
   "id": "4fdf4e63",
   "metadata": {},
   "outputs": [],
   "source": [
    "ensemble_classifiers_diagnosis_upsampling = EnsembleStacking(\n",
    "    diagnosis_X_train_upsampling, \n",
    "    diagnosis_y_train_upsampling, \n",
    "    diagnosis_X_test_original, \n",
    "    diagnosis_y_test_original, \n",
    "    kfold).train_ensemble()"
   ]
  },
  {
   "cell_type": "code",
   "execution_count": 32,
   "id": "d4f0a7d4",
   "metadata": {},
   "outputs": [
    {
     "data": {
      "text/html": [
       "<div>\n",
       "<style scoped>\n",
       "    .dataframe tbody tr th:only-of-type {\n",
       "        vertical-align: middle;\n",
       "    }\n",
       "\n",
       "    .dataframe tbody tr th {\n",
       "        vertical-align: top;\n",
       "    }\n",
       "\n",
       "    .dataframe thead th {\n",
       "        text-align: right;\n",
       "    }\n",
       "</style>\n",
       "<table border=\"1\" class=\"dataframe\">\n",
       "  <thead>\n",
       "    <tr style=\"text-align: right;\">\n",
       "      <th></th>\n",
       "      <th>train</th>\n",
       "      <th>training</th>\n",
       "      <th>validation</th>\n",
       "      <th>testing</th>\n",
       "    </tr>\n",
       "  </thead>\n",
       "  <tbody>\n",
       "    <tr>\n",
       "      <th>model-1</th>\n",
       "      <td>SVC()</td>\n",
       "      <td>0.958425</td>\n",
       "      <td>0.930435</td>\n",
       "      <td>0.973684</td>\n",
       "    </tr>\n",
       "    <tr>\n",
       "      <th>model-3</th>\n",
       "      <td>SVC()</td>\n",
       "      <td>0.943231</td>\n",
       "      <td>0.938596</td>\n",
       "      <td>0.964912</td>\n",
       "    </tr>\n",
       "    <tr>\n",
       "      <th>model-5</th>\n",
       "      <td>SVC()</td>\n",
       "      <td>0.958515</td>\n",
       "      <td>0.912281</td>\n",
       "      <td>0.964912</td>\n",
       "    </tr>\n",
       "    <tr>\n",
       "      <th>model-2</th>\n",
       "      <td>SVC()</td>\n",
       "      <td>0.95186</td>\n",
       "      <td>0.965217</td>\n",
       "      <td>0.95614</td>\n",
       "    </tr>\n",
       "    <tr>\n",
       "      <th>model-4</th>\n",
       "      <td>SVC()</td>\n",
       "      <td>0.949782</td>\n",
       "      <td>0.964912</td>\n",
       "      <td>0.947368</td>\n",
       "    </tr>\n",
       "    <tr>\n",
       "      <th>model-1</th>\n",
       "      <td>LogisticRegression()</td>\n",
       "      <td>0.932166</td>\n",
       "      <td>0.947826</td>\n",
       "      <td>0.964912</td>\n",
       "    </tr>\n",
       "    <tr>\n",
       "      <th>model-2</th>\n",
       "      <td>LogisticRegression()</td>\n",
       "      <td>0.934354</td>\n",
       "      <td>0.930435</td>\n",
       "      <td>0.95614</td>\n",
       "    </tr>\n",
       "    <tr>\n",
       "      <th>model-3</th>\n",
       "      <td>LogisticRegression()</td>\n",
       "      <td>0.936681</td>\n",
       "      <td>0.929825</td>\n",
       "      <td>0.95614</td>\n",
       "    </tr>\n",
       "    <tr>\n",
       "      <th>model-4</th>\n",
       "      <td>LogisticRegression()</td>\n",
       "      <td>0.934498</td>\n",
       "      <td>0.947368</td>\n",
       "      <td>0.95614</td>\n",
       "    </tr>\n",
       "    <tr>\n",
       "      <th>model-5</th>\n",
       "      <td>LogisticRegression()</td>\n",
       "      <td>0.941048</td>\n",
       "      <td>0.912281</td>\n",
       "      <td>0.95614</td>\n",
       "    </tr>\n",
       "    <tr>\n",
       "      <th>model-3</th>\n",
       "      <td>MultinomialNB()</td>\n",
       "      <td>0.842795</td>\n",
       "      <td>0.885965</td>\n",
       "      <td>0.885965</td>\n",
       "    </tr>\n",
       "    <tr>\n",
       "      <th>model-4</th>\n",
       "      <td>MultinomialNB()</td>\n",
       "      <td>0.853712</td>\n",
       "      <td>0.815789</td>\n",
       "      <td>0.877193</td>\n",
       "    </tr>\n",
       "    <tr>\n",
       "      <th>model-1</th>\n",
       "      <td>MultinomialNB()</td>\n",
       "      <td>0.827133</td>\n",
       "      <td>0.843478</td>\n",
       "      <td>0.868421</td>\n",
       "    </tr>\n",
       "    <tr>\n",
       "      <th>model-5</th>\n",
       "      <td>MultinomialNB()</td>\n",
       "      <td>0.831878</td>\n",
       "      <td>0.745614</td>\n",
       "      <td>0.868421</td>\n",
       "    </tr>\n",
       "    <tr>\n",
       "      <th>model-2</th>\n",
       "      <td>MultinomialNB()</td>\n",
       "      <td>0.859956</td>\n",
       "      <td>0.852174</td>\n",
       "      <td>0.850877</td>\n",
       "    </tr>\n",
       "    <tr>\n",
       "      <th>model-4</th>\n",
       "      <td>DecisionTreeClassifier()</td>\n",
       "      <td>1.0</td>\n",
       "      <td>0.95614</td>\n",
       "      <td>0.947368</td>\n",
       "    </tr>\n",
       "    <tr>\n",
       "      <th>model-5</th>\n",
       "      <td>DecisionTreeClassifier()</td>\n",
       "      <td>1.0</td>\n",
       "      <td>0.95614</td>\n",
       "      <td>0.929825</td>\n",
       "    </tr>\n",
       "    <tr>\n",
       "      <th>model-2</th>\n",
       "      <td>DecisionTreeClassifier()</td>\n",
       "      <td>1.0</td>\n",
       "      <td>0.947826</td>\n",
       "      <td>0.912281</td>\n",
       "    </tr>\n",
       "    <tr>\n",
       "      <th>model-3</th>\n",
       "      <td>DecisionTreeClassifier()</td>\n",
       "      <td>1.0</td>\n",
       "      <td>0.947368</td>\n",
       "      <td>0.903509</td>\n",
       "    </tr>\n",
       "    <tr>\n",
       "      <th>model-1</th>\n",
       "      <td>DecisionTreeClassifier()</td>\n",
       "      <td>1.0</td>\n",
       "      <td>0.947826</td>\n",
       "      <td>0.885965</td>\n",
       "    </tr>\n",
       "  </tbody>\n",
       "</table>\n",
       "</div>"
      ],
      "text/plain": [
       "                            train  training validation   testing\n",
       "model-1                     SVC()  0.958425   0.930435  0.973684\n",
       "model-3                     SVC()  0.943231   0.938596  0.964912\n",
       "model-5                     SVC()  0.958515   0.912281  0.964912\n",
       "model-2                     SVC()   0.95186   0.965217   0.95614\n",
       "model-4                     SVC()  0.949782   0.964912  0.947368\n",
       "model-1      LogisticRegression()  0.932166   0.947826  0.964912\n",
       "model-2      LogisticRegression()  0.934354   0.930435   0.95614\n",
       "model-3      LogisticRegression()  0.936681   0.929825   0.95614\n",
       "model-4      LogisticRegression()  0.934498   0.947368   0.95614\n",
       "model-5      LogisticRegression()  0.941048   0.912281   0.95614\n",
       "model-3           MultinomialNB()  0.842795   0.885965  0.885965\n",
       "model-4           MultinomialNB()  0.853712   0.815789  0.877193\n",
       "model-1           MultinomialNB()  0.827133   0.843478  0.868421\n",
       "model-5           MultinomialNB()  0.831878   0.745614  0.868421\n",
       "model-2           MultinomialNB()  0.859956   0.852174  0.850877\n",
       "model-4  DecisionTreeClassifier()       1.0    0.95614  0.947368\n",
       "model-5  DecisionTreeClassifier()       1.0    0.95614  0.929825\n",
       "model-2  DecisionTreeClassifier()       1.0   0.947826  0.912281\n",
       "model-3  DecisionTreeClassifier()       1.0   0.947368  0.903509\n",
       "model-1  DecisionTreeClassifier()       1.0   0.947826  0.885965"
      ]
     },
     "execution_count": 32,
     "metadata": {},
     "output_type": "execute_result"
    }
   ],
   "source": [
    "# create dataframe for easy understanding from ensemble classifiers stacking results\n",
    "ensemble_classifiers_results_diagnosis_upsampling = list()\n",
    "for model in ensemble_classifiers_diagnosis_upsampling.keys():\n",
    "    ensemble_classifiers_results_diagnosis_upsampling.append(pd.DataFrame(ensemble_classifiers_diagnosis_upsampling[model]).transpose().sort_values(by=['testing'], ascending=False))\n",
    "\n",
    "# concat all dataframe results\n",
    "ensemble_classifiers_results_diagnosis_upsampling = pd.concat(ensemble_classifiers_results_diagnosis_upsampling, axis=0)\n",
    "ensemble_classifiers_results_diagnosis_upsampling"
   ]
  },
  {
   "cell_type": "markdown",
   "id": "d15bca2d",
   "metadata": {},
   "source": [
    "### Create New Input Training from stacking ensemble ML"
   ]
  },
  {
   "cell_type": "code",
   "execution_count": 33,
   "id": "fefe04ac",
   "metadata": {},
   "outputs": [],
   "source": [
    "new_input_training_features_diagnosis_upsampling = create_new_input_features(\n",
    "    ensemble_classifiers_diagnosis_upsampling, \n",
    "    diagnosis_X_train_upsampling,\n",
    "    diagnosis_y_train_upsampling\n",
    ")"
   ]
  },
  {
   "cell_type": "code",
   "execution_count": 34,
   "id": "3f8ebcbc",
   "metadata": {},
   "outputs": [
    {
     "data": {
      "text/html": [
       "<div>\n",
       "<style scoped>\n",
       "    .dataframe tbody tr th:only-of-type {\n",
       "        vertical-align: middle;\n",
       "    }\n",
       "\n",
       "    .dataframe tbody tr th {\n",
       "        vertical-align: top;\n",
       "    }\n",
       "\n",
       "    .dataframe thead th {\n",
       "        text-align: right;\n",
       "    }\n",
       "</style>\n",
       "<table border=\"1\" class=\"dataframe\">\n",
       "  <thead>\n",
       "    <tr style=\"text-align: right;\">\n",
       "      <th></th>\n",
       "      <th>majority_vote_from_svm</th>\n",
       "      <th>majority_vote_from_logreg</th>\n",
       "      <th>majority_vote_from_naive_bayes</th>\n",
       "      <th>majority_vote_from_decision_tree</th>\n",
       "      <th>ground_truth</th>\n",
       "    </tr>\n",
       "  </thead>\n",
       "  <tbody>\n",
       "    <tr>\n",
       "      <th>0</th>\n",
       "      <td>1</td>\n",
       "      <td>1</td>\n",
       "      <td>1</td>\n",
       "      <td>1</td>\n",
       "      <td>1</td>\n",
       "    </tr>\n",
       "    <tr>\n",
       "      <th>1</th>\n",
       "      <td>0</td>\n",
       "      <td>0</td>\n",
       "      <td>0</td>\n",
       "      <td>0</td>\n",
       "      <td>0</td>\n",
       "    </tr>\n",
       "    <tr>\n",
       "      <th>2</th>\n",
       "      <td>1</td>\n",
       "      <td>1</td>\n",
       "      <td>1</td>\n",
       "      <td>1</td>\n",
       "      <td>1</td>\n",
       "    </tr>\n",
       "    <tr>\n",
       "      <th>3</th>\n",
       "      <td>0</td>\n",
       "      <td>0</td>\n",
       "      <td>0</td>\n",
       "      <td>0</td>\n",
       "      <td>0</td>\n",
       "    </tr>\n",
       "    <tr>\n",
       "      <th>4</th>\n",
       "      <td>1</td>\n",
       "      <td>1</td>\n",
       "      <td>1</td>\n",
       "      <td>1</td>\n",
       "      <td>1</td>\n",
       "    </tr>\n",
       "  </tbody>\n",
       "</table>\n",
       "</div>"
      ],
      "text/plain": [
       "   majority_vote_from_svm  majority_vote_from_logreg  \\\n",
       "0                       1                          1   \n",
       "1                       0                          0   \n",
       "2                       1                          1   \n",
       "3                       0                          0   \n",
       "4                       1                          1   \n",
       "\n",
       "   majority_vote_from_naive_bayes  majority_vote_from_decision_tree  \\\n",
       "0                               1                                 1   \n",
       "1                               0                                 0   \n",
       "2                               1                                 1   \n",
       "3                               0                                 0   \n",
       "4                               1                                 1   \n",
       "\n",
       "   ground_truth  \n",
       "0             1  \n",
       "1             0  \n",
       "2             1  \n",
       "3             0  \n",
       "4             1  "
      ]
     },
     "execution_count": 34,
     "metadata": {},
     "output_type": "execute_result"
    }
   ],
   "source": [
    "new_input_training_features_diagnosis_upsampling.head()"
   ]
  },
  {
   "cell_type": "markdown",
   "id": "10a93b43",
   "metadata": {},
   "source": [
    "### Feed New Input Features into ANN Model"
   ]
  },
  {
   "cell_type": "code",
   "execution_count": 35,
   "id": "9c8d63a3",
   "metadata": {},
   "outputs": [
    {
     "name": "stdout",
     "output_type": "stream",
     "text": [
      "\n",
      "\n",
      "Final Accuracy Score [Mls Ensembles + ANN] on Training Diagnostic Dataset (Downsampling) =  1.0\n"
     ]
    }
   ],
   "source": [
    "# split X and y from new_input_features before feeding to ANN\n",
    "new_X_train = new_input_training_features_diagnosis_upsampling.drop(['ground_truth'],axis=1)\n",
    "new_y_train = new_input_training_features_diagnosis_upsampling['ground_truth']\n",
    "\n",
    "# feed new X and new y into ANN\n",
    "ann_model_diagnosis_upsampling = MLPClassifier()\n",
    "ann_model_diagnosis_upsampling.fit(new_X_train, new_y_train)\n",
    "predicted_ann_train_diagnosis_upsampling = ann_model_diagnosis_upsampling.predict(new_X_train)\n",
    "predicted_ann_train_diagnosis_upsampling = ann_model_diagnosis_upsampling.predict(new_X_train)\n",
    "\n",
    "\n",
    "print()\n",
    "print()\n",
    "print(\"Final Accuracy Score [Mls Ensembles + ANN] on Training Diagnostic Dataset (Downsampling) = \", accuracy_score(new_y_train, predicted_ann_train_diagnosis_upsampling))"
   ]
  },
  {
   "cell_type": "markdown",
   "id": "ecc97b3f",
   "metadata": {},
   "source": [
    "## With Data Sampling Method (Downsampling)"
   ]
  },
  {
   "cell_type": "markdown",
   "id": "84994edc",
   "metadata": {},
   "source": [
    "### Create Stacking ML Ensemble using 5-fold cross-validation"
   ]
  },
  {
   "cell_type": "code",
   "execution_count": 36,
   "id": "8d429181",
   "metadata": {},
   "outputs": [],
   "source": [
    "ensemble_classifiers_diagnosis_downsampling = EnsembleStacking(\n",
    "    diagnosis_X_train_downsampling, \n",
    "    diagnosis_y_train_downsampling, \n",
    "    diagnosis_X_test_original, \n",
    "    diagnosis_y_test_original, \n",
    "    kfold).train_ensemble()"
   ]
  },
  {
   "cell_type": "code",
   "execution_count": 37,
   "id": "24ec1635",
   "metadata": {},
   "outputs": [
    {
     "data": {
      "text/html": [
       "<div>\n",
       "<style scoped>\n",
       "    .dataframe tbody tr th:only-of-type {\n",
       "        vertical-align: middle;\n",
       "    }\n",
       "\n",
       "    .dataframe tbody tr th {\n",
       "        vertical-align: top;\n",
       "    }\n",
       "\n",
       "    .dataframe thead th {\n",
       "        text-align: right;\n",
       "    }\n",
       "</style>\n",
       "<table border=\"1\" class=\"dataframe\">\n",
       "  <thead>\n",
       "    <tr style=\"text-align: right;\">\n",
       "      <th></th>\n",
       "      <th>train</th>\n",
       "      <th>training</th>\n",
       "      <th>validation</th>\n",
       "      <th>testing</th>\n",
       "    </tr>\n",
       "  </thead>\n",
       "  <tbody>\n",
       "    <tr>\n",
       "      <th>model-1</th>\n",
       "      <td>SVC()</td>\n",
       "      <td>0.933333</td>\n",
       "      <td>0.926471</td>\n",
       "      <td>0.982456</td>\n",
       "    </tr>\n",
       "    <tr>\n",
       "      <th>model-2</th>\n",
       "      <td>SVC()</td>\n",
       "      <td>0.948148</td>\n",
       "      <td>0.897059</td>\n",
       "      <td>0.982456</td>\n",
       "    </tr>\n",
       "    <tr>\n",
       "      <th>model-3</th>\n",
       "      <td>SVC()</td>\n",
       "      <td>0.937037</td>\n",
       "      <td>0.955882</td>\n",
       "      <td>0.95614</td>\n",
       "    </tr>\n",
       "    <tr>\n",
       "      <th>model-4</th>\n",
       "      <td>SVC()</td>\n",
       "      <td>0.933579</td>\n",
       "      <td>0.895522</td>\n",
       "      <td>0.95614</td>\n",
       "    </tr>\n",
       "    <tr>\n",
       "      <th>model-5</th>\n",
       "      <td>SVC()</td>\n",
       "      <td>0.944649</td>\n",
       "      <td>0.895522</td>\n",
       "      <td>0.95614</td>\n",
       "    </tr>\n",
       "    <tr>\n",
       "      <th>model-2</th>\n",
       "      <td>LogisticRegression()</td>\n",
       "      <td>0.922222</td>\n",
       "      <td>0.941176</td>\n",
       "      <td>0.964912</td>\n",
       "    </tr>\n",
       "    <tr>\n",
       "      <th>model-1</th>\n",
       "      <td>LogisticRegression()</td>\n",
       "      <td>0.925926</td>\n",
       "      <td>0.926471</td>\n",
       "      <td>0.95614</td>\n",
       "    </tr>\n",
       "    <tr>\n",
       "      <th>model-3</th>\n",
       "      <td>LogisticRegression()</td>\n",
       "      <td>0.911111</td>\n",
       "      <td>0.941176</td>\n",
       "      <td>0.95614</td>\n",
       "    </tr>\n",
       "    <tr>\n",
       "      <th>model-4</th>\n",
       "      <td>LogisticRegression()</td>\n",
       "      <td>0.926199</td>\n",
       "      <td>0.910448</td>\n",
       "      <td>0.95614</td>\n",
       "    </tr>\n",
       "    <tr>\n",
       "      <th>model-5</th>\n",
       "      <td>LogisticRegression()</td>\n",
       "      <td>0.926199</td>\n",
       "      <td>0.880597</td>\n",
       "      <td>0.95614</td>\n",
       "    </tr>\n",
       "    <tr>\n",
       "      <th>model-4</th>\n",
       "      <td>MultinomialNB()</td>\n",
       "      <td>0.811808</td>\n",
       "      <td>0.80597</td>\n",
       "      <td>0.903509</td>\n",
       "    </tr>\n",
       "    <tr>\n",
       "      <th>model-1</th>\n",
       "      <td>MultinomialNB()</td>\n",
       "      <td>0.803704</td>\n",
       "      <td>0.764706</td>\n",
       "      <td>0.877193</td>\n",
       "    </tr>\n",
       "    <tr>\n",
       "      <th>model-2</th>\n",
       "      <td>MultinomialNB()</td>\n",
       "      <td>0.87037</td>\n",
       "      <td>0.897059</td>\n",
       "      <td>0.877193</td>\n",
       "    </tr>\n",
       "    <tr>\n",
       "      <th>model-5</th>\n",
       "      <td>MultinomialNB()</td>\n",
       "      <td>0.819188</td>\n",
       "      <td>0.731343</td>\n",
       "      <td>0.868421</td>\n",
       "    </tr>\n",
       "    <tr>\n",
       "      <th>model-3</th>\n",
       "      <td>MultinomialNB()</td>\n",
       "      <td>0.796296</td>\n",
       "      <td>0.764706</td>\n",
       "      <td>0.842105</td>\n",
       "    </tr>\n",
       "    <tr>\n",
       "      <th>model-2</th>\n",
       "      <td>DecisionTreeClassifier()</td>\n",
       "      <td>1.0</td>\n",
       "      <td>0.882353</td>\n",
       "      <td>0.95614</td>\n",
       "    </tr>\n",
       "    <tr>\n",
       "      <th>model-1</th>\n",
       "      <td>DecisionTreeClassifier()</td>\n",
       "      <td>1.0</td>\n",
       "      <td>0.941176</td>\n",
       "      <td>0.947368</td>\n",
       "    </tr>\n",
       "    <tr>\n",
       "      <th>model-3</th>\n",
       "      <td>DecisionTreeClassifier()</td>\n",
       "      <td>1.0</td>\n",
       "      <td>0.941176</td>\n",
       "      <td>0.921053</td>\n",
       "    </tr>\n",
       "    <tr>\n",
       "      <th>model-4</th>\n",
       "      <td>DecisionTreeClassifier()</td>\n",
       "      <td>1.0</td>\n",
       "      <td>0.925373</td>\n",
       "      <td>0.912281</td>\n",
       "    </tr>\n",
       "    <tr>\n",
       "      <th>model-5</th>\n",
       "      <td>DecisionTreeClassifier()</td>\n",
       "      <td>1.0</td>\n",
       "      <td>0.880597</td>\n",
       "      <td>0.903509</td>\n",
       "    </tr>\n",
       "  </tbody>\n",
       "</table>\n",
       "</div>"
      ],
      "text/plain": [
       "                            train  training validation   testing\n",
       "model-1                     SVC()  0.933333   0.926471  0.982456\n",
       "model-2                     SVC()  0.948148   0.897059  0.982456\n",
       "model-3                     SVC()  0.937037   0.955882   0.95614\n",
       "model-4                     SVC()  0.933579   0.895522   0.95614\n",
       "model-5                     SVC()  0.944649   0.895522   0.95614\n",
       "model-2      LogisticRegression()  0.922222   0.941176  0.964912\n",
       "model-1      LogisticRegression()  0.925926   0.926471   0.95614\n",
       "model-3      LogisticRegression()  0.911111   0.941176   0.95614\n",
       "model-4      LogisticRegression()  0.926199   0.910448   0.95614\n",
       "model-5      LogisticRegression()  0.926199   0.880597   0.95614\n",
       "model-4           MultinomialNB()  0.811808    0.80597  0.903509\n",
       "model-1           MultinomialNB()  0.803704   0.764706  0.877193\n",
       "model-2           MultinomialNB()   0.87037   0.897059  0.877193\n",
       "model-5           MultinomialNB()  0.819188   0.731343  0.868421\n",
       "model-3           MultinomialNB()  0.796296   0.764706  0.842105\n",
       "model-2  DecisionTreeClassifier()       1.0   0.882353   0.95614\n",
       "model-1  DecisionTreeClassifier()       1.0   0.941176  0.947368\n",
       "model-3  DecisionTreeClassifier()       1.0   0.941176  0.921053\n",
       "model-4  DecisionTreeClassifier()       1.0   0.925373  0.912281\n",
       "model-5  DecisionTreeClassifier()       1.0   0.880597  0.903509"
      ]
     },
     "execution_count": 37,
     "metadata": {},
     "output_type": "execute_result"
    }
   ],
   "source": [
    "# create dataframe for easy understanding from ensemble classifiers stacking results\n",
    "ensemble_classifiers_results_diagnosis_downsampling = list()\n",
    "for model in ensemble_classifiers_diagnosis_downsampling.keys():\n",
    "    ensemble_classifiers_results_diagnosis_downsampling.append(pd.DataFrame(ensemble_classifiers_diagnosis_downsampling[model]).transpose().sort_values(by=['testing'], ascending=False))\n",
    "\n",
    "# concat all dataframe results\n",
    "ensemble_classifiers_results_diagnosis_downsampling = pd.concat(ensemble_classifiers_results_diagnosis_downsampling, axis=0)\n",
    "ensemble_classifiers_results_diagnosis_downsampling"
   ]
  },
  {
   "cell_type": "markdown",
   "id": "80c26c29",
   "metadata": {},
   "source": [
    "### Create New Input Training from stacking ensemble ML"
   ]
  },
  {
   "cell_type": "code",
   "execution_count": 38,
   "id": "ff4d219d",
   "metadata": {},
   "outputs": [],
   "source": [
    "new_input_training_features_diagnosis_downsampling = create_new_input_features(\n",
    "    ensemble_classifiers_diagnosis_downsampling, \n",
    "    diagnosis_X_train_downsampling,\n",
    "    diagnosis_y_train_downsampling\n",
    ")"
   ]
  },
  {
   "cell_type": "code",
   "execution_count": 39,
   "id": "437726a2",
   "metadata": {},
   "outputs": [
    {
     "data": {
      "text/html": [
       "<div>\n",
       "<style scoped>\n",
       "    .dataframe tbody tr th:only-of-type {\n",
       "        vertical-align: middle;\n",
       "    }\n",
       "\n",
       "    .dataframe tbody tr th {\n",
       "        vertical-align: top;\n",
       "    }\n",
       "\n",
       "    .dataframe thead th {\n",
       "        text-align: right;\n",
       "    }\n",
       "</style>\n",
       "<table border=\"1\" class=\"dataframe\">\n",
       "  <thead>\n",
       "    <tr style=\"text-align: right;\">\n",
       "      <th></th>\n",
       "      <th>majority_vote_from_svm</th>\n",
       "      <th>majority_vote_from_logreg</th>\n",
       "      <th>majority_vote_from_naive_bayes</th>\n",
       "      <th>majority_vote_from_decision_tree</th>\n",
       "      <th>ground_truth</th>\n",
       "    </tr>\n",
       "  </thead>\n",
       "  <tbody>\n",
       "    <tr>\n",
       "      <th>0</th>\n",
       "      <td>0</td>\n",
       "      <td>0</td>\n",
       "      <td>0</td>\n",
       "      <td>0</td>\n",
       "      <td>0</td>\n",
       "    </tr>\n",
       "    <tr>\n",
       "      <th>1</th>\n",
       "      <td>1</td>\n",
       "      <td>1</td>\n",
       "      <td>0</td>\n",
       "      <td>1</td>\n",
       "      <td>1</td>\n",
       "    </tr>\n",
       "    <tr>\n",
       "      <th>2</th>\n",
       "      <td>1</td>\n",
       "      <td>1</td>\n",
       "      <td>1</td>\n",
       "      <td>1</td>\n",
       "      <td>1</td>\n",
       "    </tr>\n",
       "    <tr>\n",
       "      <th>3</th>\n",
       "      <td>1</td>\n",
       "      <td>1</td>\n",
       "      <td>1</td>\n",
       "      <td>1</td>\n",
       "      <td>1</td>\n",
       "    </tr>\n",
       "    <tr>\n",
       "      <th>4</th>\n",
       "      <td>1</td>\n",
       "      <td>1</td>\n",
       "      <td>1</td>\n",
       "      <td>1</td>\n",
       "      <td>1</td>\n",
       "    </tr>\n",
       "  </tbody>\n",
       "</table>\n",
       "</div>"
      ],
      "text/plain": [
       "   majority_vote_from_svm  majority_vote_from_logreg  \\\n",
       "0                       0                          0   \n",
       "1                       1                          1   \n",
       "2                       1                          1   \n",
       "3                       1                          1   \n",
       "4                       1                          1   \n",
       "\n",
       "   majority_vote_from_naive_bayes  majority_vote_from_decision_tree  \\\n",
       "0                               0                                 0   \n",
       "1                               0                                 1   \n",
       "2                               1                                 1   \n",
       "3                               1                                 1   \n",
       "4                               1                                 1   \n",
       "\n",
       "   ground_truth  \n",
       "0             0  \n",
       "1             1  \n",
       "2             1  \n",
       "3             1  \n",
       "4             1  "
      ]
     },
     "execution_count": 39,
     "metadata": {},
     "output_type": "execute_result"
    }
   ],
   "source": [
    "new_input_training_features_diagnosis_downsampling.head()"
   ]
  },
  {
   "cell_type": "markdown",
   "id": "7656a409",
   "metadata": {},
   "source": [
    "### Feed New Input Features into ANN Model"
   ]
  },
  {
   "cell_type": "code",
   "execution_count": 40,
   "id": "dfcc6162",
   "metadata": {},
   "outputs": [
    {
     "name": "stdout",
     "output_type": "stream",
     "text": [
      "\n",
      "\n",
      "Final Accuracy Score [Mls Ensembles + ANN] on Training Diagnostic Dataset (Downsampling) =  1.0\n"
     ]
    }
   ],
   "source": [
    "# split X and y from new_input_features before feeding to ANN\n",
    "new_X_train = new_input_training_features_diagnosis_downsampling.drop(['ground_truth'],axis=1)\n",
    "new_y_train = new_input_training_features_diagnosis_downsampling['ground_truth']\n",
    "\n",
    "# feed new X and new y into ANN\n",
    "ann_model_diagnosis_downsampling = MLPClassifier()\n",
    "ann_model_diagnosis_downsampling.fit(new_X_train, new_y_train)\n",
    "predicted_ann_train_diagnosis_downsampling = ann_model_diagnosis_downsampling.predict(new_X_train)\n",
    "predicted_ann_train_diagnosis_downsampling = ann_model_diagnosis_downsampling.predict(new_X_train)\n",
    "\n",
    "\n",
    "print()\n",
    "print()\n",
    "print(\"Final Accuracy Score [Mls Ensembles + ANN] on Training Diagnostic Dataset (Downsampling) = \", accuracy_score(new_y_train, predicted_ann_train_diagnosis_downsampling))"
   ]
  },
  {
   "cell_type": "markdown",
   "id": "fbb03d84",
   "metadata": {},
   "source": [
    "# Testing Results"
   ]
  },
  {
   "cell_type": "markdown",
   "id": "ad2e2368",
   "metadata": {},
   "source": [
    "## Without Data Sampling Method (Original) "
   ]
  },
  {
   "cell_type": "markdown",
   "id": "4ff79e55",
   "metadata": {},
   "source": [
    "### GA combine Ensemble stacking ML - ANN"
   ]
  },
  {
   "cell_type": "markdown",
   "id": "db5bb47f",
   "metadata": {},
   "source": [
    "#### Create New Input Features from stacking ensemble ML before ANN process for preparing testing data new input features"
   ]
  },
  {
   "cell_type": "code",
   "execution_count": 41,
   "id": "0a5c087d",
   "metadata": {},
   "outputs": [],
   "source": [
    "genetic_algorithm_new_input_testing_features_diagnosis_original = create_new_input_features(\n",
    "    genetic_algorithm_ensemble_classifiers_diagnosis_original, \n",
    "    diagnosis_X_test_original,\n",
    "    diagnosis_y_test_original\n",
    ")"
   ]
  },
  {
   "cell_type": "markdown",
   "id": "893c62cb",
   "metadata": {},
   "source": [
    "#### Feed new testing input features into ANN pre-trained model"
   ]
  },
  {
   "cell_type": "code",
   "execution_count": 42,
   "id": "b6da4105",
   "metadata": {},
   "outputs": [
    {
     "name": "stdout",
     "output_type": "stream",
     "text": [
      "\t\t==============================\n",
      "\t\tHASIl UJI COBA HASIL PENGUJIAN DATA TESTING DIAGNOSIS BREAST CANCER (ORIGINAL) + GENETIC ALGORITHM \n",
      "\t\t==============================\n",
      "\tAkurasi Score:  0.9473684210526315\n",
      "\tMacro Recall Score:  0.9394038650507697\n",
      "\tMacro Precision Score:  0.9482124958235884\n",
      "\tMacro F1-score Score:  0.9434523809523809\n",
      "\tMacro F2-score Score:  0.9409397561841638\n",
      "\tMacro F0.5-score Score:  0.9462211043238712\n",
      "\n",
      "\n",
      "              precision    recall  f1-score   support\n",
      "\n",
      "           0       0.95      0.97      0.96        71\n",
      "           1       0.95      0.91      0.93        43\n",
      "\n",
      "    accuracy                           0.95       114\n",
      "   macro avg       0.95      0.94      0.94       114\n",
      "weighted avg       0.95      0.95      0.95       114\n",
      "\n"
     ]
    },
    {
     "data": {
      "text/plain": [
       "<Figure size 1008x576 with 0 Axes>"
      ]
     },
     "metadata": {},
     "output_type": "display_data"
    },
    {
     "data": {
      "image/png": "[encoded data removed]",
      "text/plain": [
       "<Figure size 432x288 with 2 Axes>"
      ]
     },
     "metadata": {
      "needs_background": "light"
     },
     "output_type": "display_data"
    }
   ],
   "source": [
    "# split X and y from new_input_features before feeding to ANN\n",
    "new_X_test = genetic_algorithm_new_input_testing_features_diagnosis_original.drop(['ground_truth'],axis=1)\n",
    "new_y_test = genetic_algorithm_new_input_testing_features_diagnosis_original['ground_truth']\n",
    "\n",
    "# predict new X test using pre-trained ANN before\n",
    "predicted_test_original = genetic_algorithm_ann_model_diagnosis_original.predict(new_X_test)\n",
    "\n",
    "# print testing results\n",
    "print_model_experiment_results('Hasil Pengujian Data Testing Diagnosis Breast Cancer (Original) + Genetic Algorithm ', new_y_test, predicted_test_original)"
   ]
  },
  {
   "cell_type": "markdown",
   "id": "857ac708",
   "metadata": {},
   "source": [
    "### Ensemble stacking ML - ANN (without GA)"
   ]
  },
  {
   "cell_type": "markdown",
   "id": "e1c20436",
   "metadata": {},
   "source": [
    "#### Create New Input Features from stacking ensemble ML before ANN process for preparing testing data new input features"
   ]
  },
  {
   "cell_type": "code",
   "execution_count": 43,
   "id": "7fb5537d",
   "metadata": {},
   "outputs": [],
   "source": [
    "new_input_testing_features_diagnosis_original = create_new_input_features(\n",
    "    ensemble_classifiers_diagnosis_original, \n",
    "    diagnosis_X_test_original,\n",
    "    diagnosis_y_test_original\n",
    ")"
   ]
  },
  {
   "cell_type": "markdown",
   "id": "3aa46497",
   "metadata": {},
   "source": [
    "#### Feed new testing input features into ANN pre-trained model"
   ]
  },
  {
   "cell_type": "code",
   "execution_count": 44,
   "id": "3e8267f2",
   "metadata": {},
   "outputs": [
    {
     "name": "stdout",
     "output_type": "stream",
     "text": [
      "\t\t==============================\n",
      "\t\tHASIl UJI COBA HASIL PENGUJIAN DATA TESTING DIAGNOSIS BREAST CANCER (ORIGINAL)\n",
      "\t\t==============================\n",
      "\tAkurasi Score:  0.9473684210526315\n",
      "\tMacro Recall Score:  0.9394038650507697\n",
      "\tMacro Precision Score:  0.9482124958235884\n",
      "\tMacro F1-score Score:  0.9434523809523809\n",
      "\tMacro F2-score Score:  0.9409397561841638\n",
      "\tMacro F0.5-score Score:  0.9462211043238712\n",
      "\n",
      "\n",
      "              precision    recall  f1-score   support\n",
      "\n",
      "           0       0.95      0.97      0.96        71\n",
      "           1       0.95      0.91      0.93        43\n",
      "\n",
      "    accuracy                           0.95       114\n",
      "   macro avg       0.95      0.94      0.94       114\n",
      "weighted avg       0.95      0.95      0.95       114\n",
      "\n"
     ]
    },
    {
     "data": {
      "text/plain": [
       "<Figure size 1008x576 with 0 Axes>"
      ]
     },
     "metadata": {},
     "output_type": "display_data"
    },
    {
     "data": {
      "image/png": "[encoded data removed]",
      "text/plain": [
       "<Figure size 432x288 with 2 Axes>"
      ]
     },
     "metadata": {
      "needs_background": "light"
     },
     "output_type": "display_data"
    }
   ],
   "source": [
    "# split X and y from new_input_features before feeding to ANN\n",
    "new_X_test = new_input_testing_features_diagnosis_original.drop(['ground_truth'],axis=1)\n",
    "new_y_test = new_input_testing_features_diagnosis_original['ground_truth']\n",
    "\n",
    "# predict new X test using pre-trained ANN before\n",
    "predicted_test_original = ann_model_diagnosis_original.predict(new_X_test)\n",
    "\n",
    "# print testing results\n",
    "print_model_experiment_results('Hasil Pengujian Data Testing Diagnosis Breast Cancer (Original)', new_y_test, predicted_test_original)"
   ]
  },
  {
   "cell_type": "markdown",
   "id": "c874ad07",
   "metadata": {},
   "source": [
    "## With Data Sampling Method (Upsampling)"
   ]
  },
  {
   "cell_type": "markdown",
   "id": "668df504",
   "metadata": {},
   "source": [
    "### GA combine Ensemble stacking ML - ANN"
   ]
  },
  {
   "cell_type": "markdown",
   "id": "b3c058a0",
   "metadata": {},
   "source": [
    "#### Create New Input Features from stacking ensemble ML before ANN process for preparing testing data new input features"
   ]
  },
  {
   "cell_type": "code",
   "execution_count": 45,
   "id": "0c340510",
   "metadata": {},
   "outputs": [],
   "source": [
    "genetic_algorithm_new_input_testing_features_diagnosis_upsampling = create_new_input_features(\n",
    "    genetic_algorithm_ensemble_classifiers_diagnosis_upsampling, \n",
    "    diagnosis_X_test_original,\n",
    "    diagnosis_y_test_original\n",
    ")"
   ]
  },
  {
   "cell_type": "markdown",
   "id": "4881a294",
   "metadata": {},
   "source": [
    "#### Feed new testing input features into ANN pre-trained model"
   ]
  },
  {
   "cell_type": "code",
   "execution_count": 46,
   "id": "e14b4565",
   "metadata": {},
   "outputs": [
    {
     "name": "stdout",
     "output_type": "stream",
     "text": [
      "\t\t==============================\n",
      "\t\tHASIl UJI COBA HASIL PENGUJIAN DATA TESTING DIAGNOSIS BREAST CANCER (UPSAMPLING) + GENETIC ALGORITHM\n",
      "\t\t==============================\n",
      "\tAkurasi Score:  0.9649122807017544\n",
      "\tMacro Recall Score:  0.9672453324598755\n",
      "\tMacro Precision Score:  0.9594202898550726\n",
      "\tMacro F1-score Score:  0.962987012987013\n",
      "\tMacro F2-score Score:  0.9654573700082244\n",
      "\tMacro F0.5-score Score:  0.9607655626058076\n",
      "\n",
      "\n",
      "              precision    recall  f1-score   support\n",
      "\n",
      "           0       0.99      0.96      0.97        71\n",
      "           1       0.93      0.98      0.95        43\n",
      "\n",
      "    accuracy                           0.96       114\n",
      "   macro avg       0.96      0.97      0.96       114\n",
      "weighted avg       0.97      0.96      0.97       114\n",
      "\n"
     ]
    },
    {
     "data": {
      "text/plain": [
       "<Figure size 1008x576 with 0 Axes>"
      ]
     },
     "metadata": {},
     "output_type": "display_data"
    },
    {
     "data": {
      "image/png": "[encoded data removed]",
      "text/plain": [
       "<Figure size 432x288 with 2 Axes>"
      ]
     },
     "metadata": {
      "needs_background": "light"
     },
     "output_type": "display_data"
    }
   ],
   "source": [
    "# split X and y from new_input_features before feeding to ANN\n",
    "new_X_test = genetic_algorithm_new_input_testing_features_diagnosis_upsampling.drop(['ground_truth'],axis=1)\n",
    "new_y_test = genetic_algorithm_new_input_testing_features_diagnosis_upsampling['ground_truth']\n",
    "\n",
    "# predict new X test using pre-trained ANN before\n",
    "predicted_test_upsampling = genetic_algorithm_ann_model_diagnosis_upsampling.predict(new_X_test)\n",
    "\n",
    "# print testing results\n",
    "print_model_experiment_results('Hasil Pengujian Data Testing Diagnosis Breast Cancer (Upsampling) + Genetic Algorithm', new_y_test, predicted_test_upsampling)"
   ]
  },
  {
   "cell_type": "markdown",
   "id": "4b34fddd",
   "metadata": {},
   "source": [
    "### Ensemble stacking ML - ANN (without GA)"
   ]
  },
  {
   "cell_type": "markdown",
   "id": "90b868b0",
   "metadata": {},
   "source": [
    "#### Create New Input Features from stacking ensemble ML before ANN process for preparing testing data new input features"
   ]
  },
  {
   "cell_type": "code",
   "execution_count": 47,
   "id": "9326a907",
   "metadata": {},
   "outputs": [],
   "source": [
    "new_input_testing_features_diagnosis_upsampling = create_new_input_features(\n",
    "    ensemble_classifiers_diagnosis_upsampling, \n",
    "    diagnosis_X_test_original,\n",
    "    diagnosis_y_test_original\n",
    ")"
   ]
  },
  {
   "cell_type": "markdown",
   "id": "5604a908",
   "metadata": {},
   "source": [
    "#### Feed new testing input features into ANN pre-trained model"
   ]
  },
  {
   "cell_type": "code",
   "execution_count": 48,
   "id": "2fd339f9",
   "metadata": {},
   "outputs": [
    {
     "name": "stdout",
     "output_type": "stream",
     "text": [
      "\t\t==============================\n",
      "\t\tHASIl UJI COBA HASIL PENGUJIAN DATA TESTING DIAGNOSIS BREAST CANCER (UPSAMPLING)\n",
      "\t\t==============================\n",
      "\tAkurasi Score:  0.9298245614035088\n",
      "\tMacro Recall Score:  0.9299050114641336\n",
      "\tMacro Precision Score:  0.9227053140096618\n",
      "\tMacro F1-score Score:  0.925974025974026\n",
      "\tMacro F2-score Score:  0.9282515894048382\n",
      "\tMacro F0.5-score Score:  0.9239348160401133\n",
      "\n",
      "\n",
      "              precision    recall  f1-score   support\n",
      "\n",
      "           0       0.96      0.93      0.94        71\n",
      "           1       0.89      0.93      0.91        43\n",
      "\n",
      "    accuracy                           0.93       114\n",
      "   macro avg       0.92      0.93      0.93       114\n",
      "weighted avg       0.93      0.93      0.93       114\n",
      "\n"
     ]
    },
    {
     "data": {
      "text/plain": [
       "<Figure size 1008x576 with 0 Axes>"
      ]
     },
     "metadata": {},
     "output_type": "display_data"
    },
    {
     "data": {
      "image/png": "[encoded data removed]",
      "text/plain": [
       "<Figure size 432x288 with 2 Axes>"
      ]
     },
     "metadata": {
      "needs_background": "light"
     },
     "output_type": "display_data"
    }
   ],
   "source": [
    "# split X and y from new_input_features before feeding to ANN\n",
    "new_X_test = new_input_testing_features_diagnosis_upsampling.drop(['ground_truth'],axis=1)\n",
    "new_y_test = new_input_testing_features_diagnosis_upsampling['ground_truth']\n",
    "\n",
    "# predict new X test using pre-trained ANN before\n",
    "predicted_test_upsampling = ann_model_diagnosis_upsampling.predict(new_X_test)\n",
    "\n",
    "# print testing results\n",
    "print_model_experiment_results('Hasil Pengujian Data Testing Diagnosis Breast Cancer (Upsampling)', new_y_test, predicted_test_upsampling)"
   ]
  },
  {
   "cell_type": "markdown",
   "id": "58020394",
   "metadata": {},
   "source": [
    "## With Data Sampling Method (Downsampling)"
   ]
  },
  {
   "cell_type": "markdown",
   "id": "888aa614",
   "metadata": {},
   "source": [
    "### GA combine Ensemble stacking ML - ANN"
   ]
  },
  {
   "cell_type": "markdown",
   "id": "2c7a9662",
   "metadata": {},
   "source": [
    "#### Create New Input Features from stacking ensemble ML before ANN process for preparing testing data new input features"
   ]
  },
  {
   "cell_type": "code",
   "execution_count": 49,
   "id": "c595174c",
   "metadata": {},
   "outputs": [],
   "source": [
    "genetic_algorithm_new_input_testing_features_diagnosis_downsampling = create_new_input_features(\n",
    "    genetic_algorithm_ensemble_classifiers_diagnosis_downsampling, \n",
    "    diagnosis_X_test_original,\n",
    "    diagnosis_y_test_original\n",
    ")"
   ]
  },
  {
   "cell_type": "markdown",
   "id": "4744d4a6",
   "metadata": {},
   "source": [
    "#### Feed new testing input features into ANN pre-trained model"
   ]
  },
  {
   "cell_type": "code",
   "execution_count": 50,
   "id": "42371709",
   "metadata": {},
   "outputs": [
    {
     "name": "stdout",
     "output_type": "stream",
     "text": [
      "\t\t==============================\n",
      "\t\tHASIl UJI COBA HASIL PENGUJIAN DATA TESTING DIAGNOSIS BREAST CANCER (DOWNSAMPLING) + GENETIC ALGORITHM\n",
      "\t\t==============================\n",
      "\tAkurasi Score:  0.956140350877193\n",
      "\tMacro Recall Score:  0.9510317720275139\n",
      "\tMacro Precision Score:  0.9553571428571428\n",
      "\tMacro F1-score Score:  0.9531057178116\n",
      "\tMacro F2-score Score:  0.9518402814239212\n",
      "\tMacro F0.5-score Score:  0.9544350420467598\n",
      "\n",
      "\n",
      "              precision    recall  f1-score   support\n",
      "\n",
      "           0       0.96      0.97      0.97        71\n",
      "           1       0.95      0.93      0.94        43\n",
      "\n",
      "    accuracy                           0.96       114\n",
      "   macro avg       0.96      0.95      0.95       114\n",
      "weighted avg       0.96      0.96      0.96       114\n",
      "\n"
     ]
    },
    {
     "data": {
      "text/plain": [
       "<Figure size 1008x576 with 0 Axes>"
      ]
     },
     "metadata": {},
     "output_type": "display_data"
    },
    {
     "data": {
      "image/png": "[encoded data removed]",
      "text/plain": [
       "<Figure size 432x288 with 2 Axes>"
      ]
     },
     "metadata": {
      "needs_background": "light"
     },
     "output_type": "display_data"
    }
   ],
   "source": [
    "# split X and y from new_input_features before feeding to ANN\n",
    "new_X_test = genetic_algorithm_new_input_testing_features_diagnosis_downsampling.drop(['ground_truth'],axis=1)\n",
    "new_y_test = genetic_algorithm_new_input_testing_features_diagnosis_downsampling['ground_truth']\n",
    "\n",
    "# predict new X test using pre-trained ANN before\n",
    "predicted_test_downsampling = genetic_algorithm_ann_model_diagnosis_downsampling.predict(new_X_test)\n",
    "\n",
    "# print testing results\n",
    "print_model_experiment_results('Hasil Pengujian Data Testing Diagnosis Breast Cancer (Downsampling) + Genetic Algorithm', new_y_test, predicted_test_downsampling)"
   ]
  },
  {
   "cell_type": "markdown",
   "id": "0ec6d223",
   "metadata": {},
   "source": [
    "### Ensemble stacking ML - ANN (without GA)"
   ]
  },
  {
   "cell_type": "markdown",
   "id": "2a7c66c8",
   "metadata": {},
   "source": [
    "#### Create New Input Features from stacking ensemble ML before ANN process for preparing testing data new input features"
   ]
  },
  {
   "cell_type": "code",
   "execution_count": 51,
   "id": "52e7afc5",
   "metadata": {},
   "outputs": [],
   "source": [
    "new_input_testing_features_diagnosis_downsampling = create_new_input_features(\n",
    "    ensemble_classifiers_diagnosis_downsampling, \n",
    "    diagnosis_X_test_original,\n",
    "    diagnosis_y_test_original\n",
    ")"
   ]
  },
  {
   "cell_type": "markdown",
   "id": "624e747b",
   "metadata": {},
   "source": [
    "#### Feed new testing input features into ANN pre-trained model"
   ]
  },
  {
   "cell_type": "code",
   "execution_count": 52,
   "id": "07afabd2",
   "metadata": {},
   "outputs": [
    {
     "name": "stdout",
     "output_type": "stream",
     "text": [
      "\t\t==============================\n",
      "\t\tHASIl UJI COBA HASIL PENGUJIAN DATA TESTING DIAGNOSIS BREAST CANCER (DOWNSAMPLING)\n",
      "\t\t==============================\n",
      "\tAkurasi Score:  0.956140350877193\n",
      "\tMacro Recall Score:  0.9602030789387488\n",
      "\tMacro Precision Score:  0.9491687979539642\n",
      "\tMacro F1-score Score:  0.9539245008487591\n",
      "\tMacro F2-score Score:  0.9575036488740616\n",
      "\tMacro F0.5-score Score:  0.9508932584991203\n",
      "\n",
      "\n",
      "              precision    recall  f1-score   support\n",
      "\n",
      "           0       0.99      0.94      0.96        71\n",
      "           1       0.91      0.98      0.94        43\n",
      "\n",
      "    accuracy                           0.96       114\n",
      "   macro avg       0.95      0.96      0.95       114\n",
      "weighted avg       0.96      0.96      0.96       114\n",
      "\n"
     ]
    },
    {
     "data": {
      "text/plain": [
       "<Figure size 1008x576 with 0 Axes>"
      ]
     },
     "metadata": {},
     "output_type": "display_data"
    },
    {
     "data": {
      "image/png": "[encoded data removed]",
      "text/plain": [
       "<Figure size 432x288 with 2 Axes>"
      ]
     },
     "metadata": {
      "needs_background": "light"
     },
     "output_type": "display_data"
    }
   ],
   "source": [
    "# split X and y from new_input_features before feeding to ANN\n",
    "new_X_test = new_input_testing_features_diagnosis_downsampling.drop(['ground_truth'],axis=1)\n",
    "new_y_test = new_input_testing_features_diagnosis_downsampling['ground_truth']\n",
    "\n",
    "# predict new X test using pre-trained ANN before\n",
    "predicted_test_downsampling = ann_model_diagnosis_downsampling.predict(new_X_test)\n",
    "\n",
    "# print testing results\n",
    "print_model_experiment_results('Hasil Pengujian Data Testing Diagnosis Breast Cancer (Downsampling)', new_y_test, predicted_test_downsampling)"
   ]
  },
  {
   "cell_type": "code",
   "execution_count": null,
   "id": "4e791785",
   "metadata": {},
   "outputs": [],
   "source": []
  },
  {
   "cell_type": "code",
   "execution_count": null,
   "id": "0bf816ea",
   "metadata": {},
   "outputs": [],
   "source": []
  }
 ],
 "metadata": {
  "kernelspec": {
   "display_name": "S2_computational_intelligence_final_project",
   "language": "python",
   "name": "s2_computational_intelligence_final_project"
  },
  "language_info": {
   "codemirror_mode": {
    "name": "ipython",
    "version": 3
   },
   "file_extension": ".py",
   "mimetype": "text/x-python",
   "name": "python",
   "nbconvert_exporter": "python",
   "pygments_lexer": "ipython3",
   "version": "3.10.4"
  },
  "toc": {
   "base_numbering": 1,
   "nav_menu": {},
   "number_sections": true,
   "sideBar": true,
   "skip_h1_title": false,
   "title_cell": "Table of Contents",
   "title_sidebar": "Contents",
   "toc_cell": false,
   "toc_position": {
    "height": "calc(100% - 180px)",
    "left": "10px",
    "top": "150px",
    "width": "421.306px"
   },
   "toc_section_display": true,
   "toc_window_display": true
  }
 },
 "nbformat": 4,
 "nbformat_minor": 5
}
